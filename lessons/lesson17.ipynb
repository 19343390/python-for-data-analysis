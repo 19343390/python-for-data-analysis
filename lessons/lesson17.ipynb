{
 "cells": [
  {
   "cell_type": "markdown",
   "metadata": {},
   "source": [
    "## Lesson 17 - Statistics Packages\n",
    "\n",
    "In this lesson we'll consider some of the various statistics tools available in Python. Many packages provide statistical support: Pandas, Numpy, Scipy, and Scikit-Learn.\n",
    "\n",
    "You will probably have to install `scikit-learn` (`sklearn`) and `outlier_utils` (`outliers`) before proceeding:\n",
    "\n",
    "```\n",
    "conda install scikit-learn\n",
    "pip install outlier_utils\n",
    "```"
   ]
  },
  {
   "cell_type": "code",
   "execution_count": 1,
   "metadata": {
    "collapsed": false
   },
   "outputs": [],
   "source": [
    "# import required packages\n",
    "import pandas as pd\n",
    "import numpy as np\n",
    "import scipy\n",
    "from outliers import smirnov_grubbs as grubbs\n",
    "import sklearn\n",
    "import matplotlib.pyplot as plt\n",
    "import seaborn as sns\n",
    "%matplotlib inline"
   ]
  },
  {
   "cell_type": "code",
   "execution_count": 2,
   "metadata": {
    "collapsed": true
   },
   "outputs": [],
   "source": [
    "# set up pandas and seaborn environments\n",
    "pd.set_option('display.max_rows', 25)\n",
    "sns.set()\n",
    "sns.set_context('notebook')\n",
    "sns.set_palette('colorblind')"
   ]
  },
  {
   "cell_type": "markdown",
   "metadata": {},
   "source": [
    "### Basic statistics"
   ]
  },
  {
   "cell_type": "markdown",
   "metadata": {},
   "source": [
    "#### Basic stats with Pandas"
   ]
  },
  {
   "cell_type": "markdown",
   "metadata": {},
   "source": [
    "A large number of methods for computing descriptive statistics and other related operations on Series, DataFrame, and Panel. Most of these are aggregations (hence producing a lower-dimensional result) like `sum()`, `mean()`, and `quantile()`, but some of them, like `cumsum()` and `cumprod()`, produce an object of the same size. Generally speaking, these methods take an axis argument, just like `ndarray.{sum, std, ...}`, but the axis can be specified by name or integer:\n",
    "\n",
    "* Series: no axis argument needed\n",
    "* DataFrame: “index” (axis=0, default), “columns” (axis=1)\n",
    "* Panel: “items” (axis=0), “major” (axis=1, default), “minor” (axis=2)\n",
    "\n",
    "Function | Description\n",
    "--------- | ----------\n",
    "count | Number of non-null observations\n",
    "sum | Sum of values\n",
    "mean | Mean of values\n",
    "mad | Mean absolute deviation\n",
    "median | Arithmetic median of values\n",
    "min | Minimum\n",
    "max | Maximum\n",
    "mode | Mode\n",
    "abs | Absolute Value\n",
    "prod | Product of values\n",
    "std | Bessel-corrected sample standard deviation\n",
    "var | Unbiased variance\n",
    "sem | Standard error of the mean\n",
    "skew | Sample skewness (3rd moment)\n",
    "kurt | Sample kurtosis (4th moment)\n",
    "quantile | Sample quantile (value at %)\n",
    "cumsum | Cumulative sum\n",
    "cumprod | Cumulative product\n",
    "cummax | Cumulative maximum\n",
    "cummin | Cumulative minimum"
   ]
  },
  {
   "cell_type": "markdown",
   "metadata": {},
   "source": [
    "#### Example: Monthly precipitation in La Jolla from 2008 to 2016"
   ]
  },
  {
   "cell_type": "code",
   "execution_count": 3,
   "metadata": {
    "collapsed": true
   },
   "outputs": [],
   "source": [
    "# format the data: covert to datetime, average precipitation per month, get month and year, reset index\n",
    "df = pd.read_csv('../data/la_jolla_precip_monthly.csv', parse_dates=['DATE'])\n",
    "df = df.groupby('DATE').mean()\n",
    "df['MONTH'] = [x.month for x in df.index]\n",
    "df['YEAR'] = [x.year for x in df.index]\n",
    "df.reset_index(inplace=True)"
   ]
  },
  {
   "cell_type": "code",
   "execution_count": 4,
   "metadata": {
    "collapsed": false
   },
   "outputs": [
    {
     "data": {
      "text/html": [
       "<div>\n",
       "<style>\n",
       "    .dataframe thead tr:only-child th {\n",
       "        text-align: right;\n",
       "    }\n",
       "\n",
       "    .dataframe thead th {\n",
       "        text-align: left;\n",
       "    }\n",
       "\n",
       "    .dataframe tbody tr th {\n",
       "        vertical-align: top;\n",
       "    }\n",
       "</style>\n",
       "<table border=\"1\" class=\"dataframe\">\n",
       "  <thead>\n",
       "    <tr style=\"text-align: right;\">\n",
       "      <th></th>\n",
       "      <th>DATE</th>\n",
       "      <th>LATITUDE</th>\n",
       "      <th>LONGITUDE</th>\n",
       "      <th>ELEVATION</th>\n",
       "      <th>PRCP</th>\n",
       "      <th>MONTH</th>\n",
       "      <th>YEAR</th>\n",
       "    </tr>\n",
       "  </thead>\n",
       "  <tbody>\n",
       "    <tr>\n",
       "      <th>0</th>\n",
       "      <td>2008-12-01</td>\n",
       "      <td>32.82540</td>\n",
       "      <td>-117.2397</td>\n",
       "      <td>154.80</td>\n",
       "      <td>112.40</td>\n",
       "      <td>12</td>\n",
       "      <td>2008</td>\n",
       "    </tr>\n",
       "    <tr>\n",
       "      <th>1</th>\n",
       "      <td>2009-01-01</td>\n",
       "      <td>32.82540</td>\n",
       "      <td>-117.2397</td>\n",
       "      <td>154.80</td>\n",
       "      <td>6.90</td>\n",
       "      <td>1</td>\n",
       "      <td>2009</td>\n",
       "    </tr>\n",
       "    <tr>\n",
       "      <th>2</th>\n",
       "      <td>2009-02-01</td>\n",
       "      <td>32.82540</td>\n",
       "      <td>-117.2397</td>\n",
       "      <td>154.80</td>\n",
       "      <td>72.60</td>\n",
       "      <td>2</td>\n",
       "      <td>2009</td>\n",
       "    </tr>\n",
       "    <tr>\n",
       "      <th>3</th>\n",
       "      <td>2009-03-01</td>\n",
       "      <td>32.82555</td>\n",
       "      <td>-117.2449</td>\n",
       "      <td>152.25</td>\n",
       "      <td>6.10</td>\n",
       "      <td>3</td>\n",
       "      <td>2009</td>\n",
       "    </tr>\n",
       "    <tr>\n",
       "      <th>4</th>\n",
       "      <td>2009-04-01</td>\n",
       "      <td>32.82555</td>\n",
       "      <td>-117.2449</td>\n",
       "      <td>152.25</td>\n",
       "      <td>2.05</td>\n",
       "      <td>4</td>\n",
       "      <td>2009</td>\n",
       "    </tr>\n",
       "  </tbody>\n",
       "</table>\n",
       "</div>"
      ],
      "text/plain": [
       "        DATE  LATITUDE  LONGITUDE  ELEVATION    PRCP  MONTH  YEAR\n",
       "0 2008-12-01  32.82540  -117.2397     154.80  112.40     12  2008\n",
       "1 2009-01-01  32.82540  -117.2397     154.80    6.90      1  2009\n",
       "2 2009-02-01  32.82540  -117.2397     154.80   72.60      2  2009\n",
       "3 2009-03-01  32.82555  -117.2449     152.25    6.10      3  2009\n",
       "4 2009-04-01  32.82555  -117.2449     152.25    2.05      4  2009"
      ]
     },
     "execution_count": 4,
     "metadata": {},
     "output_type": "execute_result"
    }
   ],
   "source": [
    "# examine the resulting dataframe\n",
    "df.head()"
   ]
  },
  {
   "cell_type": "code",
   "execution_count": 5,
   "metadata": {
    "collapsed": false,
    "scrolled": false
   },
   "outputs": [
    {
     "data": {
      "image/png": "[encoded data removed]",
      "text/plain": [
       "<matplotlib.figure.Figure at 0x1a2086acf8>"
      ]
     },
     "metadata": {},
     "output_type": "display_data"
    }
   ],
   "source": [
    "# explore the data using a plot\n",
    "plt.plot(df.DATE, df.PRCP);"
   ]
  },
  {
   "cell_type": "code",
   "execution_count": 6,
   "metadata": {
    "collapsed": false
   },
   "outputs": [
    {
     "data": {
      "image/png": "[encoded data removed]",
      "text/plain": [
       "<matplotlib.figure.Figure at 0x1a20c07358>"
      ]
     },
     "metadata": {},
     "output_type": "display_data"
    }
   ],
   "source": [
    "# make sure our index is sequential\n",
    "plt.plot(df.index, df.PRCP);"
   ]
  },
  {
   "cell_type": "code",
   "execution_count": 7,
   "metadata": {
    "collapsed": false,
    "scrolled": true
   },
   "outputs": [
    {
     "data": {
      "text/html": [
       "<div>\n",
       "<style>\n",
       "    .dataframe thead tr:only-child th {\n",
       "        text-align: right;\n",
       "    }\n",
       "\n",
       "    .dataframe thead th {\n",
       "        text-align: left;\n",
       "    }\n",
       "\n",
       "    .dataframe tbody tr th {\n",
       "        vertical-align: top;\n",
       "    }\n",
       "</style>\n",
       "<table border=\"1\" class=\"dataframe\">\n",
       "  <thead>\n",
       "    <tr style=\"text-align: right;\">\n",
       "      <th></th>\n",
       "      <th>LATITUDE</th>\n",
       "      <th>LONGITUDE</th>\n",
       "      <th>ELEVATION</th>\n",
       "      <th>PRCP</th>\n",
       "      <th>MONTH</th>\n",
       "      <th>YEAR</th>\n",
       "    </tr>\n",
       "  </thead>\n",
       "  <tbody>\n",
       "    <tr>\n",
       "      <th>count</th>\n",
       "      <td>95.000000</td>\n",
       "      <td>95.000000</td>\n",
       "      <td>95.000000</td>\n",
       "      <td>95.000000</td>\n",
       "      <td>95.000000</td>\n",
       "      <td>95.000000</td>\n",
       "    </tr>\n",
       "    <tr>\n",
       "      <th>mean</th>\n",
       "      <td>32.830764</td>\n",
       "      <td>-117.245553</td>\n",
       "      <td>147.555789</td>\n",
       "      <td>20.878070</td>\n",
       "      <td>6.452632</td>\n",
       "      <td>2012.378947</td>\n",
       "    </tr>\n",
       "    <tr>\n",
       "      <th>std</th>\n",
       "      <td>0.007165</td>\n",
       "      <td>0.001824</td>\n",
       "      <td>6.192505</td>\n",
       "      <td>30.779847</td>\n",
       "      <td>3.457242</td>\n",
       "      <td>2.302538</td>\n",
       "    </tr>\n",
       "    <tr>\n",
       "      <th>min</th>\n",
       "      <td>32.825400</td>\n",
       "      <td>-117.250100</td>\n",
       "      <td>139.200000</td>\n",
       "      <td>0.000000</td>\n",
       "      <td>1.000000</td>\n",
       "      <td>2008.000000</td>\n",
       "    </tr>\n",
       "    <tr>\n",
       "      <th>25%</th>\n",
       "      <td>32.825550</td>\n",
       "      <td>-117.245833</td>\n",
       "      <td>139.200000</td>\n",
       "      <td>0.850000</td>\n",
       "      <td>3.500000</td>\n",
       "      <td>2010.000000</td>\n",
       "    </tr>\n",
       "    <tr>\n",
       "      <th>50%</th>\n",
       "      <td>32.825550</td>\n",
       "      <td>-117.244900</td>\n",
       "      <td>152.250000</td>\n",
       "      <td>8.750000</td>\n",
       "      <td>6.000000</td>\n",
       "      <td>2012.000000</td>\n",
       "    </tr>\n",
       "    <tr>\n",
       "      <th>75%</th>\n",
       "      <td>32.840533</td>\n",
       "      <td>-117.244900</td>\n",
       "      <td>152.250000</td>\n",
       "      <td>27.116667</td>\n",
       "      <td>9.000000</td>\n",
       "      <td>2014.000000</td>\n",
       "    </tr>\n",
       "    <tr>\n",
       "      <th>max</th>\n",
       "      <td>32.840533</td>\n",
       "      <td>-117.239700</td>\n",
       "      <td>154.800000</td>\n",
       "      <td>166.200000</td>\n",
       "      <td>12.000000</td>\n",
       "      <td>2016.000000</td>\n",
       "    </tr>\n",
       "  </tbody>\n",
       "</table>\n",
       "</div>"
      ],
      "text/plain": [
       "        LATITUDE   LONGITUDE   ELEVATION        PRCP      MONTH         YEAR\n",
       "count  95.000000   95.000000   95.000000   95.000000  95.000000    95.000000\n",
       "mean   32.830764 -117.245553  147.555789   20.878070   6.452632  2012.378947\n",
       "std     0.007165    0.001824    6.192505   30.779847   3.457242     2.302538\n",
       "min    32.825400 -117.250100  139.200000    0.000000   1.000000  2008.000000\n",
       "25%    32.825550 -117.245833  139.200000    0.850000   3.500000  2010.000000\n",
       "50%    32.825550 -117.244900  152.250000    8.750000   6.000000  2012.000000\n",
       "75%    32.840533 -117.244900  152.250000   27.116667   9.000000  2014.000000\n",
       "max    32.840533 -117.239700  154.800000  166.200000  12.000000  2016.000000"
      ]
     },
     "execution_count": 7,
     "metadata": {},
     "output_type": "execute_result"
    }
   ],
   "source": [
    "# describe\n",
    "df.describe()"
   ]
  },
  {
   "cell_type": "code",
   "execution_count": 8,
   "metadata": {
    "collapsed": false
   },
   "outputs": [
    {
     "data": {
      "text/plain": [
       "20.878070175438598"
      ]
     },
     "execution_count": 8,
     "metadata": {},
     "output_type": "execute_result"
    }
   ],
   "source": [
    "# mean\n",
    "df.PRCP.mean()"
   ]
  },
  {
   "cell_type": "code",
   "execution_count": 9,
   "metadata": {
    "collapsed": false
   },
   "outputs": [
    {
     "data": {
      "text/plain": [
       "30.779846675482016"
      ]
     },
     "execution_count": 9,
     "metadata": {},
     "output_type": "execute_result"
    }
   ],
   "source": [
    "# std\n",
    "df.PRCP.std()"
   ]
  },
  {
   "cell_type": "code",
   "execution_count": 10,
   "metadata": {
    "collapsed": false
   },
   "outputs": [
    {
     "data": {
      "text/plain": [
       "(0.8500000000000001, 8.75, 27.116666666666667)"
      ]
     },
     "execution_count": 10,
     "metadata": {},
     "output_type": "execute_result"
    }
   ],
   "source": [
    "# quantile\n",
    "df.PRCP.quantile(0.25), df.PRCP.quantile(0.5), df.PRCP.quantile(0.75)"
   ]
  },
  {
   "cell_type": "code",
   "execution_count": 11,
   "metadata": {
    "collapsed": false
   },
   "outputs": [
    {
     "data": {
      "text/plain": [
       "(0.0, 7)"
      ]
     },
     "execution_count": 11,
     "metadata": {},
     "output_type": "execute_result"
    }
   ],
   "source": [
    "# min\n",
    "df.PRCP.min(), df.PRCP.idxmin()"
   ]
  },
  {
   "cell_type": "code",
   "execution_count": 12,
   "metadata": {
    "collapsed": false
   },
   "outputs": [
    {
     "data": {
      "text/plain": [
       "(166.2, 166.0, 24)"
      ]
     },
     "execution_count": 12,
     "metadata": {},
     "output_type": "execute_result"
    }
   ],
   "source": [
    "# max (with rounding)\n",
    "df.PRCP.max(), df.PRCP.max().round(), df.PRCP.idxmax()"
   ]
  },
  {
   "cell_type": "code",
   "execution_count": 13,
   "metadata": {
    "collapsed": false
   },
   "outputs": [
    {
     "data": {
      "text/plain": [
       "0      112.400000\n",
       "1      119.300000\n",
       "2      191.900000\n",
       "3      198.000000\n",
       "4      200.050000\n",
       "5      204.900000\n",
       "6      208.750000\n",
       "7      208.750000\n",
       "8      209.150000\n",
       "9      209.700000\n",
       "10     210.200000\n",
       "11     216.333333\n",
       "         ...     \n",
       "83    1799.216667\n",
       "84    1822.066667\n",
       "85    1889.566667\n",
       "86    1900.916667\n",
       "87    1926.016667\n",
       "88    1940.016667\n",
       "89    1966.216667\n",
       "90    1966.816667\n",
       "91    1966.816667\n",
       "92    1967.616667\n",
       "93    1979.516667\n",
       "94    1983.416667\n",
       "Name: PRCP, Length: 95, dtype: float64"
      ]
     },
     "execution_count": 13,
     "metadata": {},
     "output_type": "execute_result"
    }
   ],
   "source": [
    "# cumsum\n",
    "df.PRCP.cumsum()"
   ]
  },
  {
   "cell_type": "code",
   "execution_count": 14,
   "metadata": {
    "collapsed": false
   },
   "outputs": [
    {
     "data": {
      "text/plain": [
       "0.0      16\n",
       "1.0      12\n",
       "2.0       5\n",
       "9.0       4\n",
       "7.0       3\n",
       "25.0      3\n",
       "5.0       3\n",
       "4.0       3\n",
       "12.0      3\n",
       "11.0      2\n",
       "24.0      2\n",
       "29.0      2\n",
       "         ..\n",
       "14.0      1\n",
       "67.0      1\n",
       "40.0      1\n",
       "87.0      1\n",
       "28.0      1\n",
       "86.0      1\n",
       "18.0      1\n",
       "3.0       1\n",
       "38.0      1\n",
       "48.0      1\n",
       "68.0      1\n",
       "112.0     1\n",
       "Name: PRCP, Length: 42, dtype: int64"
      ]
     },
     "execution_count": 14,
     "metadata": {},
     "output_type": "execute_result"
    }
   ],
   "source": [
    "# value_counts\n",
    "df.PRCP.round().value_counts()"
   ]
  },
  {
   "cell_type": "markdown",
   "metadata": {},
   "source": [
    "### Regression analysis"
   ]
  },
  {
   "cell_type": "markdown",
   "metadata": {},
   "source": [
    "#### Regression with Seaborn"
   ]
  },
  {
   "cell_type": "code",
   "execution_count": 15,
   "metadata": {
    "collapsed": false,
    "scrolled": true
   },
   "outputs": [
    {
     "name": "stderr",
     "output_type": "stream",
     "text": [
      "/Users/luke/miniconda3/envs/python3/lib/python3.5/site-packages/scipy/stats/stats.py:1713: FutureWarning: Using a non-tuple sequence for multidimensional indexing is deprecated; use `arr[tuple(seq)]` instead of `arr[seq]`. In the future this will be interpreted as an array index, `arr[np.array(seq)]`, which will result either in an error or a different result.\n",
      "  return np.add.reduce(sorted[indexer] * weights, axis=axis) / sumval\n"
     ]
    },
    {
     "data": {
      "text/plain": [
       "<matplotlib.axes._subplots.AxesSubplot at 0x1a20c645c0>"
      ]
     },
     "execution_count": 15,
     "metadata": {},
     "output_type": "execute_result"
    },
    {
     "data": {
      "image/png": "[encoded data removed]",
      "text/plain": [
       "<matplotlib.figure.Figure at 0x1a20c07fd0>"
      ]
     },
     "metadata": {},
     "output_type": "display_data"
    }
   ],
   "source": [
    "sns.regplot(x='MONTH', y='PRCP', data=df, order=1)"
   ]
  },
  {
   "cell_type": "code",
   "execution_count": 16,
   "metadata": {
    "collapsed": false,
    "scrolled": false
   },
   "outputs": [
    {
     "name": "stderr",
     "output_type": "stream",
     "text": [
      "/Users/luke/miniconda3/envs/python3/lib/python3.5/site-packages/scipy/stats/stats.py:1713: FutureWarning: Using a non-tuple sequence for multidimensional indexing is deprecated; use `arr[tuple(seq)]` instead of `arr[seq]`. In the future this will be interpreted as an array index, `arr[np.array(seq)]`, which will result either in an error or a different result.\n",
      "  return np.add.reduce(sorted[indexer] * weights, axis=axis) / sumval\n"
     ]
    },
    {
     "data": {
      "text/plain": [
       "<matplotlib.axes._subplots.AxesSubplot at 0x1a20c71128>"
      ]
     },
     "execution_count": 16,
     "metadata": {},
     "output_type": "execute_result"
    },
    {
     "data": {
      "image/png": "[encoded data removed]",
      "text/plain": [
       "<matplotlib.figure.Figure at 0x1a20ec5128>"
      ]
     },
     "metadata": {},
     "output_type": "display_data"
    }
   ],
   "source": [
    "sns.regplot(x='MONTH', y='PRCP', data=df, order=2)"
   ]
  },
  {
   "cell_type": "markdown",
   "metadata": {},
   "source": [
    "Seaborn is handy to generate plots, but it doesn't provide easy access to the coefficients. For more control, we can use Numpy, Scipy, and other statistics packages."
   ]
  },
  {
   "cell_type": "markdown",
   "metadata": {},
   "source": [
    "#### Regression with Numpy"
   ]
  },
  {
   "cell_type": "markdown",
   "metadata": {},
   "source": [
    "##### np.polyfit - least squares polynomial fit (1st order)"
   ]
  },
  {
   "cell_type": "code",
   "execution_count": 17,
   "metadata": {
    "collapsed": true
   },
   "outputs": [],
   "source": [
    "# 1st order with np.polyfit\n",
    "m, b = np.polyfit(df.MONTH, df.PRCP, 1)"
   ]
  },
  {
   "cell_type": "code",
   "execution_count": 18,
   "metadata": {
    "collapsed": false,
    "scrolled": false
   },
   "outputs": [
    {
     "data": {
      "image/png": "[encoded data removed]",
      "text/plain": [
       "<matplotlib.figure.Figure at 0x1a20efab00>"
      ]
     },
     "metadata": {},
     "output_type": "display_data"
    }
   ],
   "source": [
    "# plot scatter and polyfit\n",
    "plt.scatter(df.MONTH, df.PRCP)\n",
    "plt.plot(df.MONTH, m*df.MONTH + b, '-');"
   ]
  },
  {
   "cell_type": "code",
   "execution_count": 19,
   "metadata": {
    "collapsed": false
   },
   "outputs": [
    {
     "data": {
      "image/png": "[encoded data removed]",
      "text/plain": [
       "<matplotlib.figure.Figure at 0x1a210f3d68>"
      ]
     },
     "metadata": {},
     "output_type": "display_data"
    }
   ],
   "source": [
    "# sort DataFrame by month, then re-plot\n",
    "df.sort_values('MONTH', inplace=True)\n",
    "plt.scatter(df.MONTH, df.PRCP)\n",
    "plt.plot(df.MONTH, m*df.MONTH + b, '-');"
   ]
  },
  {
   "cell_type": "markdown",
   "metadata": {},
   "source": [
    "##### np.polyfit - least squares polynomial fit (2nd order)"
   ]
  },
  {
   "cell_type": "code",
   "execution_count": 20,
   "metadata": {
    "collapsed": true
   },
   "outputs": [],
   "source": [
    "# 2nd order with np.polyfit\n",
    "p = np.polyfit(df.MONTH, df.PRCP, 2)"
   ]
  },
  {
   "cell_type": "code",
   "execution_count": 21,
   "metadata": {
    "collapsed": false
   },
   "outputs": [
    {
     "data": {
      "text/plain": [
       "array([  1.68178223, -21.14169112,  67.38422486])"
      ]
     },
     "execution_count": 21,
     "metadata": {},
     "output_type": "execute_result"
    }
   ],
   "source": [
    "# values of p are in decending orders\n",
    "p"
   ]
  },
  {
   "cell_type": "code",
   "execution_count": 22,
   "metadata": {
    "collapsed": false,
    "scrolled": false
   },
   "outputs": [
    {
     "data": {
      "text/plain": [
       "array([ 1.        ,  1.2244898 ,  1.44897959,  1.67346939,  1.89795918,\n",
       "        2.12244898,  2.34693878,  2.57142857,  2.79591837,  3.02040816,\n",
       "        3.24489796,  3.46938776,  3.69387755,  3.91836735,  4.14285714,\n",
       "        4.36734694,  4.59183673,  4.81632653,  5.04081633,  5.26530612,\n",
       "        5.48979592,  5.71428571,  5.93877551,  6.16326531,  6.3877551 ,\n",
       "        6.6122449 ,  6.83673469,  7.06122449,  7.28571429,  7.51020408,\n",
       "        7.73469388,  7.95918367,  8.18367347,  8.40816327,  8.63265306,\n",
       "        8.85714286,  9.08163265,  9.30612245,  9.53061224,  9.75510204,\n",
       "        9.97959184, 10.20408163, 10.42857143, 10.65306122, 10.87755102,\n",
       "       11.10204082, 11.32653061, 11.55102041, 11.7755102 , 12.        ])"
      ]
     },
     "execution_count": 22,
     "metadata": {},
     "output_type": "execute_result"
    }
   ],
   "source": [
    "# create a finely spaced array\n",
    "x1 = np.linspace(1,12)\n",
    "x1"
   ]
  },
  {
   "cell_type": "code",
   "execution_count": 23,
   "metadata": {
    "collapsed": false
   },
   "outputs": [
    {
     "data": {
      "text/plain": [
       "array([47.92431598, 44.01806249, 40.28131809, 36.71408276, 33.31635652,\n",
       "       30.08813935, 27.02943126, 24.14023226, 21.42054233, 18.87036149,\n",
       "       16.48968972, 14.27852703, 12.23687342, 10.36472889,  8.66209345,\n",
       "        7.12896708,  5.76534979,  4.57124158,  3.54664245,  2.6915524 ,\n",
       "        2.00597143,  1.48989954,  1.14333673,  0.966283  ,  0.95873835,\n",
       "        1.12070278,  1.45217628,  1.95315887,  2.62365054,  3.46365129,\n",
       "        4.47316111,  5.65218002,  7.00070801,  8.51874507, 10.20629122,\n",
       "       12.06334644, 14.08991075, 16.28598413, 18.6515666 , 21.18665814,\n",
       "       23.89125877, 26.76536847, 29.80898725, 33.02211512, 36.40475206,\n",
       "       39.95689808, 43.67855318, 47.56971737, 51.63039063, 55.86057297])"
      ]
     },
     "execution_count": 23,
     "metadata": {},
     "output_type": "execute_result"
    }
   ],
   "source": [
    "# calculate the y vector for the fit curve \n",
    "y1 = np.polyval(p, x1)\n",
    "y1"
   ]
  },
  {
   "cell_type": "code",
   "execution_count": 24,
   "metadata": {
    "collapsed": false,
    "scrolled": false
   },
   "outputs": [
    {
     "data": {
      "image/png": "[encoded data removed]",
      "text/plain": [
       "<matplotlib.figure.Figure at 0x1a21200400>"
      ]
     },
     "metadata": {},
     "output_type": "display_data"
    }
   ],
   "source": [
    "plt.scatter(df.MONTH, df.PRCP)\n",
    "plt.plot(x1, y1, '-');"
   ]
  },
  {
   "cell_type": "code",
   "execution_count": 25,
   "metadata": {
    "collapsed": true
   },
   "outputs": [],
   "source": [
    "# 3rd order with np.polyfit\n",
    "p = np.polyfit(df.MONTH, df.PRCP, 3)"
   ]
  },
  {
   "cell_type": "code",
   "execution_count": 26,
   "metadata": {
    "collapsed": true
   },
   "outputs": [],
   "source": [
    "y1 = np.polyval(p, x1)"
   ]
  },
  {
   "cell_type": "code",
   "execution_count": 27,
   "metadata": {
    "collapsed": false,
    "scrolled": false
   },
   "outputs": [
    {
     "data": {
      "image/png": "[encoded data removed]",
      "text/plain": [
       "<matplotlib.figure.Figure at 0x1a2130d908>"
      ]
     },
     "metadata": {},
     "output_type": "display_data"
    }
   ],
   "source": [
    "plt.scatter(df.MONTH, df.PRCP)\n",
    "plt.plot(x1, y1, '-');"
   ]
  },
  {
   "cell_type": "markdown",
   "metadata": {},
   "source": [
    "#### Fitting time series to a sinusoidal wave"
   ]
  },
  {
   "cell_type": "code",
   "execution_count": 28,
   "metadata": {
    "collapsed": false
   },
   "outputs": [
    {
     "data": {
      "image/png": "[encoded data removed]",
      "text/plain": [
       "<matplotlib.figure.Figure at 0x1a209506a0>"
      ]
     },
     "metadata": {},
     "output_type": "display_data"
    }
   ],
   "source": [
    "# sine wave refresher\n",
    "period = 4*np.pi\n",
    "freq = (2*np.pi)/period\n",
    "phase = 0\n",
    "amplitude = .5\n",
    "offset = 1\n",
    "x1 = np.linspace(0, 24, num=2000)\n",
    "y1 = np.sin(x1 * freq + phase) * amplitude + offset\n",
    "\n",
    "fig, ax = plt.subplots()\n",
    "ax.plot(x1, y1)\n",
    "ax.set_xticks([2*np.pi, 4*np.pi, 6*np.pi])\n",
    "ax.set_xticklabels(['2$\\pi$', '4$\\pi$', '6$\\pi$']);"
   ]
  },
  {
   "cell_type": "code",
   "execution_count": 29,
   "metadata": {
    "collapsed": false
   },
   "outputs": [
    {
     "data": {
      "text/html": [
       "<div>\n",
       "<style>\n",
       "    .dataframe thead tr:only-child th {\n",
       "        text-align: right;\n",
       "    }\n",
       "\n",
       "    .dataframe thead th {\n",
       "        text-align: left;\n",
       "    }\n",
       "\n",
       "    .dataframe tbody tr th {\n",
       "        vertical-align: top;\n",
       "    }\n",
       "</style>\n",
       "<table border=\"1\" class=\"dataframe\">\n",
       "  <thead>\n",
       "    <tr style=\"text-align: right;\">\n",
       "      <th></th>\n",
       "      <th>DATE</th>\n",
       "      <th>LATITUDE</th>\n",
       "      <th>LONGITUDE</th>\n",
       "      <th>ELEVATION</th>\n",
       "      <th>PRCP</th>\n",
       "      <th>MONTH</th>\n",
       "      <th>YEAR</th>\n",
       "    </tr>\n",
       "  </thead>\n",
       "  <tbody>\n",
       "    <tr>\n",
       "      <th>0</th>\n",
       "      <td>2008-12-01</td>\n",
       "      <td>32.82540</td>\n",
       "      <td>-117.2397</td>\n",
       "      <td>154.80</td>\n",
       "      <td>112.40</td>\n",
       "      <td>12</td>\n",
       "      <td>2008</td>\n",
       "    </tr>\n",
       "    <tr>\n",
       "      <th>1</th>\n",
       "      <td>2009-01-01</td>\n",
       "      <td>32.82540</td>\n",
       "      <td>-117.2397</td>\n",
       "      <td>154.80</td>\n",
       "      <td>6.90</td>\n",
       "      <td>1</td>\n",
       "      <td>2009</td>\n",
       "    </tr>\n",
       "    <tr>\n",
       "      <th>2</th>\n",
       "      <td>2009-02-01</td>\n",
       "      <td>32.82540</td>\n",
       "      <td>-117.2397</td>\n",
       "      <td>154.80</td>\n",
       "      <td>72.60</td>\n",
       "      <td>2</td>\n",
       "      <td>2009</td>\n",
       "    </tr>\n",
       "    <tr>\n",
       "      <th>3</th>\n",
       "      <td>2009-03-01</td>\n",
       "      <td>32.82555</td>\n",
       "      <td>-117.2449</td>\n",
       "      <td>152.25</td>\n",
       "      <td>6.10</td>\n",
       "      <td>3</td>\n",
       "      <td>2009</td>\n",
       "    </tr>\n",
       "    <tr>\n",
       "      <th>4</th>\n",
       "      <td>2009-04-01</td>\n",
       "      <td>32.82555</td>\n",
       "      <td>-117.2449</td>\n",
       "      <td>152.25</td>\n",
       "      <td>2.05</td>\n",
       "      <td>4</td>\n",
       "      <td>2009</td>\n",
       "    </tr>\n",
       "  </tbody>\n",
       "</table>\n",
       "</div>"
      ],
      "text/plain": [
       "        DATE  LATITUDE  LONGITUDE  ELEVATION    PRCP  MONTH  YEAR\n",
       "0 2008-12-01  32.82540  -117.2397     154.80  112.40     12  2008\n",
       "1 2009-01-01  32.82540  -117.2397     154.80    6.90      1  2009\n",
       "2 2009-02-01  32.82540  -117.2397     154.80   72.60      2  2009\n",
       "3 2009-03-01  32.82555  -117.2449     152.25    6.10      3  2009\n",
       "4 2009-04-01  32.82555  -117.2449     152.25    2.05      4  2009"
      ]
     },
     "execution_count": 29,
     "metadata": {},
     "output_type": "execute_result"
    }
   ],
   "source": [
    "# we are going to use the numerical index for our \"t\" variable\n",
    "# make sure our index is sequential (December 2008 is zero)\n",
    "df.sort_index(inplace=True)\n",
    "df.head()"
   ]
  },
  {
   "cell_type": "code",
   "execution_count": 30,
   "metadata": {
    "collapsed": false
   },
   "outputs": [
    {
     "data": {
      "image/png": "[encoded data removed]",
      "text/plain": [
       "<matplotlib.figure.Figure at 0x1a21342e10>"
      ]
     },
     "metadata": {},
     "output_type": "display_data"
    }
   ],
   "source": [
    "plt.scatter(df.index, df.PRCP)\n",
    "plt.xticks(np.arange(0, df.index.max(), 12));"
   ]
  },
  {
   "cell_type": "code",
   "execution_count": 31,
   "metadata": {
    "collapsed": true
   },
   "outputs": [],
   "source": [
    "# store our values as new variables\n",
    "t = df.index\n",
    "data = df.PRCP"
   ]
  },
  {
   "cell_type": "code",
   "execution_count": 32,
   "metadata": {
    "collapsed": true
   },
   "outputs": [],
   "source": [
    "# guess the sine wave properties\n",
    "guess_period = 12\n",
    "guess_freq = (2*np.pi)/guess_period\n",
    "guess_phase = 0\n",
    "guess_amplitude = 10\n",
    "guess_offset = 10\n",
    "\n",
    "p0 = [guess_freq, guess_amplitude, guess_phase, guess_offset]"
   ]
  },
  {
   "cell_type": "code",
   "execution_count": 33,
   "metadata": {
    "collapsed": true
   },
   "outputs": [],
   "source": [
    "# create the function we want to fit\n",
    "def my_sin(x, freq, amplitude, phase, offset):\n",
    "    return np.sin(x * freq + phase) * amplitude + offset"
   ]
  },
  {
   "cell_type": "code",
   "execution_count": 34,
   "metadata": {
    "collapsed": true
   },
   "outputs": [],
   "source": [
    "# now do the fit\n",
    "fit = scipy.optimize.curve_fit(my_sin, t, data, p0=p0)"
   ]
  },
  {
   "cell_type": "code",
   "execution_count": 35,
   "metadata": {
    "collapsed": true
   },
   "outputs": [],
   "source": [
    "# we'll use this to plot our first estimate. This might already be good enough for you\n",
    "data_first_guess = my_sin(t, *p0)"
   ]
  },
  {
   "cell_type": "code",
   "execution_count": 36,
   "metadata": {
    "collapsed": true
   },
   "outputs": [],
   "source": [
    "# recreate the fitted curve using the optimized parameters\n",
    "data_fit = my_sin(t, *fit[0])"
   ]
  },
  {
   "cell_type": "code",
   "execution_count": 37,
   "metadata": {
    "collapsed": false,
    "scrolled": true
   },
   "outputs": [
    {
     "data": {
      "image/png": "[encoded data removed]",
      "text/plain": [
       "<matplotlib.figure.Figure at 0x1a2197ca90>"
      ]
     },
     "metadata": {},
     "output_type": "display_data"
    }
   ],
   "source": [
    "plt.plot(data, '.')\n",
    "plt.plot(data_fit, label='after fitting')\n",
    "plt.plot(data_first_guess, label='first guess')\n",
    "plt.xticks(np.arange(0, df.index.max(), 12))\n",
    "plt.legend();"
   ]
  },
  {
   "cell_type": "markdown",
   "metadata": {},
   "source": [
    "#### Regression with Scipy"
   ]
  },
  {
   "cell_type": "markdown",
   "metadata": {},
   "source": [
    "#### Example: Moons of the Solar System"
   ]
  },
  {
   "cell_type": "code",
   "execution_count": 38,
   "metadata": {
    "collapsed": false
   },
   "outputs": [
    {
     "data": {
      "text/html": [
       "<div>\n",
       "<style>\n",
       "    .dataframe thead tr:only-child th {\n",
       "        text-align: right;\n",
       "    }\n",
       "\n",
       "    .dataframe thead th {\n",
       "        text-align: left;\n",
       "    }\n",
       "\n",
       "    .dataframe tbody tr th {\n",
       "        vertical-align: top;\n",
       "    }\n",
       "</style>\n",
       "<table border=\"1\" class=\"dataframe\">\n",
       "  <thead>\n",
       "    <tr style=\"text-align: right;\">\n",
       "      <th></th>\n",
       "      <th>moon_name</th>\n",
       "      <th>planet_name</th>\n",
       "      <th>moon_planet_distance_km</th>\n",
       "      <th>moon_diameter_km</th>\n",
       "      <th>planet_diameter_km</th>\n",
       "      <th>planet_sun_distance_km</th>\n",
       "      <th>planet_sun_distance_au</th>\n",
       "      <th>moon_volume_km3</th>\n",
       "      <th>planet_volume_km3</th>\n",
       "    </tr>\n",
       "  </thead>\n",
       "  <tbody>\n",
       "    <tr>\n",
       "      <th>0</th>\n",
       "      <td>Moon</td>\n",
       "      <td>Earth</td>\n",
       "      <td>384000</td>\n",
       "      <td>3476</td>\n",
       "      <td>12742</td>\n",
       "      <td>1.495979e+08</td>\n",
       "      <td>1.000</td>\n",
       "      <td>2.199064e+10</td>\n",
       "      <td>1.083207e+12</td>\n",
       "    </tr>\n",
       "    <tr>\n",
       "      <th>1</th>\n",
       "      <td>Deimos</td>\n",
       "      <td>Mars</td>\n",
       "      <td>9270</td>\n",
       "      <td>20</td>\n",
       "      <td>6779</td>\n",
       "      <td>2.281368e+08</td>\n",
       "      <td>1.525</td>\n",
       "      <td>4.188790e+03</td>\n",
       "      <td>1.631156e+11</td>\n",
       "    </tr>\n",
       "    <tr>\n",
       "      <th>2</th>\n",
       "      <td>Phobos</td>\n",
       "      <td>Mars</td>\n",
       "      <td>23460</td>\n",
       "      <td>8</td>\n",
       "      <td>6779</td>\n",
       "      <td>2.281368e+08</td>\n",
       "      <td>1.525</td>\n",
       "      <td>2.680826e+02</td>\n",
       "      <td>1.631156e+11</td>\n",
       "    </tr>\n",
       "    <tr>\n",
       "      <th>3</th>\n",
       "      <td>Callisto</td>\n",
       "      <td>Jupiter</td>\n",
       "      <td>1883000</td>\n",
       "      <td>4800</td>\n",
       "      <td>139822</td>\n",
       "      <td>7.786569e+08</td>\n",
       "      <td>5.205</td>\n",
       "      <td>5.790584e+10</td>\n",
       "      <td>1.431282e+15</td>\n",
       "    </tr>\n",
       "    <tr>\n",
       "      <th>4</th>\n",
       "      <td>Europa</td>\n",
       "      <td>Jupiter</td>\n",
       "      <td>670900</td>\n",
       "      <td>3126</td>\n",
       "      <td>139822</td>\n",
       "      <td>7.786569e+08</td>\n",
       "      <td>5.205</td>\n",
       "      <td>1.599431e+10</td>\n",
       "      <td>1.431282e+15</td>\n",
       "    </tr>\n",
       "    <tr>\n",
       "      <th>5</th>\n",
       "      <td>Ganymede</td>\n",
       "      <td>Jupiter</td>\n",
       "      <td>1070000</td>\n",
       "      <td>5276</td>\n",
       "      <td>139822</td>\n",
       "      <td>7.786569e+08</td>\n",
       "      <td>5.205</td>\n",
       "      <td>7.689763e+10</td>\n",
       "      <td>1.431282e+15</td>\n",
       "    </tr>\n",
       "    <tr>\n",
       "      <th>6</th>\n",
       "      <td>Io</td>\n",
       "      <td>Jupiter</td>\n",
       "      <td>421600</td>\n",
       "      <td>3629</td>\n",
       "      <td>139822</td>\n",
       "      <td>7.786569e+08</td>\n",
       "      <td>5.205</td>\n",
       "      <td>2.502416e+10</td>\n",
       "      <td>1.431282e+15</td>\n",
       "    </tr>\n",
       "    <tr>\n",
       "      <th>7</th>\n",
       "      <td>Dione</td>\n",
       "      <td>Saturn</td>\n",
       "      <td>377400</td>\n",
       "      <td>1120</td>\n",
       "      <td>116464</td>\n",
       "      <td>1.427912e+09</td>\n",
       "      <td>9.545</td>\n",
       "      <td>7.356186e+08</td>\n",
       "      <td>8.271299e+14</td>\n",
       "    </tr>\n",
       "    <tr>\n",
       "      <th>8</th>\n",
       "      <td>Enceladus</td>\n",
       "      <td>Saturn</td>\n",
       "      <td>238020</td>\n",
       "      <td>498</td>\n",
       "      <td>116464</td>\n",
       "      <td>1.427912e+09</td>\n",
       "      <td>9.545</td>\n",
       "      <td>6.466759e+07</td>\n",
       "      <td>8.271299e+14</td>\n",
       "    </tr>\n",
       "    <tr>\n",
       "      <th>9</th>\n",
       "      <td>Hyperion</td>\n",
       "      <td>Saturn</td>\n",
       "      <td>1481000</td>\n",
       "      <td>226</td>\n",
       "      <td>116464</td>\n",
       "      <td>1.427912e+09</td>\n",
       "      <td>9.545</td>\n",
       "      <td>6.043993e+06</td>\n",
       "      <td>8.271299e+14</td>\n",
       "    </tr>\n",
       "    <tr>\n",
       "      <th>10</th>\n",
       "      <td>Iapetus</td>\n",
       "      <td>Saturn</td>\n",
       "      <td>3561300</td>\n",
       "      <td>1436</td>\n",
       "      <td>116464</td>\n",
       "      <td>1.427912e+09</td>\n",
       "      <td>9.545</td>\n",
       "      <td>1.550465e+09</td>\n",
       "      <td>8.271299e+14</td>\n",
       "    </tr>\n",
       "    <tr>\n",
       "      <th>11</th>\n",
       "      <td>Mimas</td>\n",
       "      <td>Saturn</td>\n",
       "      <td>185520</td>\n",
       "      <td>398</td>\n",
       "      <td>116464</td>\n",
       "      <td>1.427912e+09</td>\n",
       "      <td>9.545</td>\n",
       "      <td>3.301018e+07</td>\n",
       "      <td>8.271299e+14</td>\n",
       "    </tr>\n",
       "    <tr>\n",
       "      <th>12</th>\n",
       "      <td>Phoebe</td>\n",
       "      <td>Saturn</td>\n",
       "      <td>12952000</td>\n",
       "      <td>220</td>\n",
       "      <td>116464</td>\n",
       "      <td>1.427912e+09</td>\n",
       "      <td>9.545</td>\n",
       "      <td>5.575280e+06</td>\n",
       "      <td>8.271299e+14</td>\n",
       "    </tr>\n",
       "    <tr>\n",
       "      <th>13</th>\n",
       "      <td>Rhea</td>\n",
       "      <td>Saturn</td>\n",
       "      <td>527040</td>\n",
       "      <td>1528</td>\n",
       "      <td>116464</td>\n",
       "      <td>1.427912e+09</td>\n",
       "      <td>9.545</td>\n",
       "      <td>1.867965e+09</td>\n",
       "      <td>8.271299e+14</td>\n",
       "    </tr>\n",
       "    <tr>\n",
       "      <th>14</th>\n",
       "      <td>Tethys</td>\n",
       "      <td>Saturn</td>\n",
       "      <td>294660</td>\n",
       "      <td>1060</td>\n",
       "      <td>116464</td>\n",
       "      <td>1.427912e+09</td>\n",
       "      <td>9.545</td>\n",
       "      <td>6.236145e+08</td>\n",
       "      <td>8.271299e+14</td>\n",
       "    </tr>\n",
       "    <tr>\n",
       "      <th>15</th>\n",
       "      <td>Titan</td>\n",
       "      <td>Saturn</td>\n",
       "      <td>1221850</td>\n",
       "      <td>5150</td>\n",
       "      <td>116464</td>\n",
       "      <td>1.427912e+09</td>\n",
       "      <td>9.545</td>\n",
       "      <td>7.151881e+10</td>\n",
       "      <td>8.271299e+14</td>\n",
       "    </tr>\n",
       "    <tr>\n",
       "      <th>16</th>\n",
       "      <td>Ariel</td>\n",
       "      <td>Uranus</td>\n",
       "      <td>191240</td>\n",
       "      <td>1160</td>\n",
       "      <td>50724</td>\n",
       "      <td>2.872279e+09</td>\n",
       "      <td>19.200</td>\n",
       "      <td>8.172832e+08</td>\n",
       "      <td>6.833436e+13</td>\n",
       "    </tr>\n",
       "    <tr>\n",
       "      <th>17</th>\n",
       "      <td>Miranda</td>\n",
       "      <td>Uranus</td>\n",
       "      <td>129780</td>\n",
       "      <td>472</td>\n",
       "      <td>50724</td>\n",
       "      <td>2.872279e+09</td>\n",
       "      <td>19.200</td>\n",
       "      <td>5.505853e+07</td>\n",
       "      <td>6.833436e+13</td>\n",
       "    </tr>\n",
       "    <tr>\n",
       "      <th>18</th>\n",
       "      <td>Oberon</td>\n",
       "      <td>Uranus</td>\n",
       "      <td>582600</td>\n",
       "      <td>1526</td>\n",
       "      <td>50724</td>\n",
       "      <td>2.872279e+09</td>\n",
       "      <td>19.200</td>\n",
       "      <td>1.860639e+09</td>\n",
       "      <td>6.833436e+13</td>\n",
       "    </tr>\n",
       "    <tr>\n",
       "      <th>19</th>\n",
       "      <td>Titania</td>\n",
       "      <td>Uranus</td>\n",
       "      <td>435840</td>\n",
       "      <td>1580</td>\n",
       "      <td>50724</td>\n",
       "      <td>2.872279e+09</td>\n",
       "      <td>19.200</td>\n",
       "      <td>2.065237e+09</td>\n",
       "      <td>6.833436e+13</td>\n",
       "    </tr>\n",
       "    <tr>\n",
       "      <th>20</th>\n",
       "      <td>Umbriel</td>\n",
       "      <td>Uranus</td>\n",
       "      <td>265970</td>\n",
       "      <td>1190</td>\n",
       "      <td>50724</td>\n",
       "      <td>2.872279e+09</td>\n",
       "      <td>19.200</td>\n",
       "      <td>8.823472e+08</td>\n",
       "      <td>6.833436e+13</td>\n",
       "    </tr>\n",
       "    <tr>\n",
       "      <th>21</th>\n",
       "      <td>Nereid</td>\n",
       "      <td>Neptune</td>\n",
       "      <td>5513400</td>\n",
       "      <td>340</td>\n",
       "      <td>49244</td>\n",
       "      <td>4.495416e+09</td>\n",
       "      <td>30.050</td>\n",
       "      <td>2.057953e+07</td>\n",
       "      <td>6.252570e+13</td>\n",
       "    </tr>\n",
       "    <tr>\n",
       "      <th>22</th>\n",
       "      <td>Triton</td>\n",
       "      <td>Neptune</td>\n",
       "      <td>354800</td>\n",
       "      <td>2705</td>\n",
       "      <td>49244</td>\n",
       "      <td>4.495416e+09</td>\n",
       "      <td>30.050</td>\n",
       "      <td>1.036336e+10</td>\n",
       "      <td>6.252570e+13</td>\n",
       "    </tr>\n",
       "  </tbody>\n",
       "</table>\n",
       "</div>"
      ],
      "text/plain": [
       "    moon_name planet_name  moon_planet_distance_km  moon_diameter_km  \\\n",
       "0        Moon       Earth                   384000              3476   \n",
       "1      Deimos        Mars                     9270                20   \n",
       "2      Phobos        Mars                    23460                 8   \n",
       "3    Callisto     Jupiter                  1883000              4800   \n",
       "4      Europa     Jupiter                   670900              3126   \n",
       "5    Ganymede     Jupiter                  1070000              5276   \n",
       "6          Io     Jupiter                   421600              3629   \n",
       "7       Dione      Saturn                   377400              1120   \n",
       "8   Enceladus      Saturn                   238020               498   \n",
       "9    Hyperion      Saturn                  1481000               226   \n",
       "10    Iapetus      Saturn                  3561300              1436   \n",
       "11      Mimas      Saturn                   185520               398   \n",
       "12     Phoebe      Saturn                 12952000               220   \n",
       "13       Rhea      Saturn                   527040              1528   \n",
       "14     Tethys      Saturn                   294660              1060   \n",
       "15      Titan      Saturn                  1221850              5150   \n",
       "16      Ariel      Uranus                   191240              1160   \n",
       "17    Miranda      Uranus                   129780               472   \n",
       "18     Oberon      Uranus                   582600              1526   \n",
       "19    Titania      Uranus                   435840              1580   \n",
       "20    Umbriel      Uranus                   265970              1190   \n",
       "21     Nereid     Neptune                  5513400               340   \n",
       "22     Triton     Neptune                   354800              2705   \n",
       "\n",
       "    planet_diameter_km  planet_sun_distance_km  planet_sun_distance_au  \\\n",
       "0                12742            1.495979e+08                   1.000   \n",
       "1                 6779            2.281368e+08                   1.525   \n",
       "2                 6779            2.281368e+08                   1.525   \n",
       "3               139822            7.786569e+08                   5.205   \n",
       "4               139822            7.786569e+08                   5.205   \n",
       "5               139822            7.786569e+08                   5.205   \n",
       "6               139822            7.786569e+08                   5.205   \n",
       "7               116464            1.427912e+09                   9.545   \n",
       "8               116464            1.427912e+09                   9.545   \n",
       "9               116464            1.427912e+09                   9.545   \n",
       "10              116464            1.427912e+09                   9.545   \n",
       "11              116464            1.427912e+09                   9.545   \n",
       "12              116464            1.427912e+09                   9.545   \n",
       "13              116464            1.427912e+09                   9.545   \n",
       "14              116464            1.427912e+09                   9.545   \n",
       "15              116464            1.427912e+09                   9.545   \n",
       "16               50724            2.872279e+09                  19.200   \n",
       "17               50724            2.872279e+09                  19.200   \n",
       "18               50724            2.872279e+09                  19.200   \n",
       "19               50724            2.872279e+09                  19.200   \n",
       "20               50724            2.872279e+09                  19.200   \n",
       "21               49244            4.495416e+09                  30.050   \n",
       "22               49244            4.495416e+09                  30.050   \n",
       "\n",
       "    moon_volume_km3  planet_volume_km3  \n",
       "0      2.199064e+10       1.083207e+12  \n",
       "1      4.188790e+03       1.631156e+11  \n",
       "2      2.680826e+02       1.631156e+11  \n",
       "3      5.790584e+10       1.431282e+15  \n",
       "4      1.599431e+10       1.431282e+15  \n",
       "5      7.689763e+10       1.431282e+15  \n",
       "6      2.502416e+10       1.431282e+15  \n",
       "7      7.356186e+08       8.271299e+14  \n",
       "8      6.466759e+07       8.271299e+14  \n",
       "9      6.043993e+06       8.271299e+14  \n",
       "10     1.550465e+09       8.271299e+14  \n",
       "11     3.301018e+07       8.271299e+14  \n",
       "12     5.575280e+06       8.271299e+14  \n",
       "13     1.867965e+09       8.271299e+14  \n",
       "14     6.236145e+08       8.271299e+14  \n",
       "15     7.151881e+10       8.271299e+14  \n",
       "16     8.172832e+08       6.833436e+13  \n",
       "17     5.505853e+07       6.833436e+13  \n",
       "18     1.860639e+09       6.833436e+13  \n",
       "19     2.065237e+09       6.833436e+13  \n",
       "20     8.823472e+08       6.833436e+13  \n",
       "21     2.057953e+07       6.252570e+13  \n",
       "22     1.036336e+10       6.252570e+13  "
      ]
     },
     "execution_count": 38,
     "metadata": {},
     "output_type": "execute_result"
    }
   ],
   "source": [
    "df_moons = pd.read_excel('../data/moons.xlsx')\n",
    "df_planets = pd.read_excel('../data/planets.xlsx')\n",
    "df_solar = pd.merge(df_moons, df_planets, left_on='planet_name', right_on='planet_name')\n",
    "df_solar['moon_volume_km3'] = 4/3*np.pi*(df_solar.moon_diameter_km/2)**3\n",
    "df_solar['planet_volume_km3'] = 4/3*np.pi*(df_solar.planet_diameter_km/2)**3\n",
    "df_solar"
   ]
  },
  {
   "cell_type": "markdown",
   "metadata": {},
   "source": [
    "##### Pearson correlation"
   ]
  },
  {
   "cell_type": "raw",
   "metadata": {},
   "source": [
    "scipy.stats.pearsonr?"
   ]
  },
  {
   "cell_type": "code",
   "execution_count": 39,
   "metadata": {
    "collapsed": false
   },
   "outputs": [
    {
     "data": {
      "text/plain": [
       "(0.39231409401451894, 0.06408634688502726)"
      ]
     },
     "execution_count": 39,
     "metadata": {},
     "output_type": "execute_result"
    }
   ],
   "source": [
    "# pearson correlation (linear regression on values) of diameters\n",
    "pearson_r_diameter, pearson_p_diameter = scipy.stats.pearsonr(df_solar.planet_diameter_km, df_solar.moon_diameter_km)\n",
    "pearson_r_diameter, pearson_p_diameter"
   ]
  },
  {
   "cell_type": "code",
   "execution_count": 40,
   "metadata": {
    "collapsed": false
   },
   "outputs": [
    {
     "data": {
      "text/plain": [
       "(0.5186568153916277, 0.011223179377141783)"
      ]
     },
     "execution_count": 40,
     "metadata": {},
     "output_type": "execute_result"
    }
   ],
   "source": [
    "# pearson correlation (linear regression on values) of volumes\n",
    "pearson_r_volume, pearson_p_volume = scipy.stats.pearsonr(df_solar.planet_volume_km3, df_solar.moon_volume_km3)\n",
    "pearson_r_volume, pearson_p_volume"
   ]
  },
  {
   "cell_type": "markdown",
   "metadata": {},
   "source": [
    "##### Spearman correlation"
   ]
  },
  {
   "cell_type": "raw",
   "metadata": {},
   "source": [
    "scipy.stats.spearmanr?"
   ]
  },
  {
   "cell_type": "code",
   "execution_count": 41,
   "metadata": {
    "collapsed": false,
    "scrolled": true
   },
   "outputs": [
    {
     "data": {
      "text/plain": [
       "(0.453630792978124, 0.029697361455537457)"
      ]
     },
     "execution_count": 41,
     "metadata": {},
     "output_type": "execute_result"
    }
   ],
   "source": [
    "# spearman correlation (linear regression on ranks) of diameters\n",
    "spearman_r_diameter, spearman_p_diameter = scipy.stats.spearmanr(df_solar.planet_diameter_km, df_solar.moon_diameter_km)\n",
    "spearman_r_diameter, spearman_p_diameter"
   ]
  },
  {
   "cell_type": "code",
   "execution_count": 42,
   "metadata": {
    "collapsed": false
   },
   "outputs": [
    {
     "data": {
      "text/plain": [
       "(0.453630792978124, 0.029697361455537457)"
      ]
     },
     "execution_count": 42,
     "metadata": {},
     "output_type": "execute_result"
    }
   ],
   "source": [
    "# spearman correlation (linear regression on ranks) of volumes\n",
    "spearman_r_volume, spearman_p_volume = scipy.stats.spearmanr(df_solar.planet_volume_km3, df_solar.moon_volume_km3)\n",
    "spearman_r_volume, spearman_p_volume"
   ]
  },
  {
   "cell_type": "code",
   "execution_count": 43,
   "metadata": {
    "collapsed": false,
    "scrolled": false
   },
   "outputs": [
    {
     "name": "stderr",
     "output_type": "stream",
     "text": [
      "/Users/luke/miniconda3/envs/python3/lib/python3.5/site-packages/scipy/stats/stats.py:1713: FutureWarning: Using a non-tuple sequence for multidimensional indexing is deprecated; use `arr[tuple(seq)]` instead of `arr[seq]`. In the future this will be interpreted as an array index, `arr[np.array(seq)]`, which will result either in an error or a different result.\n",
      "  return np.add.reduce(sorted[indexer] * weights, axis=axis) / sumval\n"
     ]
    },
    {
     "data": {
      "image/png": "[encoded data removed]",
      "text/plain": [
       "<matplotlib.figure.Figure at 0x1a214146a0>"
      ]
     },
     "metadata": {},
     "output_type": "display_data"
    }
   ],
   "source": [
    "# plot linear regressions\n",
    "fig, ax = plt.subplots(1, 2, figsize=(10,5))\n",
    "sns.regplot(x='planet_diameter_km', y='moon_diameter_km', data=df_solar, ax=ax[0])\n",
    "sns.regplot(x='planet_volume_km3', y='moon_volume_km3', data=df_solar, ax=ax[1]);"
   ]
  },
  {
   "cell_type": "markdown",
   "metadata": {},
   "source": [
    "What if we consider the *ratio* of moon size to planet size?"
   ]
  },
  {
   "cell_type": "code",
   "execution_count": 44,
   "metadata": {
    "collapsed": true
   },
   "outputs": [],
   "source": [
    "# calculate moon diameters and volumes relative to host planets\n",
    "df_solar['moon_planet_relative_diameter'] = df_solar.moon_diameter_km/df_solar.planet_diameter_km\n",
    "df_solar['moon_planet_relative_volume'] = df_solar.moon_volume_km3/df_solar.planet_volume_km3"
   ]
  },
  {
   "cell_type": "code",
   "execution_count": 45,
   "metadata": {
    "collapsed": false
   },
   "outputs": [
    {
     "data": {
      "image/png": "[encoded data removed]",
      "text/plain": [
       "<matplotlib.figure.Figure at 0x1a20236128>"
      ]
     },
     "metadata": {},
     "output_type": "display_data"
    }
   ],
   "source": [
    "# plot scatter plots\n",
    "fig, ax = plt.subplots(1, 2, figsize=(10,5))\n",
    "\n",
    "ax[0].scatter(df_solar.moon_diameter_km, df_solar.moon_planet_relative_diameter)\n",
    "ax[0].set_xlabel('moon_diameter_km')\n",
    "ax[0].set_ylabel('moon_planet_relative_diameter')\n",
    "\n",
    "ax[1].scatter(df_solar.moon_volume_km3, df_solar.moon_planet_relative_volume)\n",
    "ax[1].set_xlabel('moon_volume_km3')\n",
    "ax[1].set_ylabel('moon_planet_relative_volume')\n",
    "\n",
    "fig.tight_layout()"
   ]
  },
  {
   "cell_type": "code",
   "execution_count": 46,
   "metadata": {
    "collapsed": false,
    "scrolled": true
   },
   "outputs": [
    {
     "data": {
      "image/png": "[encoded data removed]",
      "text/plain": [
       "<matplotlib.figure.Figure at 0x1a2101d860>"
      ]
     },
     "metadata": {},
     "output_type": "display_data"
    }
   ],
   "source": [
    "# plot distributions\n",
    "fig, ax = plt.subplots(1, 2, figsize=(10,5))\n",
    "sns.distplot(df_solar.moon_planet_relative_diameter, rug=True, bins=20, ax=ax[0])\n",
    "sns.distplot(df_solar.moon_planet_relative_volume, hist=False, kde=False, rug=True, bins=20, ax=ax[1]);\n",
    "ax[1].set_xscale('log')"
   ]
  },
  {
   "cell_type": "markdown",
   "metadata": {},
   "source": [
    "#### Grubbs's test for outliers\n",
    "\n",
    "Grubbs's test is used to detect outliers in a univariate data set assumed to come from a normally distributed population.\n",
    "\n",
    "`outlier_utils` is a library for detecting and removing outliers using Grubbs's test."
   ]
  },
  {
   "cell_type": "code",
   "execution_count": 47,
   "metadata": {
    "collapsed": false,
    "scrolled": false
   },
   "outputs": [
    {
     "data": {
      "text/plain": [
       "[0.27279861874117095]"
      ]
     },
     "execution_count": 47,
     "metadata": {},
     "output_type": "execute_result"
    }
   ],
   "source": [
    "# print outliers from the dataset - relative diameter\n",
    "grubbs.max_test_outliers(df_solar.moon_planet_relative_diameter, alpha=0.05)"
   ]
  },
  {
   "cell_type": "code",
   "execution_count": 48,
   "metadata": {
    "collapsed": false
   },
   "outputs": [
    {
     "data": {
      "text/plain": [
       "1     0.002950\n",
       "2     0.001180\n",
       "3     0.034329\n",
       "4     0.022357\n",
       "5     0.037734\n",
       "6     0.025954\n",
       "7     0.009617\n",
       "8     0.004276\n",
       "9     0.001941\n",
       "10    0.012330\n",
       "11    0.003417\n",
       "12    0.001889\n",
       "13    0.013120\n",
       "14    0.009102\n",
       "15    0.044220\n",
       "16    0.022869\n",
       "17    0.009305\n",
       "18    0.030084\n",
       "19    0.031149\n",
       "20    0.023460\n",
       "21    0.006904\n",
       "22    0.054931\n",
       "Name: moon_planet_relative_diameter, dtype: float64"
      ]
     },
     "execution_count": 48,
     "metadata": {},
     "output_type": "execute_result"
    }
   ],
   "source": [
    "# remove outliers - relative diameter\n",
    "moon_planet_rel_diam_no_outliers = grubbs.test(df_solar.moon_planet_relative_diameter, alpha=0.05)\n",
    "moon_planet_rel_diam_no_outliers"
   ]
  },
  {
   "cell_type": "code",
   "execution_count": 49,
   "metadata": {
    "collapsed": false
   },
   "outputs": [
    {
     "data": {
      "text/plain": [
       "[0.02030142397437823]"
      ]
     },
     "execution_count": 49,
     "metadata": {},
     "output_type": "execute_result"
    }
   ],
   "source": [
    "# print outliers from the dataset - relative volume (higher alpha)\n",
    "grubbs.max_test_outliers(df_solar.moon_planet_relative_volume, alpha=0.000005)"
   ]
  },
  {
   "cell_type": "code",
   "execution_count": 50,
   "metadata": {
    "collapsed": false
   },
   "outputs": [
    {
     "data": {
      "text/plain": [
       "1     2.567989e-08\n",
       "2     1.643513e-09\n",
       "3     4.045733e-05\n",
       "4     1.117482e-05\n",
       "5     5.372641e-05\n",
       "6     1.748374e-05\n",
       "7     8.893628e-07\n",
       "8     7.818311e-08\n",
       "9     7.307187e-09\n",
       "10    1.874512e-06\n",
       "11    3.990930e-08\n",
       "12    6.740513e-09\n",
       "13    2.258369e-06\n",
       "14    7.539499e-07\n",
       "15    8.646624e-05\n",
       "16    1.196006e-05\n",
       "17    8.057225e-07\n",
       "18    2.722846e-05\n",
       "19    3.022253e-05\n",
       "20    1.291220e-05\n",
       "21    3.291371e-07\n",
       "22    1.657455e-04\n",
       "Name: moon_planet_relative_volume, dtype: float64"
      ]
     },
     "execution_count": 50,
     "metadata": {},
     "output_type": "execute_result"
    }
   ],
   "source": [
    "# remove outliers - relative volume (higher alpha)\n",
    "moon_planet_rel_vol_no_outliers = grubbs.test(df_solar.moon_planet_relative_volume, alpha=0.000005)\n",
    "moon_planet_rel_vol_no_outliers"
   ]
  },
  {
   "cell_type": "markdown",
   "metadata": {},
   "source": [
    "### Tests of indpendence (of two nominal variables)\n",
    "\n",
    "Source: [Handbook of Biological Statistics](http://www.biostathandbook.com) by John H. McDonald\n",
    "\n",
    "Test | Purpose | Notes | Example\n",
    "----- | ----- | ----- | -----\n",
    "Fisher's exact test | Test hypothesis that proportions are the same in different groups | Use for small sample sizes (less than 1000) | Count the number of live and dead patients after treatment with drug or placebo, test the hypothesis that the proportion of live and dead is the same in the two treatments, total sample <1000\n",
    "Chi-square test of independence | Test fit of observed frequencies to expected frequencies | Use for large sample sizes (greater than 1000) | Count the number of live and dead patients after treatment with drug or placebo, test the hypothesis that the proportion of live and dead is the same in the two treatments, total sample >1000"
   ]
  },
  {
   "cell_type": "markdown",
   "metadata": {},
   "source": [
    "#### Fisher's exact test"
   ]
  },
  {
   "cell_type": "markdown",
   "metadata": {},
   "source": [
    "Use the Fisher's exact test of independence when you have two nominal variables and you want to see whether the proportions of one variable are different depending on the value of the other variable. Use it when the sample size is small."
   ]
  },
  {
   "cell_type": "raw",
   "metadata": {},
   "source": [
    "scipy.stats.fisher_exact?"
   ]
  },
  {
   "cell_type": "markdown",
   "metadata": {},
   "source": [
    "Parameters\n",
    "* table: array_like of ints.\n",
    "    A 2x2 contingency table.  Elements should be non-negative integers.\n",
    "* alternative: {'two-sided', 'less', 'greater'}, optional.\n",
    "    Which alternative hypothesis to the null hypothesis the test uses.\n",
    "    Default is 'two-sided'.\n",
    "\n",
    "Returns\n",
    "* oddsratio: float.\n",
    "    This is prior odds ratio and not a posterior estimate.\n",
    "* p_value: float.\n",
    "    P-value, the probability of obtaining a distribution at least as\n",
    "    extreme as the one that was actually observed, assuming that the\n",
    "    null hypothesis is true."
   ]
  },
  {
   "cell_type": "markdown",
   "metadata": {},
   "source": [
    "Say we spend a few days counting whales and sharks in the Atlantic and\n",
    "Indian oceans. In the Atlantic ocean we find 8 whales and 1 shark, in the\n",
    "Indian ocean 2 whales and 5 sharks. Then our contingency table is:"
   ]
  },
  {
   "cell_type": "code",
   "execution_count": 51,
   "metadata": {
    "collapsed": false
   },
   "outputs": [
    {
     "data": {
      "text/html": [
       "<div>\n",
       "<style>\n",
       "    .dataframe thead tr:only-child th {\n",
       "        text-align: right;\n",
       "    }\n",
       "\n",
       "    .dataframe thead th {\n",
       "        text-align: left;\n",
       "    }\n",
       "\n",
       "    .dataframe tbody tr th {\n",
       "        vertical-align: top;\n",
       "    }\n",
       "</style>\n",
       "<table border=\"1\" class=\"dataframe\">\n",
       "  <thead>\n",
       "    <tr style=\"text-align: right;\">\n",
       "      <th></th>\n",
       "      <th>whales</th>\n",
       "      <th>sharks</th>\n",
       "    </tr>\n",
       "  </thead>\n",
       "  <tbody>\n",
       "    <tr>\n",
       "      <th>Atlantic</th>\n",
       "      <td>8</td>\n",
       "      <td>2</td>\n",
       "    </tr>\n",
       "    <tr>\n",
       "      <th>Indian</th>\n",
       "      <td>1</td>\n",
       "      <td>5</td>\n",
       "    </tr>\n",
       "  </tbody>\n",
       "</table>\n",
       "</div>"
      ],
      "text/plain": [
       "          whales  sharks\n",
       "Atlantic       8       2\n",
       "Indian         1       5"
      ]
     },
     "execution_count": 51,
     "metadata": {},
     "output_type": "execute_result"
    }
   ],
   "source": [
    "f = pd.DataFrame([[8, 2],[1, 5]], \n",
    "                 index=['Atlantic', 'Indian'], \n",
    "                 columns=['whales', 'sharks'])\n",
    "f"
   ]
  },
  {
   "cell_type": "markdown",
   "metadata": {},
   "source": [
    "We use this table to find the p-value:"
   ]
  },
  {
   "cell_type": "code",
   "execution_count": 52,
   "metadata": {
    "collapsed": false
   },
   "outputs": [
    {
     "data": {
      "text/plain": [
       "(20.0, 0.03496503496503495)"
      ]
     },
     "execution_count": 52,
     "metadata": {},
     "output_type": "execute_result"
    }
   ],
   "source": [
    "odds_ratio, p_value = scipy.stats.fisher_exact(f, alternative='two-sided')\n",
    "odds_ratio, p_value"
   ]
  },
  {
   "cell_type": "markdown",
   "metadata": {},
   "source": [
    "The probability that we would observe this or an even more imbalanced ratio\n",
    "by chance is about 3.5%.  A commonly used significance level is 5%--if we\n",
    "adopt that, we can therefore conclude that our observed imbalance is\n",
    "statistically significant; whales prefer the Atlantic while sharks prefer\n",
    "the Indian Ocean.\n",
    "\n",
    "For tables with large numbers, the (inexact) chi-square test implemented\n",
    "in the function `chi2_contingency` can also be used."
   ]
  },
  {
   "cell_type": "markdown",
   "metadata": {},
   "source": [
    "#### Chi-square test of independence"
   ]
  },
  {
   "cell_type": "markdown",
   "metadata": {},
   "source": [
    "Use the chi-square test of independence when you have two nominal variables and you want to see whether the proportions of one variable are different for different values of the other variable. Use it when the sample size is large."
   ]
  },
  {
   "cell_type": "raw",
   "metadata": {},
   "source": [
    "scipy.stats.chi2_contingency?"
   ]
  },
  {
   "cell_type": "markdown",
   "metadata": {},
   "source": [
    "Parameters:\n",
    "* observed: array_like.\n",
    "    The contingency table. The table contains the observed frequencies\n",
    "    (i.e. number of occurrences) in each category.  In the two-dimensional\n",
    "    case, the table is often described as an \"R x C table\".\n",
    "\n",
    "Returns:\n",
    "\n",
    "* chi2: float.\n",
    "    The test statistic.\n",
    "* p: float.\n",
    "    The p-value of the test\n",
    "* dof: int.\n",
    "    Degrees of freedom\n",
    "* expected: ndarray, same shape as `observed`.\n",
    "    The expected frequencies, based on the marginal sums of the table."
   ]
  },
  {
   "cell_type": "code",
   "execution_count": 53,
   "metadata": {
    "collapsed": false
   },
   "outputs": [
    {
     "data": {
      "text/plain": [
       "(3.8095238095238093, 0.050961936967763424, 1, array([[5.625, 4.375],\n",
       "        [3.375, 2.625]]))"
      ]
     },
     "execution_count": 53,
     "metadata": {},
     "output_type": "execute_result"
    }
   ],
   "source": [
    "chi2, p, dof, expected = scipy.stats.chi2_contingency(f)\n",
    "chi2, p, dof, expected"
   ]
  },
  {
   "cell_type": "markdown",
   "metadata": {},
   "source": [
    "### Analysis of variance"
   ]
  },
  {
   "cell_type": "markdown",
   "metadata": {},
   "source": [
    "#### One-sample *t*-test"
   ]
  },
  {
   "cell_type": "markdown",
   "metadata": {},
   "source": [
    "The one-sample *t*-test is a two-sided test for the null hypothesis that the expected value\n",
    "(mean) of a sample of independent observations `a` is equal to the given\n",
    "population mean, `popmean`."
   ]
  },
  {
   "cell_type": "raw",
   "metadata": {},
   "source": [
    "scipy.stats.ttest_1samp?"
   ]
  },
  {
   "cell_type": "markdown",
   "metadata": {},
   "source": [
    "Parameters:\n",
    "* a: array_like.\n",
    "    Sample observation\n",
    "* popmean: float or array_like.\n",
    "    Expected value in null hypothesis, if array_like than it must have the\n",
    "    same shape as `a` excluding the axis dimension\n",
    "    \n",
    "Returns:\n",
    "* statistic: float or array.\n",
    "    t-statistic\n",
    "* pvalue: float or array.\n",
    "    Two-tailed p-value"
   ]
  },
  {
   "cell_type": "markdown",
   "metadata": {},
   "source": [
    "The population mean of moon-to-planet diameters (excluding our Moon) is approximately 0.018. Our moon is excluded from this population because its relative diameter of 0.273 is an outlier."
   ]
  },
  {
   "cell_type": "code",
   "execution_count": 54,
   "metadata": {
    "collapsed": false
   },
   "outputs": [
    {
     "data": {
      "text/plain": [
       "0.018323558187319684"
      ]
     },
     "execution_count": 54,
     "metadata": {},
     "output_type": "execute_result"
    }
   ],
   "source": [
    "moon_planet_rel_diam_no_outliers.mean()"
   ]
  },
  {
   "cell_type": "markdown",
   "metadata": {},
   "source": [
    "We **cannot** reject the null hypothesis that an expected mean of 0.02 is equal to population mean."
   ]
  },
  {
   "cell_type": "code",
   "execution_count": 55,
   "metadata": {
    "collapsed": false
   },
   "outputs": [
    {
     "data": {
      "text/plain": [
       "Ttest_1sampResult(statistic=-0.5100116850761494, pvalue=0.6153619635101513)"
      ]
     },
     "execution_count": 55,
     "metadata": {},
     "output_type": "execute_result"
    }
   ],
   "source": [
    "scipy.stats.ttest_1samp(moon_planet_rel_diam_no_outliers, 0.02)"
   ]
  },
  {
   "cell_type": "markdown",
   "metadata": {},
   "source": [
    "We **can** reject the null hypothesis that an expected mean equal to the Moon-Earth diamter ratio (0.273) is equal to population mean."
   ]
  },
  {
   "cell_type": "code",
   "execution_count": 56,
   "metadata": {
    "collapsed": false
   },
   "outputs": [
    {
     "data": {
      "text/plain": [
       "Ttest_1sampResult(statistic=-77.47835937736278, pvalue=2.6973888513820512e-27)"
      ]
     },
     "execution_count": 56,
     "metadata": {},
     "output_type": "execute_result"
    }
   ],
   "source": [
    "scipy.stats.ttest_1samp(moon_planet_rel_diam_no_outliers, 0.273)"
   ]
  },
  {
   "cell_type": "markdown",
   "metadata": {},
   "source": [
    "#### Two-sample *t*-test"
   ]
  },
  {
   "cell_type": "markdown",
   "metadata": {},
   "source": [
    "The two-sample *t* test is a two-sided test for the null hypothesis that two independent samples\n",
    "have identical average (expected) values. This test assumes that the populations have identical variances by default."
   ]
  },
  {
   "cell_type": "raw",
   "metadata": {},
   "source": [
    "scipy.stats.ttest_ind?"
   ]
  },
  {
   "cell_type": "markdown",
   "metadata": {},
   "source": [
    "Parameters\n",
    "* a, b: array_like.\n",
    "    The arrays must have the same shape, except in the dimension\n",
    "    corresponding to `axis` (the first, by default).\n",
    "* axis : int or None, optional\n",
    "    Axis along which to compute test. If None, compute over the whole\n",
    "    arrays, `a`, and `b`.\n",
    "    \n",
    "Returns\n",
    "* statistic: float or array.\n",
    "    The calculated t-statistic.\n",
    "* pvalue: float or array.\n",
    "    The two-tailed p-value."
   ]
  },
  {
   "cell_type": "code",
   "execution_count": 57,
   "metadata": {
    "collapsed": true
   },
   "outputs": [],
   "source": [
    "# create sample data\n",
    "np.random.seed(1)\n",
    "a = np.random.randn(40)\n",
    "b = 1.5*np.random.randn(50)+2"
   ]
  },
  {
   "cell_type": "code",
   "execution_count": 58,
   "metadata": {
    "collapsed": false
   },
   "outputs": [
    {
     "name": "stdout",
     "output_type": "stream",
     "text": [
      "ttest_ind: t = -9.86068, p = 7.14488e-16\n"
     ]
    }
   ],
   "source": [
    "# scipy.stats.ttest_ind (t-test for the means of two independent samples)\n",
    "t, p = scipy.stats.ttest_ind(a, b, equal_var=False)\n",
    "print(\"ttest_ind: t = %g, p = %g\" % (t, p))"
   ]
  },
  {
   "cell_type": "code",
   "execution_count": 59,
   "metadata": {
    "collapsed": true
   },
   "outputs": [],
   "source": [
    "# compute the descriptive statistics of a and b\n",
    "abar = a.mean()\n",
    "avar = a.var(ddof=1)\n",
    "na = a.size\n",
    "adof = na - 1\n",
    "\n",
    "bbar = b.mean()\n",
    "bvar = b.var(ddof=1)\n",
    "nb = b.size\n",
    "bdof = nb - 1"
   ]
  },
  {
   "cell_type": "code",
   "execution_count": 60,
   "metadata": {
    "collapsed": false
   },
   "outputs": [
    {
     "name": "stdout",
     "output_type": "stream",
     "text": [
      "ttest_ind_from_stats: t = -9.86068, p = 7.14488e-16\n"
     ]
    }
   ],
   "source": [
    "# scipy.stats.ttest_ind_from_stats (t-test for the means of two independent samples from descriptive stats)\n",
    "t2, p2 = scipy.stats.ttest_ind_from_stats(abar, np.sqrt(avar), na,\n",
    "                              bbar, np.sqrt(bvar), nb,\n",
    "                              equal_var=False)\n",
    "print(\"ttest_ind_from_stats: t = %g, p = %g\" % (t2, p2))"
   ]
  },
  {
   "cell_type": "code",
   "execution_count": 61,
   "metadata": {
    "collapsed": true
   },
   "outputs": [],
   "source": [
    "# use the formulas directly\n",
    "tf = (abar - bbar) / np.sqrt(avar/na + bvar/nb)\n",
    "dof = (avar/na + bvar/nb)**2 / (avar**2/(na**2*adof) + bvar**2/(nb**2*bdof))\n",
    "pf = 2*scipy.special.stdtr(dof, -np.abs(tf))"
   ]
  },
  {
   "cell_type": "code",
   "execution_count": 62,
   "metadata": {
    "collapsed": false,
    "scrolled": true
   },
   "outputs": [
    {
     "data": {
      "image/png": "[encoded data removed]",
      "text/plain": [
       "<matplotlib.figure.Figure at 0x1a219e74e0>"
      ]
     },
     "metadata": {},
     "output_type": "display_data"
    }
   ],
   "source": [
    "# plot the distributions\n",
    "sns.distplot(a, bins=10, label='a')\n",
    "sns.distplot(b, bins=10, label='b')\n",
    "plt.legend();"
   ]
  },
  {
   "cell_type": "markdown",
   "metadata": {},
   "source": [
    "#### One-way anova"
   ]
  },
  {
   "cell_type": "markdown",
   "metadata": {},
   "source": [
    "The one-way ANOVA tests the null hypothesis that two or more groups have\n",
    "the same population mean.  The test is applied to samples from two or\n",
    "more groups, possibly with differing sizes."
   ]
  },
  {
   "cell_type": "raw",
   "metadata": {},
   "source": [
    "scipy.stats.f_oneway?"
   ]
  },
  {
   "cell_type": "markdown",
   "metadata": {},
   "source": [
    "Parameters\n",
    "* sample1, sample2, ... : array_like.\n",
    "    The sample measurements for each group.\n",
    "\n",
    "Returns\n",
    "* statistic: float.\n",
    "    The computed F-value of the test.\n",
    "* pvalue: float.\n",
    "    The associated p-value from the F-distribution.\n",
    "\n",
    "Note: The ANOVA test has important assumptions that must be satisfied in order\n",
    "for the associated p-value to be valid.\n",
    "\n",
    "1. The samples are independent.\n",
    "2. Each sample is from a normally distributed population.\n",
    "3. The population standard deviations of the groups are all equal.  This\n",
    "   property is known as homoscedasticity.\n",
    "\n",
    "If these assumptions are not true for a given set of data, it may still be\n",
    "possible to use the Kruskal-Wallis H-test (`scipy.stats.kruskal`) although\n",
    "with some loss of power."
   ]
  },
  {
   "cell_type": "markdown",
   "metadata": {},
   "source": [
    "Here are some data on a shell measurement (the length of the anterior\n",
    "adductor muscle scar, standardized by dividing by length) in the mussel\n",
    "*Mytilus trossulus* from five locations: Tillamook, Oregon; Newport, Oregon;\n",
    "Petersburg, Alaska; Magadan, Russia; and Tvarminne, Finland, taken from a\n",
    "much larger data set used in McDonald et al. (1991)."
   ]
  },
  {
   "cell_type": "code",
   "execution_count": 63,
   "metadata": {
    "collapsed": true
   },
   "outputs": [],
   "source": [
    "tillamook = [0.0571, 0.0813, 0.0831, 0.0976, 0.0817, 0.0859, 0.0735, 0.0659, 0.0923, 0.0836]\n",
    "newport = [0.0873, 0.0662, 0.0672, 0.0819, 0.0749, 0.0649, 0.0835, 0.0725]\n",
    "petersburg = [0.0974, 0.1352, 0.0817, 0.1016, 0.0968, 0.1064, 0.105]\n",
    "magadan = [0.1033, 0.0915, 0.0781, 0.0685, 0.0677, 0.0697, 0.0764, 0.0689]\n",
    "tvarminne = [0.0703, 0.1026, 0.0956, 0.0973, 0.1039, 0.1045]"
   ]
  },
  {
   "cell_type": "code",
   "execution_count": 64,
   "metadata": {
    "collapsed": false
   },
   "outputs": [
    {
     "name": "stderr",
     "output_type": "stream",
     "text": [
      "/Users/luke/miniconda3/envs/python3/lib/python3.5/site-packages/scipy/stats/stats.py:1713: FutureWarning: Using a non-tuple sequence for multidimensional indexing is deprecated; use `arr[tuple(seq)]` instead of `arr[seq]`. In the future this will be interpreted as an array index, `arr[np.array(seq)]`, which will result either in an error or a different result.\n",
      "  return np.add.reduce(sorted[indexer] * weights, axis=axis) / sumval\n"
     ]
    },
    {
     "data": {
      "image/png": "[encoded data removed]",
      "text/plain": [
       "<matplotlib.figure.Figure at 0x1a20fcbb38>"
      ]
     },
     "metadata": {},
     "output_type": "display_data"
    }
   ],
   "source": [
    "sns.distplot(tillamook, label='Tillamook')\n",
    "sns.distplot(newport, label='Newport')\n",
    "sns.distplot(petersburg, label='Petersburg')\n",
    "sns.distplot(magadan, label='Magadan')\n",
    "sns.distplot(tvarminne, label='Tvarminne')\n",
    "plt.legend();"
   ]
  },
  {
   "cell_type": "code",
   "execution_count": 65,
   "metadata": {
    "collapsed": false
   },
   "outputs": [
    {
     "data": {
      "text/plain": [
       "F_onewayResult(statistic=7.121019471642447, pvalue=0.0002812242314534544)"
      ]
     },
     "execution_count": 65,
     "metadata": {},
     "output_type": "execute_result"
    }
   ],
   "source": [
    "scipy.stats.f_oneway(tillamook, newport, petersburg, magadan, tvarminne)"
   ]
  },
  {
   "cell_type": "markdown",
   "metadata": {},
   "source": [
    "The means **were** significantly heterogeneous (one-way anova, $F_{4,34}=7.12, P=2.8\\times10^{-4}$). \n",
    "\n",
    "Complete ANOVA results (see http://www.biostathandbook.com/onewayanova.html):\n",
    "\n",
    ". | sum of squares | d.f. | mean square | Fs | P\n",
    "-----|-----|-----|-----|-----|-----\n",
    "among groups | 0.00452| 4 | 0.001113 | 7.12 | 2.8e-4\n",
    "within groups | 0.00539 | 34 | 0.000159 | | \n",
    "total | 0.00991 | 38 |  |  |"
   ]
  },
  {
   "cell_type": "markdown",
   "metadata": {},
   "source": [
    "### Machine learning with scikit-learn\n",
    "\n",
    "Learn more about scikit-learn and see examples at https://scikit-learn.org."
   ]
  },
  {
   "cell_type": "markdown",
   "metadata": {},
   "source": [
    "#### Random forests\n",
    "\n",
    "Example borrowed from [Chris Albon](https://chrisalbon.com/machine_learning/trees_and_forests/random_forest_classifier_example/) and [Yhat](http://blog.yhat.com/posts/random-forests-in-python.html)."
   ]
  },
  {
   "cell_type": "markdown",
   "metadata": {},
   "source": [
    "Preliminaries:"
   ]
  },
  {
   "cell_type": "code",
   "execution_count": 66,
   "metadata": {
    "collapsed": true
   },
   "outputs": [],
   "source": [
    "# Load the library with the iris dataset\n",
    "from sklearn.datasets import load_iris\n",
    "\n",
    "# Load scikit's random forest classifier library\n",
    "from sklearn.ensemble import RandomForestClassifier\n",
    "\n",
    "# Set random seed\n",
    "np.random.seed(0)"
   ]
  },
  {
   "cell_type": "markdown",
   "metadata": {},
   "source": [
    "Load data:"
   ]
  },
  {
   "cell_type": "code",
   "execution_count": 67,
   "metadata": {
    "collapsed": false
   },
   "outputs": [
    {
     "data": {
      "text/html": [
       "<div>\n",
       "<style>\n",
       "    .dataframe thead tr:only-child th {\n",
       "        text-align: right;\n",
       "    }\n",
       "\n",
       "    .dataframe thead th {\n",
       "        text-align: left;\n",
       "    }\n",
       "\n",
       "    .dataframe tbody tr th {\n",
       "        vertical-align: top;\n",
       "    }\n",
       "</style>\n",
       "<table border=\"1\" class=\"dataframe\">\n",
       "  <thead>\n",
       "    <tr style=\"text-align: right;\">\n",
       "      <th></th>\n",
       "      <th>sepal length (cm)</th>\n",
       "      <th>sepal width (cm)</th>\n",
       "      <th>petal length (cm)</th>\n",
       "      <th>petal width (cm)</th>\n",
       "    </tr>\n",
       "  </thead>\n",
       "  <tbody>\n",
       "    <tr>\n",
       "      <th>0</th>\n",
       "      <td>5.1</td>\n",
       "      <td>3.5</td>\n",
       "      <td>1.4</td>\n",
       "      <td>0.2</td>\n",
       "    </tr>\n",
       "    <tr>\n",
       "      <th>1</th>\n",
       "      <td>4.9</td>\n",
       "      <td>3.0</td>\n",
       "      <td>1.4</td>\n",
       "      <td>0.2</td>\n",
       "    </tr>\n",
       "    <tr>\n",
       "      <th>2</th>\n",
       "      <td>4.7</td>\n",
       "      <td>3.2</td>\n",
       "      <td>1.3</td>\n",
       "      <td>0.2</td>\n",
       "    </tr>\n",
       "    <tr>\n",
       "      <th>3</th>\n",
       "      <td>4.6</td>\n",
       "      <td>3.1</td>\n",
       "      <td>1.5</td>\n",
       "      <td>0.2</td>\n",
       "    </tr>\n",
       "    <tr>\n",
       "      <th>4</th>\n",
       "      <td>5.0</td>\n",
       "      <td>3.6</td>\n",
       "      <td>1.4</td>\n",
       "      <td>0.2</td>\n",
       "    </tr>\n",
       "  </tbody>\n",
       "</table>\n",
       "</div>"
      ],
      "text/plain": [
       "   sepal length (cm)  sepal width (cm)  petal length (cm)  petal width (cm)\n",
       "0                5.1               3.5                1.4               0.2\n",
       "1                4.9               3.0                1.4               0.2\n",
       "2                4.7               3.2                1.3               0.2\n",
       "3                4.6               3.1                1.5               0.2\n",
       "4                5.0               3.6                1.4               0.2"
      ]
     },
     "execution_count": 67,
     "metadata": {},
     "output_type": "execute_result"
    }
   ],
   "source": [
    "# Create an object called iris with the iris data\n",
    "iris = load_iris()\n",
    "\n",
    "# Create a dataframe with the four feature variables\n",
    "df = pd.DataFrame(iris.data, columns=iris.feature_names)\n",
    "\n",
    "# View the top 5 rows\n",
    "df.head()"
   ]
  },
  {
   "cell_type": "code",
   "execution_count": 68,
   "metadata": {
    "collapsed": false
   },
   "outputs": [
    {
     "data": {
      "text/html": [
       "<div>\n",
       "<style>\n",
       "    .dataframe thead tr:only-child th {\n",
       "        text-align: right;\n",
       "    }\n",
       "\n",
       "    .dataframe thead th {\n",
       "        text-align: left;\n",
       "    }\n",
       "\n",
       "    .dataframe tbody tr th {\n",
       "        vertical-align: top;\n",
       "    }\n",
       "</style>\n",
       "<table border=\"1\" class=\"dataframe\">\n",
       "  <thead>\n",
       "    <tr style=\"text-align: right;\">\n",
       "      <th></th>\n",
       "      <th>sepal length (cm)</th>\n",
       "      <th>sepal width (cm)</th>\n",
       "      <th>petal length (cm)</th>\n",
       "      <th>petal width (cm)</th>\n",
       "      <th>species</th>\n",
       "    </tr>\n",
       "  </thead>\n",
       "  <tbody>\n",
       "    <tr>\n",
       "      <th>0</th>\n",
       "      <td>5.1</td>\n",
       "      <td>3.5</td>\n",
       "      <td>1.4</td>\n",
       "      <td>0.2</td>\n",
       "      <td>setosa</td>\n",
       "    </tr>\n",
       "    <tr>\n",
       "      <th>1</th>\n",
       "      <td>4.9</td>\n",
       "      <td>3.0</td>\n",
       "      <td>1.4</td>\n",
       "      <td>0.2</td>\n",
       "      <td>setosa</td>\n",
       "    </tr>\n",
       "    <tr>\n",
       "      <th>2</th>\n",
       "      <td>4.7</td>\n",
       "      <td>3.2</td>\n",
       "      <td>1.3</td>\n",
       "      <td>0.2</td>\n",
       "      <td>setosa</td>\n",
       "    </tr>\n",
       "    <tr>\n",
       "      <th>3</th>\n",
       "      <td>4.6</td>\n",
       "      <td>3.1</td>\n",
       "      <td>1.5</td>\n",
       "      <td>0.2</td>\n",
       "      <td>setosa</td>\n",
       "    </tr>\n",
       "    <tr>\n",
       "      <th>4</th>\n",
       "      <td>5.0</td>\n",
       "      <td>3.6</td>\n",
       "      <td>1.4</td>\n",
       "      <td>0.2</td>\n",
       "      <td>setosa</td>\n",
       "    </tr>\n",
       "  </tbody>\n",
       "</table>\n",
       "</div>"
      ],
      "text/plain": [
       "   sepal length (cm)  sepal width (cm)  petal length (cm)  petal width (cm)  \\\n",
       "0                5.1               3.5                1.4               0.2   \n",
       "1                4.9               3.0                1.4               0.2   \n",
       "2                4.7               3.2                1.3               0.2   \n",
       "3                4.6               3.1                1.5               0.2   \n",
       "4                5.0               3.6                1.4               0.2   \n",
       "\n",
       "  species  \n",
       "0  setosa  \n",
       "1  setosa  \n",
       "2  setosa  \n",
       "3  setosa  \n",
       "4  setosa  "
      ]
     },
     "execution_count": 68,
     "metadata": {},
     "output_type": "execute_result"
    }
   ],
   "source": [
    "# Add a new column with the species names, this is what we are going to try to predict\n",
    "df['species'] = pd.Categorical.from_codes(iris.target, iris.target_names)\n",
    "\n",
    "# View the top 5 rows\n",
    "df.head()"
   ]
  },
  {
   "cell_type": "markdown",
   "metadata": {},
   "source": [
    "Create training and test data:"
   ]
  },
  {
   "cell_type": "code",
   "execution_count": 69,
   "metadata": {
    "collapsed": false
   },
   "outputs": [
    {
     "data": {
      "text/html": [
       "<div>\n",
       "<style>\n",
       "    .dataframe thead tr:only-child th {\n",
       "        text-align: right;\n",
       "    }\n",
       "\n",
       "    .dataframe thead th {\n",
       "        text-align: left;\n",
       "    }\n",
       "\n",
       "    .dataframe tbody tr th {\n",
       "        vertical-align: top;\n",
       "    }\n",
       "</style>\n",
       "<table border=\"1\" class=\"dataframe\">\n",
       "  <thead>\n",
       "    <tr style=\"text-align: right;\">\n",
       "      <th></th>\n",
       "      <th>sepal length (cm)</th>\n",
       "      <th>sepal width (cm)</th>\n",
       "      <th>petal length (cm)</th>\n",
       "      <th>petal width (cm)</th>\n",
       "      <th>species</th>\n",
       "      <th>is_train</th>\n",
       "    </tr>\n",
       "  </thead>\n",
       "  <tbody>\n",
       "    <tr>\n",
       "      <th>0</th>\n",
       "      <td>5.1</td>\n",
       "      <td>3.5</td>\n",
       "      <td>1.4</td>\n",
       "      <td>0.2</td>\n",
       "      <td>setosa</td>\n",
       "      <td>True</td>\n",
       "    </tr>\n",
       "    <tr>\n",
       "      <th>1</th>\n",
       "      <td>4.9</td>\n",
       "      <td>3.0</td>\n",
       "      <td>1.4</td>\n",
       "      <td>0.2</td>\n",
       "      <td>setosa</td>\n",
       "      <td>True</td>\n",
       "    </tr>\n",
       "    <tr>\n",
       "      <th>2</th>\n",
       "      <td>4.7</td>\n",
       "      <td>3.2</td>\n",
       "      <td>1.3</td>\n",
       "      <td>0.2</td>\n",
       "      <td>setosa</td>\n",
       "      <td>True</td>\n",
       "    </tr>\n",
       "    <tr>\n",
       "      <th>3</th>\n",
       "      <td>4.6</td>\n",
       "      <td>3.1</td>\n",
       "      <td>1.5</td>\n",
       "      <td>0.2</td>\n",
       "      <td>setosa</td>\n",
       "      <td>True</td>\n",
       "    </tr>\n",
       "    <tr>\n",
       "      <th>4</th>\n",
       "      <td>5.0</td>\n",
       "      <td>3.6</td>\n",
       "      <td>1.4</td>\n",
       "      <td>0.2</td>\n",
       "      <td>setosa</td>\n",
       "      <td>True</td>\n",
       "    </tr>\n",
       "  </tbody>\n",
       "</table>\n",
       "</div>"
      ],
      "text/plain": [
       "   sepal length (cm)  sepal width (cm)  petal length (cm)  petal width (cm)  \\\n",
       "0                5.1               3.5                1.4               0.2   \n",
       "1                4.9               3.0                1.4               0.2   \n",
       "2                4.7               3.2                1.3               0.2   \n",
       "3                4.6               3.1                1.5               0.2   \n",
       "4                5.0               3.6                1.4               0.2   \n",
       "\n",
       "  species  is_train  \n",
       "0  setosa      True  \n",
       "1  setosa      True  \n",
       "2  setosa      True  \n",
       "3  setosa      True  \n",
       "4  setosa      True  "
      ]
     },
     "execution_count": 69,
     "metadata": {},
     "output_type": "execute_result"
    }
   ],
   "source": [
    "# Create a new column that for each row, generates a random number between 0 and 1, and\n",
    "# if that value is less than or equal to .75, then sets the value of that cell as True\n",
    "# and false otherwise. This is a quick and dirty way of randomly assigning some rows to\n",
    "# be used as the training data and some as the test data.\n",
    "df['is_train'] = np.random.uniform(0, 1, len(df)) <= .75\n",
    "\n",
    "# View the top 5 rows\n",
    "df.head()"
   ]
  },
  {
   "cell_type": "code",
   "execution_count": 70,
   "metadata": {
    "collapsed": true
   },
   "outputs": [],
   "source": [
    "# Create two new dataframes, one with the training rows, one with the test rows\n",
    "train, test = df[df['is_train']==True], df[df['is_train']==False]"
   ]
  },
  {
   "cell_type": "code",
   "execution_count": 71,
   "metadata": {
    "collapsed": false
   },
   "outputs": [
    {
     "name": "stdout",
     "output_type": "stream",
     "text": [
      "Number of observations in the training data: 118\n",
      "Number of observations in the test data: 32\n"
     ]
    }
   ],
   "source": [
    "# Show the number of observations for the test and training dataframes\n",
    "print('Number of observations in the training data:', len(train))\n",
    "print('Number of observations in the test data:',len(test))"
   ]
  },
  {
   "cell_type": "markdown",
   "metadata": {},
   "source": [
    "Preprocess the data:"
   ]
  },
  {
   "cell_type": "code",
   "execution_count": 72,
   "metadata": {
    "collapsed": false
   },
   "outputs": [
    {
     "data": {
      "text/plain": [
       "Index(['sepal length (cm)', 'sepal width (cm)', 'petal length (cm)',\n",
       "       'petal width (cm)'],\n",
       "      dtype='object')"
      ]
     },
     "execution_count": 72,
     "metadata": {},
     "output_type": "execute_result"
    }
   ],
   "source": [
    "# Create a list of the feature column's names\n",
    "features = df.columns[:4]\n",
    "\n",
    "# View features\n",
    "features"
   ]
  },
  {
   "cell_type": "code",
   "execution_count": 73,
   "metadata": {
    "collapsed": false
   },
   "outputs": [
    {
     "data": {
      "text/plain": [
       "array([0, 0, 0, 0, 0, 0, 0, 0, 0, 0, 0, 0, 0, 0, 0, 0, 0, 0, 0, 0, 0, 0,\n",
       "       0, 0, 0, 0, 0, 0, 0, 0, 0, 0, 0, 0, 0, 0, 0, 1, 1, 1, 1, 1, 1, 1,\n",
       "       1, 1, 1, 1, 1, 1, 1, 1, 1, 1, 1, 1, 1, 1, 1, 1, 1, 1, 1, 1, 1, 1,\n",
       "       1, 1, 1, 1, 1, 1, 1, 1, 1, 1, 1, 1, 1, 1, 2, 2, 2, 2, 2, 2, 2, 2,\n",
       "       2, 2, 2, 2, 2, 2, 2, 2, 2, 2, 2, 2, 2, 2, 2, 2, 2, 2, 2, 2, 2, 2,\n",
       "       2, 2, 2, 2, 2, 2, 2, 2])"
      ]
     },
     "execution_count": 73,
     "metadata": {},
     "output_type": "execute_result"
    }
   ],
   "source": [
    "# train['species'] contains the actual species names. Before we can use it,\n",
    "# we need to convert each species name into a digit. So, in this case there\n",
    "# are three species, which have been coded as 0, 1, or 2.\n",
    "y = pd.factorize(train['species'])[0]\n",
    "\n",
    "# View target\n",
    "y"
   ]
  },
  {
   "cell_type": "markdown",
   "metadata": {},
   "source": [
    "Train the random forest classifier:"
   ]
  },
  {
   "cell_type": "code",
   "execution_count": 74,
   "metadata": {
    "collapsed": false
   },
   "outputs": [
    {
     "name": "stderr",
     "output_type": "stream",
     "text": [
      "/Users/luke/miniconda3/envs/python3/lib/python3.5/site-packages/sklearn/ensemble/forest.py:248: FutureWarning: The default value of n_estimators will change from 10 in version 0.20 to 100 in 0.22.\n",
      "  \"10 in version 0.20 to 100 in 0.22.\", FutureWarning)\n"
     ]
    },
    {
     "data": {
      "text/plain": [
       "RandomForestClassifier(bootstrap=True, class_weight=None, criterion='gini',\n",
       "            max_depth=None, max_features='auto', max_leaf_nodes=None,\n",
       "            min_impurity_decrease=0.0, min_impurity_split=None,\n",
       "            min_samples_leaf=1, min_samples_split=2,\n",
       "            min_weight_fraction_leaf=0.0, n_estimators=10, n_jobs=2,\n",
       "            oob_score=False, random_state=0, verbose=0, warm_start=False)"
      ]
     },
     "execution_count": 74,
     "metadata": {},
     "output_type": "execute_result"
    }
   ],
   "source": [
    "# Create a random forest Classifier. By convention, clf means 'Classifier'\n",
    "clf = RandomForestClassifier(n_jobs=2, random_state=0)\n",
    "\n",
    "# Train the Classifier to take the training features and learn how they relate\n",
    "# to the training y (the species)\n",
    "clf.fit(train[features], y)"
   ]
  },
  {
   "cell_type": "markdown",
   "metadata": {},
   "source": [
    "Now we have trained our random forest classifier! The classifier model itself is stored in the `clf` variable."
   ]
  },
  {
   "cell_type": "markdown",
   "metadata": {},
   "source": [
    "Apply classifier to test data:"
   ]
  },
  {
   "cell_type": "code",
   "execution_count": 75,
   "metadata": {
    "collapsed": false
   },
   "outputs": [
    {
     "data": {
      "text/plain": [
       "array([0, 0, 0, 0, 0, 0, 0, 0, 0, 0, 0, 0, 0, 1, 1, 1, 2, 2, 1, 1, 2, 2,\n",
       "       2, 2, 2, 2, 2, 2, 2, 2, 2, 2])"
      ]
     },
     "execution_count": 75,
     "metadata": {},
     "output_type": "execute_result"
    }
   ],
   "source": [
    "# Apply the Classifier we trained to the test data (which, remember, it has never seen before)\n",
    "clf.predict(test[features])"
   ]
  },
  {
   "cell_type": "code",
   "execution_count": 76,
   "metadata": {
    "collapsed": false
   },
   "outputs": [
    {
     "data": {
      "text/plain": [
       "array([[1., 0., 0.],\n",
       "       [1., 0., 0.],\n",
       "       [1., 0., 0.],\n",
       "       [1., 0., 0.],\n",
       "       [1., 0., 0.],\n",
       "       [1., 0., 0.],\n",
       "       [1., 0., 0.],\n",
       "       [1., 0., 0.],\n",
       "       [1., 0., 0.],\n",
       "       [1., 0., 0.]])"
      ]
     },
     "execution_count": 76,
     "metadata": {},
     "output_type": "execute_result"
    }
   ],
   "source": [
    "# View the predicted probabilities of the first 10 observations\n",
    "clf.predict_proba(test[features])[0:10]"
   ]
  },
  {
   "cell_type": "markdown",
   "metadata": {},
   "source": [
    "Evaluate classifier:"
   ]
  },
  {
   "cell_type": "code",
   "execution_count": 77,
   "metadata": {
    "collapsed": true
   },
   "outputs": [],
   "source": [
    "# Create actual English names for the plants for each predicted plant class\n",
    "preds = iris.target_names[clf.predict(test[features])]"
   ]
  },
  {
   "cell_type": "code",
   "execution_count": 78,
   "metadata": {
    "collapsed": false
   },
   "outputs": [
    {
     "data": {
      "text/plain": [
       "array(['setosa', 'setosa', 'setosa', 'setosa', 'setosa'], dtype='<U10')"
      ]
     },
     "execution_count": 78,
     "metadata": {},
     "output_type": "execute_result"
    }
   ],
   "source": [
    "# View the PREDICTED species for the first five observations\n",
    "preds[0:5]"
   ]
  },
  {
   "cell_type": "code",
   "execution_count": 79,
   "metadata": {
    "collapsed": false
   },
   "outputs": [
    {
     "data": {
      "text/plain": [
       "7     setosa\n",
       "8     setosa\n",
       "10    setosa\n",
       "13    setosa\n",
       "17    setosa\n",
       "Name: species, dtype: category\n",
       "Categories (3, object): [setosa, versicolor, virginica]"
      ]
     },
     "execution_count": 79,
     "metadata": {},
     "output_type": "execute_result"
    }
   ],
   "source": [
    "# View the ACTUAL species for the first five observations\n",
    "test['species'].head()"
   ]
  },
  {
   "cell_type": "markdown",
   "metadata": {},
   "source": [
    "This looks good for these five observations. Now let's look at all the data."
   ]
  },
  {
   "cell_type": "markdown",
   "metadata": {},
   "source": [
    "Create a confusion matrix. Anything on the diagonal was classified correctly and anything off the diagonal was classified incorrectly:"
   ]
  },
  {
   "cell_type": "code",
   "execution_count": 80,
   "metadata": {
    "collapsed": false
   },
   "outputs": [
    {
     "data": {
      "text/html": [
       "<div>\n",
       "<style>\n",
       "    .dataframe thead tr:only-child th {\n",
       "        text-align: right;\n",
       "    }\n",
       "\n",
       "    .dataframe thead th {\n",
       "        text-align: left;\n",
       "    }\n",
       "\n",
       "    .dataframe tbody tr th {\n",
       "        vertical-align: top;\n",
       "    }\n",
       "</style>\n",
       "<table border=\"1\" class=\"dataframe\">\n",
       "  <thead>\n",
       "    <tr style=\"text-align: right;\">\n",
       "      <th>Predicted Species</th>\n",
       "      <th>setosa</th>\n",
       "      <th>versicolor</th>\n",
       "      <th>virginica</th>\n",
       "    </tr>\n",
       "    <tr>\n",
       "      <th>Actual Species</th>\n",
       "      <th></th>\n",
       "      <th></th>\n",
       "      <th></th>\n",
       "    </tr>\n",
       "  </thead>\n",
       "  <tbody>\n",
       "    <tr>\n",
       "      <th>setosa</th>\n",
       "      <td>13</td>\n",
       "      <td>0</td>\n",
       "      <td>0</td>\n",
       "    </tr>\n",
       "    <tr>\n",
       "      <th>versicolor</th>\n",
       "      <td>0</td>\n",
       "      <td>5</td>\n",
       "      <td>2</td>\n",
       "    </tr>\n",
       "    <tr>\n",
       "      <th>virginica</th>\n",
       "      <td>0</td>\n",
       "      <td>0</td>\n",
       "      <td>12</td>\n",
       "    </tr>\n",
       "  </tbody>\n",
       "</table>\n",
       "</div>"
      ],
      "text/plain": [
       "Predicted Species  setosa  versicolor  virginica\n",
       "Actual Species                                  \n",
       "setosa                 13           0          0\n",
       "versicolor              0           5          2\n",
       "virginica               0           0         12"
      ]
     },
     "execution_count": 80,
     "metadata": {},
     "output_type": "execute_result"
    }
   ],
   "source": [
    "# Create confusion matrix\n",
    "pd.crosstab(test['species'], preds, rownames=['Actual Species'], colnames=['Predicted Species'])"
   ]
  },
  {
   "cell_type": "markdown",
   "metadata": {},
   "source": [
    "View feature importance. We get a score telling us how important each feature was in classifying. This is one of the most powerful parts of random forests, because we can clearly see that petal width was more important in classification than sepal width:"
   ]
  },
  {
   "cell_type": "code",
   "execution_count": 81,
   "metadata": {
    "collapsed": false
   },
   "outputs": [
    {
     "data": {
      "text/plain": [
       "[('sepal length (cm)', 0.11185992930506346),\n",
       " ('sepal width (cm)', 0.016341813006098178),\n",
       " ('petal length (cm)', 0.36439533040889194),\n",
       " ('petal width (cm)', 0.5074029272799464)]"
      ]
     },
     "execution_count": 81,
     "metadata": {},
     "output_type": "execute_result"
    }
   ],
   "source": [
    "# View a list of the features and their importance scores\n",
    "list(zip(train[features], clf.feature_importances_))"
   ]
  },
  {
   "cell_type": "markdown",
   "metadata": {},
   "source": [
    "#### K-means clustering\n",
    "\n",
    "Based on a tutorial on K-means clustering by [Scott Robinson](https://stackabuse.com/k-means-clustering-with-scikit-learn/)."
   ]
  },
  {
   "cell_type": "code",
   "execution_count": 82,
   "metadata": {
    "collapsed": true
   },
   "outputs": [],
   "source": [
    "from sklearn.cluster import KMeans"
   ]
  },
  {
   "cell_type": "markdown",
   "metadata": {},
   "source": [
    "Create a 2-dimensional array and plot it:"
   ]
  },
  {
   "cell_type": "code",
   "execution_count": 83,
   "metadata": {
    "collapsed": true
   },
   "outputs": [],
   "source": [
    "X = np.array([[5,3],\n",
    "              [10,15],\n",
    "              [15,12],\n",
    "              [24,10],\n",
    "              [30,45],\n",
    "              [85,70],\n",
    "              [71,80],\n",
    "              [60,78],\n",
    "              [55,52],\n",
    "              [80,91]])"
   ]
  },
  {
   "cell_type": "code",
   "execution_count": 84,
   "metadata": {
    "collapsed": false
   },
   "outputs": [
    {
     "data": {
      "image/png": "[encoded data removed]",
      "text/plain": [
       "<matplotlib.figure.Figure at 0x1a2382ef28>"
      ]
     },
     "metadata": {},
     "output_type": "display_data"
    }
   ],
   "source": [
    "plt.scatter(X[:,0],X[:,1], label='True Position');"
   ]
  },
  {
   "cell_type": "markdown",
   "metadata": {},
   "source": [
    "Create a K-means cluster with two clusters:"
   ]
  },
  {
   "cell_type": "code",
   "execution_count": 85,
   "metadata": {
    "collapsed": false
   },
   "outputs": [
    {
     "data": {
      "text/plain": [
       "KMeans(algorithm='auto', copy_x=True, init='k-means++', max_iter=300,\n",
       "    n_clusters=2, n_init=10, n_jobs=None, precompute_distances='auto',\n",
       "    random_state=None, tol=0.0001, verbose=0)"
      ]
     },
     "execution_count": 85,
     "metadata": {},
     "output_type": "execute_result"
    }
   ],
   "source": [
    "# In the first line, you create a KMeans object and pass it 2 as value for n_clusters parameter. \n",
    "# Next, you simply have to call the fit method on kmeans and pass the data that you want to cluster.\n",
    "kmeans = KMeans(n_clusters=2)  \n",
    "kmeans.fit(X)  "
   ]
  },
  {
   "cell_type": "code",
   "execution_count": 86,
   "metadata": {
    "collapsed": false
   },
   "outputs": [
    {
     "name": "stdout",
     "output_type": "stream",
     "text": [
      "[[70.2 74.2]\n",
      " [16.8 17. ]]\n"
     ]
    }
   ],
   "source": [
    "# The first row contains values for the coordinates of the first centroid.\n",
    "# The second row contains values for the coordinates of the other centroid.\n",
    "print(kmeans.cluster_centers_)"
   ]
  },
  {
   "cell_type": "code",
   "execution_count": 87,
   "metadata": {
    "collapsed": false
   },
   "outputs": [
    {
     "name": "stdout",
     "output_type": "stream",
     "text": [
      "[1 1 1 1 1 0 0 0 0 0]\n"
     ]
    }
   ],
   "source": [
    "# The labels are a one dimensional array of 10 elements corresponding to the clusters assigned to our 10 data points.\n",
    "print(kmeans.labels_)"
   ]
  },
  {
   "cell_type": "markdown",
   "metadata": {},
   "source": [
    "Plot the results colored by cluster labels:"
   ]
  },
  {
   "cell_type": "code",
   "execution_count": 88,
   "metadata": {
    "collapsed": false,
    "scrolled": true
   },
   "outputs": [
    {
     "data": {
      "image/png": "[encoded data removed]",
      "text/plain": [
       "<matplotlib.figure.Figure at 0x1a2280be10>"
      ]
     },
     "metadata": {},
     "output_type": "display_data"
    }
   ],
   "source": [
    "plt.scatter(X[:,0],X[:,1], c=kmeans.labels_, cmap='rainbow');"
   ]
  },
  {
   "cell_type": "markdown",
   "metadata": {},
   "source": [
    "Here's what we get with 3 clusters:"
   ]
  },
  {
   "cell_type": "code",
   "execution_count": 89,
   "metadata": {
    "collapsed": false
   },
   "outputs": [
    {
     "data": {
      "image/png": "[encoded data removed]",
      "text/plain": [
       "<matplotlib.figure.Figure at 0x1a238963c8>"
      ]
     },
     "metadata": {},
     "output_type": "display_data"
    }
   ],
   "source": [
    "kmeans = KMeans(n_clusters=3)\n",
    "kmeans.fit(X)\n",
    "plt.scatter(X[:,0],X[:,1], c=kmeans.labels_, cmap='rainbow');"
   ]
  },
  {
   "cell_type": "markdown",
   "metadata": {},
   "source": [
    "### Microbiome analysis with scikit-bio"
   ]
  },
  {
   "cell_type": "markdown",
   "metadata": {},
   "source": [
    "This last lesson is taken from the documentation for [Scikit-bio](http://scikit-bio.org/docs/latest/). The package `skbio.diversity` provides diversity measures for OTU tables. OTUs are \"operational taxonomic units\"; you can think of them as taxa or species.\n",
    "\n",
    "First, you will have to install Scikit-bio:\n",
    "\n",
    "```\n",
    "conda install -c https://conda.anaconda.org/biocore scikit-bio\n",
    "```"
   ]
  },
  {
   "cell_type": "code",
   "execution_count": 90,
   "metadata": {
    "collapsed": true
   },
   "outputs": [],
   "source": [
    "from skbio.diversity import alpha_diversity\n",
    "from skbio import TreeNode\n",
    "from io import StringIO\n",
    "from skbio.diversity import beta_diversity\n",
    "from skbio.stats.distance import mantel\n",
    "from skbio.stats.ordination import pcoa\n",
    "from skbio.stats.distance import anosim"
   ]
  },
  {
   "cell_type": "markdown",
   "metadata": {},
   "source": [
    "Create a matrix containing 6 samples (rows) and 7 OTUs (columns):"
   ]
  },
  {
   "cell_type": "code",
   "execution_count": 91,
   "metadata": {
    "collapsed": true
   },
   "outputs": [],
   "source": [
    "data = [[23, 64, 14, 0, 0, 3, 1],\n",
    "        [0, 3, 35, 42, 0, 12, 1],\n",
    "        [0, 5, 5, 0, 40, 40, 0],\n",
    "        [44, 35, 9, 0, 1, 0, 0],\n",
    "        [0, 2, 8, 0, 35, 45, 1],\n",
    "        [0, 0, 25, 35, 0, 19, 0]]\n",
    "ids = list('ABCDEF')"
   ]
  },
  {
   "cell_type": "code",
   "execution_count": 92,
   "metadata": {
    "collapsed": false
   },
   "outputs": [
    {
     "data": {
      "text/plain": [
       "[[23, 64, 14, 0, 0, 3, 1],\n",
       " [0, 3, 35, 42, 0, 12, 1],\n",
       " [0, 5, 5, 0, 40, 40, 0],\n",
       " [44, 35, 9, 0, 1, 0, 0],\n",
       " [0, 2, 8, 0, 35, 45, 1],\n",
       " [0, 0, 25, 35, 0, 19, 0]]"
      ]
     },
     "execution_count": 92,
     "metadata": {},
     "output_type": "execute_result"
    }
   ],
   "source": [
    "data"
   ]
  },
  {
   "cell_type": "code",
   "execution_count": 93,
   "metadata": {
    "collapsed": false
   },
   "outputs": [
    {
     "data": {
      "text/plain": [
       "['A', 'B', 'C', 'D', 'E', 'F']"
      ]
     },
     "execution_count": 93,
     "metadata": {},
     "output_type": "execute_result"
    }
   ],
   "source": [
    "ids"
   ]
  },
  {
   "cell_type": "markdown",
   "metadata": {},
   "source": [
    "#### Alpha-diversity"
   ]
  },
  {
   "cell_type": "markdown",
   "metadata": {},
   "source": [
    "First, we’ll compute observed OTUs, an alpha diversity metric, for each sample using the alpha_diversity driver function:"
   ]
  },
  {
   "cell_type": "code",
   "execution_count": 94,
   "metadata": {
    "collapsed": false,
    "scrolled": false
   },
   "outputs": [
    {
     "data": {
      "text/plain": [
       "A    5\n",
       "B    5\n",
       "C    4\n",
       "D    4\n",
       "E    5\n",
       "F    3\n",
       "dtype: int64"
      ]
     },
     "execution_count": 94,
     "metadata": {},
     "output_type": "execute_result"
    }
   ],
   "source": [
    "adiv_obs_otus = alpha_diversity('observed_otus', data, ids)\n",
    "adiv_obs_otus"
   ]
  },
  {
   "cell_type": "markdown",
   "metadata": {},
   "source": [
    "Next we’ll compute Faith’s PD on the same samples. Since this is a phylogenetic diversity metric, we’ll first create a tree and an ordered list of OTU identifiers."
   ]
  },
  {
   "cell_type": "code",
   "execution_count": 95,
   "metadata": {
    "collapsed": false
   },
   "outputs": [
    {
     "data": {
      "text/plain": [
       "A    6.75\n",
       "B    7.00\n",
       "C    6.25\n",
       "D    5.75\n",
       "E    6.75\n",
       "F    5.50\n",
       "dtype: float64"
      ]
     },
     "execution_count": 95,
     "metadata": {},
     "output_type": "execute_result"
    }
   ],
   "source": [
    "tree = TreeNode.read(StringIO(\n",
    "               '(((((OTU1:0.5,OTU2:0.5):0.5,OTU3:1.0):1.0):0.0,'\n",
    "               '(OTU4:0.75,(OTU5:0.5,(OTU6:0.5,OTU7:0.5):0.5):'\n",
    "               '0.5):1.25):0.0)root;'))\n",
    "otu_ids = ['OTU1', 'OTU2', 'OTU3', 'OTU4', 'OTU5', 'OTU6', 'OTU7']\n",
    "adiv_faith_pd = alpha_diversity('faith_pd', data, ids=ids, otu_ids=otu_ids, tree=tree)\n",
    "adiv_faith_pd"
   ]
  },
  {
   "cell_type": "markdown",
   "metadata": {},
   "source": [
    "#### Beta-diversity"
   ]
  },
  {
   "cell_type": "markdown",
   "metadata": {},
   "source": [
    "Now we’ll compute Bray-Curtis distances, a beta diversity metric, between all pairs of samples. Notice that the data and ids parameters provided to beta_diversity are the same as those provided to alpha_diversity."
   ]
  },
  {
   "cell_type": "code",
   "execution_count": 96,
   "metadata": {
    "collapsed": false
   },
   "outputs": [
    {
     "name": "stdout",
     "output_type": "stream",
     "text": [
      "6x6 distance matrix\n",
      "IDs:\n",
      "'A', 'B', 'C', 'D', 'E', 'F'\n",
      "Data:\n",
      "[[0.         0.78787879 0.86666667 0.30927835 0.85714286 0.81521739]\n",
      " [0.78787879 0.         0.78142077 0.86813187 0.75       0.1627907 ]\n",
      " [0.86666667 0.78142077 0.         0.87709497 0.09392265 0.71597633]\n",
      " [0.30927835 0.86813187 0.87709497 0.         0.87777778 0.89285714]\n",
      " [0.85714286 0.75       0.09392265 0.87777778 0.         0.68235294]\n",
      " [0.81521739 0.1627907  0.71597633 0.89285714 0.68235294 0.        ]]\n"
     ]
    }
   ],
   "source": [
    "bc_dm = beta_diversity(\"braycurtis\", data, ids)\n",
    "print(bc_dm)"
   ]
  },
  {
   "cell_type": "markdown",
   "metadata": {},
   "source": [
    "Next, we’ll compute weighted UniFrac distances between all pairs of samples. Because weighted UniFrac is a phylogenetic beta diversity metric, we’ll need to pass the skbio.TreeNode and list of OTU ids that we created above. Again, these are the same values that were provided to alpha_diversity."
   ]
  },
  {
   "cell_type": "code",
   "execution_count": 97,
   "metadata": {
    "collapsed": false
   },
   "outputs": [
    {
     "name": "stdout",
     "output_type": "stream",
     "text": [
      "6x6 distance matrix\n",
      "IDs:\n",
      "'A', 'B', 'C', 'D', 'E', 'F'\n",
      "Data:\n",
      "[[0.         2.77549923 3.82857143 0.42512039 3.8547619  3.10937312]\n",
      " [2.77549923 0.         2.26433692 2.98435423 2.24270353 0.46774194]\n",
      " [3.82857143 2.26433692 0.         3.95224719 0.16025641 1.86111111]\n",
      " [0.42512039 2.98435423 3.95224719 0.         3.98796148 3.30870431]\n",
      " [3.8547619  2.24270353 0.16025641 3.98796148 0.         1.82967033]\n",
      " [3.10937312 0.46774194 1.86111111 3.30870431 1.82967033 0.        ]]\n"
     ]
    }
   ],
   "source": [
    "wu_dm = beta_diversity(\"weighted_unifrac\", data, ids, tree=tree, otu_ids=otu_ids)\n",
    "print(wu_dm)"
   ]
  },
  {
   "cell_type": "markdown",
   "metadata": {},
   "source": [
    "Next we’ll do some work with these beta diversity distance matrices. First, we’ll determine if the UniFrac and Bray-Curtis distance matrices are significantly correlated by computing the Mantel correlation between them. Then we’ll determine if the p-value is significant based on an alpha of 0.05."
   ]
  },
  {
   "cell_type": "code",
   "execution_count": 98,
   "metadata": {
    "collapsed": false
   },
   "outputs": [
    {
     "name": "stdout",
     "output_type": "stream",
     "text": [
      "0.9224043920928952\n",
      "0.001\n",
      "True\n"
     ]
    }
   ],
   "source": [
    "r, p_value, n = mantel(wu_dm, bc_dm)\n",
    "print(r)\n",
    "alpha = 0.05\n",
    "print(p_value)\n",
    "print(p_value < alpha)"
   ]
  },
  {
   "cell_type": "markdown",
   "metadata": {},
   "source": [
    "Next, we’ll perform principal coordinates analysis (PCoA) on our weighted UniFrac distance matrix."
   ]
  },
  {
   "cell_type": "code",
   "execution_count": 99,
   "metadata": {
    "collapsed": false
   },
   "outputs": [
    {
     "name": "stdout",
     "output_type": "stream",
     "text": [
      "Ordination results:\n",
      "\tMethod: Principal Coordinate Analysis (PCoA)\n",
      "\tEigvals: 6\n",
      "\tProportion explained: 6\n",
      "\tFeatures: N/A\n",
      "\tSamples: 6x6\n",
      "\tBiplot Scores: N/A\n",
      "\tSample constraints: N/A\n",
      "\tFeature IDs: N/A\n",
      "\tSample IDs: 'A', 'B', 'C', 'D', 'E', 'F'\n"
     ]
    },
    {
     "name": "stderr",
     "output_type": "stream",
     "text": [
      "/Users/luke/miniconda3/envs/python3/lib/python3.5/site-packages/skbio/stats/ordination/_principal_coordinate_analysis.py:111: RuntimeWarning: The result contains negative eigenvalues. Please compare their magnitude with the magnitude of some of the largest positive eigenvalues. If the negative ones are smaller, it's probably safe to ignore them, but if they are large in magnitude, the results won't be useful. See the Notes section for more details. The smallest eigenvalue is -0.011492611219229593 and the largest is 16.021722090908206.\n",
      "  RuntimeWarning\n"
     ]
    }
   ],
   "source": [
    "wu_pc = pcoa(wu_dm)\n",
    "print(wu_pc)"
   ]
  },
  {
   "cell_type": "markdown",
   "metadata": {},
   "source": [
    "PCoA plots are only really interesting in the context of sample metadata, so let’s define some before we visualize these results."
   ]
  },
  {
   "cell_type": "code",
   "execution_count": 100,
   "metadata": {
    "collapsed": false
   },
   "outputs": [
    {
     "data": {
      "text/html": [
       "<div>\n",
       "<style>\n",
       "    .dataframe thead tr:only-child th {\n",
       "        text-align: right;\n",
       "    }\n",
       "\n",
       "    .dataframe thead th {\n",
       "        text-align: left;\n",
       "    }\n",
       "\n",
       "    .dataframe tbody tr th {\n",
       "        vertical-align: top;\n",
       "    }\n",
       "</style>\n",
       "<table border=\"1\" class=\"dataframe\">\n",
       "  <thead>\n",
       "    <tr style=\"text-align: right;\">\n",
       "      <th></th>\n",
       "      <th>body_site</th>\n",
       "      <th>subject</th>\n",
       "    </tr>\n",
       "  </thead>\n",
       "  <tbody>\n",
       "    <tr>\n",
       "      <th>A</th>\n",
       "      <td>gut</td>\n",
       "      <td>s1</td>\n",
       "    </tr>\n",
       "    <tr>\n",
       "      <th>B</th>\n",
       "      <td>skin</td>\n",
       "      <td>s1</td>\n",
       "    </tr>\n",
       "    <tr>\n",
       "      <th>C</th>\n",
       "      <td>tongue</td>\n",
       "      <td>s1</td>\n",
       "    </tr>\n",
       "    <tr>\n",
       "      <th>D</th>\n",
       "      <td>gut</td>\n",
       "      <td>s2</td>\n",
       "    </tr>\n",
       "    <tr>\n",
       "      <th>E</th>\n",
       "      <td>tongue</td>\n",
       "      <td>s2</td>\n",
       "    </tr>\n",
       "    <tr>\n",
       "      <th>F</th>\n",
       "      <td>skin</td>\n",
       "      <td>s2</td>\n",
       "    </tr>\n",
       "  </tbody>\n",
       "</table>\n",
       "</div>"
      ],
      "text/plain": [
       "  body_site subject\n",
       "A       gut      s1\n",
       "B      skin      s1\n",
       "C    tongue      s1\n",
       "D       gut      s2\n",
       "E    tongue      s2\n",
       "F      skin      s2"
      ]
     },
     "execution_count": 100,
     "metadata": {},
     "output_type": "execute_result"
    }
   ],
   "source": [
    "sample_md = [\n",
    "    ('A', ['gut', 's1']),\n",
    "    ('B', ['skin', 's1']),\n",
    "    ('C', ['tongue', 's1']),\n",
    "    ('D', ['gut', 's2']),\n",
    "    ('E', ['tongue', 's2']),\n",
    "    ('F', ['skin', 's2'])]\n",
    "sample_md = pd.DataFrame.from_items(sample_md, columns=['body_site', 'subject'], orient='index')\n",
    "sample_md"
   ]
  },
  {
   "cell_type": "markdown",
   "metadata": {},
   "source": [
    "Now let’s plot our PCoA results, coloring each sample by the subject it was taken from:"
   ]
  },
  {
   "cell_type": "code",
   "execution_count": 101,
   "metadata": {
    "collapsed": false
   },
   "outputs": [
    {
     "data": {
      "image/png": "[encoded data removed]",
      "text/plain": [
       "<matplotlib.figure.Figure at 0x1a23c67b70>"
      ]
     },
     "metadata": {},
     "output_type": "display_data"
    }
   ],
   "source": [
    "sns.set_style('white')\n",
    "fig = wu_pc.plot(sample_md, 'subject',\n",
    "    axis_labels=('PC 1', 'PC 2', 'PC 3'),\n",
    "    title='Samples colored by subject', cmap='Set1', s=50)"
   ]
  },
  {
   "cell_type": "markdown",
   "metadata": {},
   "source": [
    "We don’t see any clustering/grouping of samples. If we were to instead color the samples by the body site they were taken from, we see that the samples from the same body site (those that are colored the same) appear to be closer to one another in the 3-D space then they are to samples from other body sites."
   ]
  },
  {
   "cell_type": "code",
   "execution_count": 102,
   "metadata": {
    "collapsed": false
   },
   "outputs": [
    {
     "data": {
      "image/png": "[encoded data removed]",
      "text/plain": [
       "<matplotlib.figure.Figure at 0x1a23d12a58>"
      ]
     },
     "metadata": {},
     "output_type": "display_data"
    }
   ],
   "source": [
    "fig = wu_pc.plot(sample_md, 'body_site',\n",
    "    axis_labels=('PC 1', 'PC 2', 'PC 3'),\n",
    "    title='Samples colored by body site', cmap='Set1', s=50)"
   ]
  },
  {
   "cell_type": "markdown",
   "metadata": {},
   "source": [
    "Ordination techniques, such as PCoA, are useful for exploratory analysis. The next step is to quantify the strength of the grouping/clustering that we see in ordination plots. There are many statistical methods available to accomplish this; many operate on distance matrices. Let’s use ANOSIM to quantify the strength of the clustering we see in the ordination plots above, using our weighted UniFrac distance matrix and sample metadata.\n",
    "\n",
    "First test the grouping of samples by **subject**:"
   ]
  },
  {
   "cell_type": "code",
   "execution_count": 103,
   "metadata": {
    "collapsed": true
   },
   "outputs": [],
   "source": [
    "results = anosim(wu_dm, sample_md, column='subject', permutations=999)"
   ]
  },
  {
   "cell_type": "code",
   "execution_count": 104,
   "metadata": {
    "collapsed": false
   },
   "outputs": [
    {
     "data": {
      "text/plain": [
       "method name                 ANOSIM\n",
       "test statistic name              R\n",
       "sample size                      6\n",
       "number of groups                 2\n",
       "test statistic           -0.333333\n",
       "p-value                          1\n",
       "number of permutations         999\n",
       "Name: ANOSIM results, dtype: object"
      ]
     },
     "execution_count": 104,
     "metadata": {},
     "output_type": "execute_result"
    }
   ],
   "source": [
    "results"
   ]
  },
  {
   "cell_type": "code",
   "execution_count": 105,
   "metadata": {
    "collapsed": false
   },
   "outputs": [
    {
     "data": {
      "text/plain": [
       "-0.3333333333333333"
      ]
     },
     "execution_count": 105,
     "metadata": {},
     "output_type": "execute_result"
    }
   ],
   "source": [
    "results['test statistic']"
   ]
  },
  {
   "cell_type": "code",
   "execution_count": 106,
   "metadata": {
    "collapsed": false
   },
   "outputs": [
    {
     "data": {
      "text/plain": [
       "False"
      ]
     },
     "execution_count": 106,
     "metadata": {},
     "output_type": "execute_result"
    }
   ],
   "source": [
    "results['p-value'] < 0.1"
   ]
  },
  {
   "cell_type": "markdown",
   "metadata": {},
   "source": [
    "The negative value of ANOSIM’s R statistic indicates anti-clustering, but the p-value is insignificant at an alpha of 0.1.\n",
    "\n",
    "Now let’s test the grouping of samples by **body site**:"
   ]
  },
  {
   "cell_type": "code",
   "execution_count": 107,
   "metadata": {
    "collapsed": true
   },
   "outputs": [],
   "source": [
    "results = anosim(wu_dm, sample_md, column='body_site', permutations=999)"
   ]
  },
  {
   "cell_type": "code",
   "execution_count": 108,
   "metadata": {
    "collapsed": false
   },
   "outputs": [
    {
     "data": {
      "text/plain": [
       "method name               ANOSIM\n",
       "test statistic name            R\n",
       "sample size                    6\n",
       "number of groups               3\n",
       "test statistic                 1\n",
       "p-value                    0.062\n",
       "number of permutations       999\n",
       "Name: ANOSIM results, dtype: object"
      ]
     },
     "execution_count": 108,
     "metadata": {},
     "output_type": "execute_result"
    }
   ],
   "source": [
    "results"
   ]
  },
  {
   "cell_type": "code",
   "execution_count": 109,
   "metadata": {
    "collapsed": false
   },
   "outputs": [
    {
     "data": {
      "text/plain": [
       "1.0"
      ]
     },
     "execution_count": 109,
     "metadata": {},
     "output_type": "execute_result"
    }
   ],
   "source": [
    "results['test statistic']"
   ]
  },
  {
   "cell_type": "code",
   "execution_count": 110,
   "metadata": {
    "collapsed": false,
    "scrolled": true
   },
   "outputs": [
    {
     "data": {
      "text/plain": [
       "True"
      ]
     },
     "execution_count": 110,
     "metadata": {},
     "output_type": "execute_result"
    }
   ],
   "source": [
    "results['p-value'] < 0.1"
   ]
  },
  {
   "cell_type": "markdown",
   "metadata": {},
   "source": [
    "The R statistic indicates strong separation of samples based on body site. The p-value is significant at an alpha of 0.1."
   ]
  },
  {
   "cell_type": "markdown",
   "metadata": {},
   "source": [
    "#### Correlations with metadata"
   ]
  },
  {
   "cell_type": "markdown",
   "metadata": {},
   "source": [
    "We can also explore the alpha diversity in the context of sample metadata. To do this, let’s add the Observed OTU and Faith PD data to our sample metadata. This is straight-forward beause alpha_diversity returns a Pandas Series object, and we’re representing our sample metadata in a Pandas DataFrame object."
   ]
  },
  {
   "cell_type": "code",
   "execution_count": 111,
   "metadata": {
    "collapsed": false
   },
   "outputs": [
    {
     "data": {
      "text/html": [
       "<div>\n",
       "<style>\n",
       "    .dataframe thead tr:only-child th {\n",
       "        text-align: right;\n",
       "    }\n",
       "\n",
       "    .dataframe thead th {\n",
       "        text-align: left;\n",
       "    }\n",
       "\n",
       "    .dataframe tbody tr th {\n",
       "        vertical-align: top;\n",
       "    }\n",
       "</style>\n",
       "<table border=\"1\" class=\"dataframe\">\n",
       "  <thead>\n",
       "    <tr style=\"text-align: right;\">\n",
       "      <th></th>\n",
       "      <th>body_site</th>\n",
       "      <th>subject</th>\n",
       "      <th>Observed OTUs</th>\n",
       "      <th>Faith PD</th>\n",
       "    </tr>\n",
       "  </thead>\n",
       "  <tbody>\n",
       "    <tr>\n",
       "      <th>A</th>\n",
       "      <td>gut</td>\n",
       "      <td>s1</td>\n",
       "      <td>5</td>\n",
       "      <td>6.75</td>\n",
       "    </tr>\n",
       "    <tr>\n",
       "      <th>B</th>\n",
       "      <td>skin</td>\n",
       "      <td>s1</td>\n",
       "      <td>5</td>\n",
       "      <td>7.00</td>\n",
       "    </tr>\n",
       "    <tr>\n",
       "      <th>C</th>\n",
       "      <td>tongue</td>\n",
       "      <td>s1</td>\n",
       "      <td>4</td>\n",
       "      <td>6.25</td>\n",
       "    </tr>\n",
       "    <tr>\n",
       "      <th>D</th>\n",
       "      <td>gut</td>\n",
       "      <td>s2</td>\n",
       "      <td>4</td>\n",
       "      <td>5.75</td>\n",
       "    </tr>\n",
       "    <tr>\n",
       "      <th>E</th>\n",
       "      <td>tongue</td>\n",
       "      <td>s2</td>\n",
       "      <td>5</td>\n",
       "      <td>6.75</td>\n",
       "    </tr>\n",
       "    <tr>\n",
       "      <th>F</th>\n",
       "      <td>skin</td>\n",
       "      <td>s2</td>\n",
       "      <td>3</td>\n",
       "      <td>5.50</td>\n",
       "    </tr>\n",
       "  </tbody>\n",
       "</table>\n",
       "</div>"
      ],
      "text/plain": [
       "  body_site subject  Observed OTUs  Faith PD\n",
       "A       gut      s1              5      6.75\n",
       "B      skin      s1              5      7.00\n",
       "C    tongue      s1              4      6.25\n",
       "D       gut      s2              4      5.75\n",
       "E    tongue      s2              5      6.75\n",
       "F      skin      s2              3      5.50"
      ]
     },
     "execution_count": 111,
     "metadata": {},
     "output_type": "execute_result"
    }
   ],
   "source": [
    "sample_md['Observed OTUs'] = adiv_obs_otus\n",
    "sample_md['Faith PD'] = adiv_faith_pd\n",
    "sample_md"
   ]
  },
  {
   "cell_type": "markdown",
   "metadata": {},
   "source": [
    "We can investigate these alpha diversity data in the context of our metadata categories. For example, we can generate boxplots showing Faith PD by body site."
   ]
  },
  {
   "cell_type": "code",
   "execution_count": 112,
   "metadata": {
    "collapsed": false
   },
   "outputs": [
    {
     "data": {
      "image/png": "[encoded data removed]",
      "text/plain": [
       "<matplotlib.figure.Figure at 0x1a23da4860>"
      ]
     },
     "metadata": {},
     "output_type": "display_data"
    }
   ],
   "source": [
    "fig = sample_md.boxplot(column='Faith PD', by='body_site')"
   ]
  },
  {
   "cell_type": "markdown",
   "metadata": {},
   "source": [
    "We can also compute Spearman correlations between all pairs of columns in this DataFrame. Since our alpha diversity metrics are the only two numeric columns (and thus the only columns for which Spearman correlation is relevant), this will give us a symmetric 2x2 correlation matrix."
   ]
  },
  {
   "cell_type": "code",
   "execution_count": 113,
   "metadata": {
    "collapsed": false
   },
   "outputs": [
    {
     "data": {
      "text/html": [
       "<div>\n",
       "<style>\n",
       "    .dataframe thead tr:only-child th {\n",
       "        text-align: right;\n",
       "    }\n",
       "\n",
       "    .dataframe thead th {\n",
       "        text-align: left;\n",
       "    }\n",
       "\n",
       "    .dataframe tbody tr th {\n",
       "        vertical-align: top;\n",
       "    }\n",
       "</style>\n",
       "<table border=\"1\" class=\"dataframe\">\n",
       "  <thead>\n",
       "    <tr style=\"text-align: right;\">\n",
       "      <th></th>\n",
       "      <th>Observed OTUs</th>\n",
       "      <th>Faith PD</th>\n",
       "    </tr>\n",
       "  </thead>\n",
       "  <tbody>\n",
       "    <tr>\n",
       "      <th>Observed OTUs</th>\n",
       "      <td>1.000000</td>\n",
       "      <td>0.939336</td>\n",
       "    </tr>\n",
       "    <tr>\n",
       "      <th>Faith PD</th>\n",
       "      <td>0.939336</td>\n",
       "      <td>1.000000</td>\n",
       "    </tr>\n",
       "  </tbody>\n",
       "</table>\n",
       "</div>"
      ],
      "text/plain": [
       "               Observed OTUs  Faith PD\n",
       "Observed OTUs       1.000000  0.939336\n",
       "Faith PD            0.939336  1.000000"
      ]
     },
     "execution_count": 113,
     "metadata": {},
     "output_type": "execute_result"
    }
   ],
   "source": [
    "sample_md.corr(method=\"spearman\")"
   ]
  },
  {
   "cell_type": "markdown",
   "metadata": {
    "collapsed": true
   },
   "source": [
    "### R kernel in Jupyter notebooks\n",
    "\n",
    "Finally, if you want to use R in Jupyter notebooks, installation and instructions are here: <https://irkernel.github.io>."
   ]
  }
 ],
 "metadata": {
  "anaconda-cloud": {},
  "kernelspec": {
   "display_name": "Python [default]",
   "language": "python",
   "name": "python3"
  },
  "language_info": {
   "codemirror_mode": {
    "name": "ipython",
    "version": 3
   },
   "file_extension": ".py",
   "mimetype": "text/x-python",
   "name": "python",
   "nbconvert_exporter": "python",
   "pygments_lexer": "ipython3",
   "version": "3.5.2"
  }
 },
 "nbformat": 4,
 "nbformat_minor": 1
}
