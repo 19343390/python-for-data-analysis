{
 "cells": [
  {
   "cell_type": "markdown",
   "metadata": {},
   "source": [
    "### Answers for Assignment 8 - Time Series and Group Operations\n",
    "\n",
    "Complete the tasks below. Please turn in a single Jupyter notebook named `8_first_last.ipynb` (substitute your first and last name). Please run Kernel > Restart & Run All on your notebook before turning in.\n",
    "\n",
    "#### Precipitation in La Jolla\n",
    "\n",
    "For this assignment, we will use a file containing daily precipitation data in La Jolla from February 2009 to February 2018, which were downloaded from [NOAA](https://www.ncdc.noaa.gov/cdo-web/datasets/GHCND/stations/GHCND:US1CASD0030/detail) using \"standard\" (imperial) units (inches for precipitation, feet for elevation). Download the file from [GitHub](https://github.com/cuttlefishh/python-for-data-analysis/blob/master/data/la_jolla_precip_daily.csv).\n",
    "\n",
    "**1.** Set up the file.\n",
    "\n",
    "* Import the csv file as a Pandas DataFrame with default header and index.\n",
    "* Change the 'DATE' column to a timestamps using `pd.datetime()`.\n",
    "* What was the maximum daily precipitation (in inches) during this time period and when was it?\n",
    "\n",
    "**2.** Explore the dataset.\n",
    "\n",
    "* We don't need the columns 'SNOW' and 'SNOW_ATTRIBUTES' because there was no recorded snow in the dataset. Delete those columns \"in place\".\n",
    "* Find out about the sampling stations. Notice that the column values are similar between rows except 'DATE' and 'PRCP'. Explore these other columns using three different commands (we haven't covered them yet, but they are easy to use and you can always google them): \n",
    "    * Use the `value_counts()` method for each of these columns: 'STATION', 'NAME', 'LATITUDE', 'LONGITUDE', and 'ELEVATION'. There should only be one cateogory for each calculation because all the data come from the same station. To see what output looks like for a more diverse series, use the `value_counts()` method on 'PRCP' and 'PRCP_ATTRIBUTES'.\n",
    "    * Make a DataFrame with just the columns 'STATION', 'NAME', 'LATITUDE', 'LONGITUDE', and 'ELEVATION' and use the method `drop_duplicates()` to see all the unique combinations of values in those five columns. \n",
    "    * Create a groupby object using `groupby('STATION')`, then use the `count()` method on that groupby object to count the number of values for each station.\n",
    "\n",
    "**3.** Plot precipitation versus time.\n",
    "\n",
    "* Use the Matplotlib function `plot()` to plot 'PRCP' versus 'DATE' as a line.\n",
    "* Plot 'PRCP' versus 'DATE' each year separately as a different colored line, with a legend indicating the year. Hint: You will have to extract the year from the date somehow, for example with the `.year` attribute or a regular expression. You might find it easiest to add new columns for year and day of year.\n",
    "* Go back and recolor the two plots above: pick two colors from ColorBrewer or xkcd and draw your subplots again.\n",
    "* Replot the plots in a subplot with the two sets of axes in a 1x2 formation.\n",
    "\n",
    "**4.** Plot distributions of the precipitation data.\n",
    "\n",
    "* Plot a histogram of precipitation values using the Matplotlib function `hist()`.\n",
    "* Plot a histogram with kernel density and rugplot with the Seaborn function `distplot()`. Play around with the settings to make a histogram that represents the data well.\n",
    "* Add columns to the DataFrame for year and month. Hint: You can do this with list comprehension and the datetime attributes `year` and `month`.\n",
    "* Use groupby to group the data by year or by month. Which year was the rainiest? Which month was the rainiest?\n",
    "* Make boxplots by year and by month using the Seaborn function `boxplot()`. Hint: If you make a boxplot of your DataFrame without grouping, the boxplots will be centered on zero, because there are so many days with zero precipitation. Instead, use groupby to group the data by year *and* month (use a list containing these columns), set `as_index=False`, average over those groups, and save this as a new DataFrame; then use this for your boxplots.\n",
    "\n",
    "**5.** Pivoting, stacking and unstacking.\n",
    "\n",
    "* Use pivot_table to produce a new DataFrame, where rows=years and columns=months, containing the mean precipitation of each month.\n",
    "* Draw a heatmap of years x months where each square is a month colored by mean precipitation. Adjust the colormap to highlight months with heavy precipitation. Hint: Seaborn's `heatmap()` function makes this very easy.\n",
    "* Stack the monthly precipitation table using `stack()`. View the values for 2017. Which month had the most precipitation in 2017? Describe the distribution statistics for all months using `describe()`. How many months are included in this dataset? What was the median month (daily average) value in this time period?\n",
    "* Use `unstack()` to stack precipitation pivot table by month and then year. View the values for December. Which year had the wettest December?"
   ]
  },
  {
   "cell_type": "code",
   "execution_count": 1,
   "metadata": {},
   "outputs": [],
   "source": [
    "import numpy as np\n",
    "import pandas as pd\n",
    "import seaborn as sns\n",
    "import matplotlib.pyplot as plt\n",
    "%matplotlib inline"
   ]
  },
  {
   "cell_type": "code",
   "execution_count": 2,
   "metadata": {},
   "outputs": [],
   "source": [
    "sns.set(context='notebook', style='whitegrid', palette=sns.color_palette('Paired', 12))"
   ]
  },
  {
   "cell_type": "markdown",
   "metadata": {},
   "source": [
    "#### Question 1 - Set up the file"
   ]
  },
  {
   "cell_type": "markdown",
   "metadata": {},
   "source": [
    "Import the csv file as a Pandas DataFrame with default header and index."
   ]
  },
  {
   "cell_type": "code",
   "execution_count": 3,
   "metadata": {},
   "outputs": [],
   "source": [
    "# By default, the index will start with zero and the header will be the first row of the csv file.\n",
    "df = pd.read_csv('../../data/la_jolla_precip_daily.csv')"
   ]
  },
  {
   "cell_type": "code",
   "execution_count": 4,
   "metadata": {
    "scrolled": true
   },
   "outputs": [
    {
     "data": {
      "text/html": [
       "<div>\n",
       "<style scoped>\n",
       "    .dataframe tbody tr th:only-of-type {\n",
       "        vertical-align: middle;\n",
       "    }\n",
       "\n",
       "    .dataframe tbody tr th {\n",
       "        vertical-align: top;\n",
       "    }\n",
       "\n",
       "    .dataframe thead th {\n",
       "        text-align: right;\n",
       "    }\n",
       "</style>\n",
       "<table border=\"1\" class=\"dataframe\">\n",
       "  <thead>\n",
       "    <tr style=\"text-align: right;\">\n",
       "      <th></th>\n",
       "      <th>STATION</th>\n",
       "      <th>NAME</th>\n",
       "      <th>LATITUDE</th>\n",
       "      <th>LONGITUDE</th>\n",
       "      <th>ELEVATION</th>\n",
       "      <th>DATE</th>\n",
       "      <th>PRCP</th>\n",
       "      <th>PRCP_ATTRIBUTES</th>\n",
       "      <th>SNOW</th>\n",
       "      <th>SNOW_ATTRIBUTES</th>\n",
       "    </tr>\n",
       "  </thead>\n",
       "  <tbody>\n",
       "    <tr>\n",
       "      <th>0</th>\n",
       "      <td>US1CASD0030</td>\n",
       "      <td>LA JOLLA 2.1 SE, CA US</td>\n",
       "      <td>32.8257</td>\n",
       "      <td>-117.2501</td>\n",
       "      <td>149.7</td>\n",
       "      <td>2009-02-18</td>\n",
       "      <td>0.0</td>\n",
       "      <td>,,N</td>\n",
       "      <td>0.0</td>\n",
       "      <td>,,N</td>\n",
       "    </tr>\n",
       "    <tr>\n",
       "      <th>1</th>\n",
       "      <td>US1CASD0030</td>\n",
       "      <td>LA JOLLA 2.1 SE, CA US</td>\n",
       "      <td>32.8257</td>\n",
       "      <td>-117.2501</td>\n",
       "      <td>149.7</td>\n",
       "      <td>2009-02-19</td>\n",
       "      <td>0.0</td>\n",
       "      <td>,,N</td>\n",
       "      <td>0.0</td>\n",
       "      <td>,,N</td>\n",
       "    </tr>\n",
       "    <tr>\n",
       "      <th>2</th>\n",
       "      <td>US1CASD0030</td>\n",
       "      <td>LA JOLLA 2.1 SE, CA US</td>\n",
       "      <td>32.8257</td>\n",
       "      <td>-117.2501</td>\n",
       "      <td>149.7</td>\n",
       "      <td>2009-02-20</td>\n",
       "      <td>0.0</td>\n",
       "      <td>,,N</td>\n",
       "      <td>0.0</td>\n",
       "      <td>,,N</td>\n",
       "    </tr>\n",
       "    <tr>\n",
       "      <th>3</th>\n",
       "      <td>US1CASD0030</td>\n",
       "      <td>LA JOLLA 2.1 SE, CA US</td>\n",
       "      <td>32.8257</td>\n",
       "      <td>-117.2501</td>\n",
       "      <td>149.7</td>\n",
       "      <td>2009-02-21</td>\n",
       "      <td>0.0</td>\n",
       "      <td>,,N</td>\n",
       "      <td>0.0</td>\n",
       "      <td>,,N</td>\n",
       "    </tr>\n",
       "    <tr>\n",
       "      <th>4</th>\n",
       "      <td>US1CASD0030</td>\n",
       "      <td>LA JOLLA 2.1 SE, CA US</td>\n",
       "      <td>32.8257</td>\n",
       "      <td>-117.2501</td>\n",
       "      <td>149.7</td>\n",
       "      <td>2009-02-22</td>\n",
       "      <td>0.0</td>\n",
       "      <td>,,N</td>\n",
       "      <td>0.0</td>\n",
       "      <td>,,N</td>\n",
       "    </tr>\n",
       "  </tbody>\n",
       "</table>\n",
       "</div>"
      ],
      "text/plain": [
       "       STATION                    NAME  LATITUDE  LONGITUDE  ELEVATION  \\\n",
       "0  US1CASD0030  LA JOLLA 2.1 SE, CA US   32.8257  -117.2501      149.7   \n",
       "1  US1CASD0030  LA JOLLA 2.1 SE, CA US   32.8257  -117.2501      149.7   \n",
       "2  US1CASD0030  LA JOLLA 2.1 SE, CA US   32.8257  -117.2501      149.7   \n",
       "3  US1CASD0030  LA JOLLA 2.1 SE, CA US   32.8257  -117.2501      149.7   \n",
       "4  US1CASD0030  LA JOLLA 2.1 SE, CA US   32.8257  -117.2501      149.7   \n",
       "\n",
       "         DATE  PRCP PRCP_ATTRIBUTES  SNOW SNOW_ATTRIBUTES  \n",
       "0  2009-02-18   0.0             ,,N   0.0             ,,N  \n",
       "1  2009-02-19   0.0             ,,N   0.0             ,,N  \n",
       "2  2009-02-20   0.0             ,,N   0.0             ,,N  \n",
       "3  2009-02-21   0.0             ,,N   0.0             ,,N  \n",
       "4  2009-02-22   0.0             ,,N   0.0             ,,N  "
      ]
     },
     "execution_count": 4,
     "metadata": {},
     "output_type": "execute_result"
    }
   ],
   "source": [
    "# It's always good to take a quick look at your DataFrame.\n",
    "df.head()"
   ]
  },
  {
   "cell_type": "markdown",
   "metadata": {},
   "source": [
    "Change the 'DATE' column to a timestamps using `pd.datetime()`."
   ]
  },
  {
   "cell_type": "code",
   "execution_count": 5,
   "metadata": {},
   "outputs": [],
   "source": [
    "df['DATE'] = pd.to_datetime(df['DATE'])"
   ]
  },
  {
   "cell_type": "markdown",
   "metadata": {},
   "source": [
    "What was the maximum daily precipitation (in inches) during this time period and when was it?"
   ]
  },
  {
   "cell_type": "code",
   "execution_count": 6,
   "metadata": {
    "scrolled": false
   },
   "outputs": [
    {
     "data": {
      "text/plain": [
       "3.3500000000000001"
      ]
     },
     "execution_count": 6,
     "metadata": {},
     "output_type": "execute_result"
    }
   ],
   "source": [
    "df['PRCP'].max()"
   ]
  },
  {
   "cell_type": "markdown",
   "metadata": {},
   "source": [
    "<span style='color:red'>The maximum rainfall over this period was 3.35 inches.</span>"
   ]
  },
  {
   "cell_type": "code",
   "execution_count": 7,
   "metadata": {},
   "outputs": [
    {
     "data": {
      "text/html": [
       "<div>\n",
       "<style scoped>\n",
       "    .dataframe tbody tr th:only-of-type {\n",
       "        vertical-align: middle;\n",
       "    }\n",
       "\n",
       "    .dataframe tbody tr th {\n",
       "        vertical-align: top;\n",
       "    }\n",
       "\n",
       "    .dataframe thead th {\n",
       "        text-align: right;\n",
       "    }\n",
       "</style>\n",
       "<table border=\"1\" class=\"dataframe\">\n",
       "  <thead>\n",
       "    <tr style=\"text-align: right;\">\n",
       "      <th></th>\n",
       "      <th>STATION</th>\n",
       "      <th>NAME</th>\n",
       "      <th>LATITUDE</th>\n",
       "      <th>LONGITUDE</th>\n",
       "      <th>ELEVATION</th>\n",
       "      <th>DATE</th>\n",
       "      <th>PRCP</th>\n",
       "      <th>PRCP_ATTRIBUTES</th>\n",
       "      <th>SNOW</th>\n",
       "      <th>SNOW_ATTRIBUTES</th>\n",
       "    </tr>\n",
       "  </thead>\n",
       "  <tbody>\n",
       "    <tr>\n",
       "      <th>663</th>\n",
       "      <td>US1CASD0030</td>\n",
       "      <td>LA JOLLA 2.1 SE, CA US</td>\n",
       "      <td>32.8257</td>\n",
       "      <td>-117.2501</td>\n",
       "      <td>149.7</td>\n",
       "      <td>2010-12-22</td>\n",
       "      <td>3.35</td>\n",
       "      <td>,,N</td>\n",
       "      <td>NaN</td>\n",
       "      <td>NaN</td>\n",
       "    </tr>\n",
       "  </tbody>\n",
       "</table>\n",
       "</div>"
      ],
      "text/plain": [
       "         STATION                    NAME  LATITUDE  LONGITUDE  ELEVATION  \\\n",
       "663  US1CASD0030  LA JOLLA 2.1 SE, CA US   32.8257  -117.2501      149.7   \n",
       "\n",
       "          DATE  PRCP PRCP_ATTRIBUTES  SNOW SNOW_ATTRIBUTES  \n",
       "663 2010-12-22  3.35             ,,N   NaN             NaN  "
      ]
     },
     "execution_count": 7,
     "metadata": {},
     "output_type": "execute_result"
    }
   ],
   "source": [
    "# One way to get information about the maximum precipitation date.\n",
    "df[df['PRCP'] == df['PRCP'].max()]"
   ]
  },
  {
   "cell_type": "code",
   "execution_count": 8,
   "metadata": {
    "scrolled": false
   },
   "outputs": [
    {
     "data": {
      "text/plain": [
       "STATION                       US1CASD0030\n",
       "NAME               LA JOLLA 2.1 SE, CA US\n",
       "LATITUDE                          32.8257\n",
       "LONGITUDE                         -117.25\n",
       "ELEVATION                           149.7\n",
       "DATE                  2010-12-22 00:00:00\n",
       "PRCP                                 3.35\n",
       "PRCP_ATTRIBUTES                       ,,N\n",
       "SNOW                                  NaN\n",
       "SNOW_ATTRIBUTES                       NaN\n",
       "Name: 663, dtype: object"
      ]
     },
     "execution_count": 8,
     "metadata": {},
     "output_type": "execute_result"
    }
   ],
   "source": [
    "# Another way to get information about the max precipitation value.\n",
    "df.loc[df['PRCP'].idxmax()]"
   ]
  },
  {
   "cell_type": "markdown",
   "metadata": {},
   "source": [
    "<span style='color:red'>The max precipitation occurred on Dec 22, 2010.</span>"
   ]
  },
  {
   "cell_type": "markdown",
   "metadata": {},
   "source": [
    "#### Question 2 - Explore the dataset"
   ]
  },
  {
   "cell_type": "markdown",
   "metadata": {},
   "source": [
    "We don't need the columns 'SNOW' and 'SNOW_ATTRIBUTES' because there was no recorded snow in the dataset. Delete those columns \"in place\"."
   ]
  },
  {
   "cell_type": "code",
   "execution_count": 9,
   "metadata": {},
   "outputs": [],
   "source": [
    "# Delete these columns because there wasn't any recorded snow.\n",
    "df.drop(['SNOW', 'SNOW_ATTRIBUTES'], axis=1, inplace=True)"
   ]
  },
  {
   "cell_type": "code",
   "execution_count": 10,
   "metadata": {},
   "outputs": [
    {
     "data": {
      "text/html": [
       "<div>\n",
       "<style scoped>\n",
       "    .dataframe tbody tr th:only-of-type {\n",
       "        vertical-align: middle;\n",
       "    }\n",
       "\n",
       "    .dataframe tbody tr th {\n",
       "        vertical-align: top;\n",
       "    }\n",
       "\n",
       "    .dataframe thead th {\n",
       "        text-align: right;\n",
       "    }\n",
       "</style>\n",
       "<table border=\"1\" class=\"dataframe\">\n",
       "  <thead>\n",
       "    <tr style=\"text-align: right;\">\n",
       "      <th></th>\n",
       "      <th>STATION</th>\n",
       "      <th>NAME</th>\n",
       "      <th>LATITUDE</th>\n",
       "      <th>LONGITUDE</th>\n",
       "      <th>ELEVATION</th>\n",
       "      <th>DATE</th>\n",
       "      <th>PRCP</th>\n",
       "      <th>PRCP_ATTRIBUTES</th>\n",
       "    </tr>\n",
       "  </thead>\n",
       "  <tbody>\n",
       "    <tr>\n",
       "      <th>0</th>\n",
       "      <td>US1CASD0030</td>\n",
       "      <td>LA JOLLA 2.1 SE, CA US</td>\n",
       "      <td>32.8257</td>\n",
       "      <td>-117.2501</td>\n",
       "      <td>149.7</td>\n",
       "      <td>2009-02-18</td>\n",
       "      <td>0.0</td>\n",
       "      <td>,,N</td>\n",
       "    </tr>\n",
       "    <tr>\n",
       "      <th>1</th>\n",
       "      <td>US1CASD0030</td>\n",
       "      <td>LA JOLLA 2.1 SE, CA US</td>\n",
       "      <td>32.8257</td>\n",
       "      <td>-117.2501</td>\n",
       "      <td>149.7</td>\n",
       "      <td>2009-02-19</td>\n",
       "      <td>0.0</td>\n",
       "      <td>,,N</td>\n",
       "    </tr>\n",
       "    <tr>\n",
       "      <th>2</th>\n",
       "      <td>US1CASD0030</td>\n",
       "      <td>LA JOLLA 2.1 SE, CA US</td>\n",
       "      <td>32.8257</td>\n",
       "      <td>-117.2501</td>\n",
       "      <td>149.7</td>\n",
       "      <td>2009-02-20</td>\n",
       "      <td>0.0</td>\n",
       "      <td>,,N</td>\n",
       "    </tr>\n",
       "    <tr>\n",
       "      <th>3</th>\n",
       "      <td>US1CASD0030</td>\n",
       "      <td>LA JOLLA 2.1 SE, CA US</td>\n",
       "      <td>32.8257</td>\n",
       "      <td>-117.2501</td>\n",
       "      <td>149.7</td>\n",
       "      <td>2009-02-21</td>\n",
       "      <td>0.0</td>\n",
       "      <td>,,N</td>\n",
       "    </tr>\n",
       "    <tr>\n",
       "      <th>4</th>\n",
       "      <td>US1CASD0030</td>\n",
       "      <td>LA JOLLA 2.1 SE, CA US</td>\n",
       "      <td>32.8257</td>\n",
       "      <td>-117.2501</td>\n",
       "      <td>149.7</td>\n",
       "      <td>2009-02-22</td>\n",
       "      <td>0.0</td>\n",
       "      <td>,,N</td>\n",
       "    </tr>\n",
       "  </tbody>\n",
       "</table>\n",
       "</div>"
      ],
      "text/plain": [
       "       STATION                    NAME  LATITUDE  LONGITUDE  ELEVATION  \\\n",
       "0  US1CASD0030  LA JOLLA 2.1 SE, CA US   32.8257  -117.2501      149.7   \n",
       "1  US1CASD0030  LA JOLLA 2.1 SE, CA US   32.8257  -117.2501      149.7   \n",
       "2  US1CASD0030  LA JOLLA 2.1 SE, CA US   32.8257  -117.2501      149.7   \n",
       "3  US1CASD0030  LA JOLLA 2.1 SE, CA US   32.8257  -117.2501      149.7   \n",
       "4  US1CASD0030  LA JOLLA 2.1 SE, CA US   32.8257  -117.2501      149.7   \n",
       "\n",
       "        DATE  PRCP PRCP_ATTRIBUTES  \n",
       "0 2009-02-18   0.0             ,,N  \n",
       "1 2009-02-19   0.0             ,,N  \n",
       "2 2009-02-20   0.0             ,,N  \n",
       "3 2009-02-21   0.0             ,,N  \n",
       "4 2009-02-22   0.0             ,,N  "
      ]
     },
     "execution_count": 10,
     "metadata": {},
     "output_type": "execute_result"
    }
   ],
   "source": [
    "# Check the DataFrame again.\n",
    "df.head()"
   ]
  },
  {
   "cell_type": "markdown",
   "metadata": {},
   "source": [
    "Find out about the sampling stations. Notice that the column values are similar between rows except 'DATE' and 'PRCP'. Explore these other columns using three different commands (we haven't covered them yet, but they are easy to use and you can always google them): "
   ]
  },
  {
   "cell_type": "markdown",
   "metadata": {},
   "source": [
    "Use the `value_counts()` method for each of these columns: 'STATION', 'NAME', 'LATITUDE', 'LONGITUDE', and 'ELEVATION'. There should only be one cateogory for each calculation because all the data come from the same station. To see what output looks like for a more diverse series, use the `value_counts()` method on 'PRCP' and 'PRCP_ATTRIBUTES'."
   ]
  },
  {
   "cell_type": "code",
   "execution_count": 11,
   "metadata": {},
   "outputs": [],
   "source": [
    "# These columns refer to the stations where data was collected.\n",
    "columns = ['STATION', 'NAME', 'LATITUDE', 'LONGITUDE', 'ELEVATION']"
   ]
  },
  {
   "cell_type": "code",
   "execution_count": 12,
   "metadata": {
    "scrolled": true
   },
   "outputs": [
    {
     "name": "stdout",
     "output_type": "stream",
     "text": [
      "US1CASD0030    3258\n",
      "Name: STATION, dtype: int64 \n",
      "\n",
      "LA JOLLA 2.1 SE, CA US    3258\n",
      "Name: NAME, dtype: int64 \n",
      "\n",
      "32.8257    3258\n",
      "Name: LATITUDE, dtype: int64 \n",
      "\n",
      "-117.2501    3258\n",
      "Name: LONGITUDE, dtype: int64 \n",
      "\n",
      "149.7    3258\n",
      "Name: ELEVATION, dtype: int64 \n",
      "\n"
     ]
    }
   ],
   "source": [
    "# Count the times each value was observed in each column.\n",
    "for column in columns:\n",
    "    print(df[column].value_counts(), '\\n')"
   ]
  },
  {
   "cell_type": "code",
   "execution_count": 13,
   "metadata": {
    "scrolled": true
   },
   "outputs": [
    {
     "name": "stdout",
     "output_type": "stream",
     "text": [
      "0.00    2778\n",
      "0.01     107\n",
      "0.02      67\n",
      "0.03      35\n",
      "0.04      23\n",
      "0.07      20\n",
      "0.08      14\n",
      "0.05      14\n",
      "0.06       9\n",
      "0.12       8\n",
      "0.25       8\n",
      "0.16       7\n",
      "0.09       7\n",
      "0.13       7\n",
      "0.10       6\n",
      "0.34       6\n",
      "0.24       5\n",
      "0.17       5\n",
      "0.63       5\n",
      "0.14       5\n",
      "0.20       4\n",
      "0.30       4\n",
      "0.15       4\n",
      "0.27       4\n",
      "0.38       4\n",
      "0.43       3\n",
      "0.28       3\n",
      "0.45       3\n",
      "0.42       3\n",
      "0.35       3\n",
      "        ... \n",
      "1.35       1\n",
      "1.50       1\n",
      "2.00       1\n",
      "1.26       1\n",
      "3.35       1\n",
      "1.23       1\n",
      "0.48       1\n",
      "1.34       1\n",
      "0.55       1\n",
      "2.02       1\n",
      "0.83       1\n",
      "0.46       1\n",
      "0.87       1\n",
      "0.40       1\n",
      "1.37       1\n",
      "0.84       1\n",
      "0.51       1\n",
      "0.58       1\n",
      "0.36       1\n",
      "1.55       1\n",
      "0.81       1\n",
      "0.93       1\n",
      "0.64       1\n",
      "1.10       1\n",
      "0.54       1\n",
      "0.67       1\n",
      "2.45       1\n",
      "0.47       1\n",
      "0.26       1\n",
      "0.23       1\n",
      "Name: PRCP, Length: 89, dtype: int64 \n",
      "\n",
      ",,N     3006\n",
      "T,,N     252\n",
      "Name: PRCP_ATTRIBUTES, dtype: int64 \n",
      "\n"
     ]
    }
   ],
   "source": [
    "for column in ['PRCP', 'PRCP_ATTRIBUTES']:\n",
    "    print(df[column].value_counts(), '\\n')"
   ]
  },
  {
   "cell_type": "markdown",
   "metadata": {},
   "source": [
    "<span style='color:red'>The results are pretty boring when all columns have the same values. The last two examples have more variation.</span>"
   ]
  },
  {
   "cell_type": "markdown",
   "metadata": {},
   "source": [
    "Make a DataFrame with just the columns 'STATION', 'NAME', 'LATITUDE', 'LONGITUDE', and 'ELEVATION' and use the method `drop_duplicates()` to see all the unique combinations of values in those five columns. "
   ]
  },
  {
   "cell_type": "code",
   "execution_count": 14,
   "metadata": {
    "scrolled": true
   },
   "outputs": [
    {
     "data": {
      "text/html": [
       "<div>\n",
       "<style scoped>\n",
       "    .dataframe tbody tr th:only-of-type {\n",
       "        vertical-align: middle;\n",
       "    }\n",
       "\n",
       "    .dataframe tbody tr th {\n",
       "        vertical-align: top;\n",
       "    }\n",
       "\n",
       "    .dataframe thead th {\n",
       "        text-align: right;\n",
       "    }\n",
       "</style>\n",
       "<table border=\"1\" class=\"dataframe\">\n",
       "  <thead>\n",
       "    <tr style=\"text-align: right;\">\n",
       "      <th></th>\n",
       "      <th>STATION</th>\n",
       "      <th>NAME</th>\n",
       "      <th>LATITUDE</th>\n",
       "      <th>LONGITUDE</th>\n",
       "      <th>ELEVATION</th>\n",
       "    </tr>\n",
       "  </thead>\n",
       "  <tbody>\n",
       "    <tr>\n",
       "      <th>0</th>\n",
       "      <td>US1CASD0030</td>\n",
       "      <td>LA JOLLA 2.1 SE, CA US</td>\n",
       "      <td>32.8257</td>\n",
       "      <td>-117.2501</td>\n",
       "      <td>149.7</td>\n",
       "    </tr>\n",
       "  </tbody>\n",
       "</table>\n",
       "</div>"
      ],
      "text/plain": [
       "       STATION                    NAME  LATITUDE  LONGITUDE  ELEVATION\n",
       "0  US1CASD0030  LA JOLLA 2.1 SE, CA US   32.8257  -117.2501      149.7"
      ]
     },
     "execution_count": 14,
     "metadata": {},
     "output_type": "execute_result"
    }
   ],
   "source": [
    "df[columns].drop_duplicates()"
   ]
  },
  {
   "cell_type": "markdown",
   "metadata": {},
   "source": [
    "<span style='color:red'>This shows the unique combinations of these five columns. All rows have the same values.</span>"
   ]
  },
  {
   "cell_type": "markdown",
   "metadata": {},
   "source": [
    "Create a groupby object using `groupby('STATION')`, then use the `count()` method on that groupby object to count the number of values for each station."
   ]
  },
  {
   "cell_type": "code",
   "execution_count": 15,
   "metadata": {},
   "outputs": [
    {
     "data": {
      "text/html": [
       "<div>\n",
       "<style scoped>\n",
       "    .dataframe tbody tr th:only-of-type {\n",
       "        vertical-align: middle;\n",
       "    }\n",
       "\n",
       "    .dataframe tbody tr th {\n",
       "        vertical-align: top;\n",
       "    }\n",
       "\n",
       "    .dataframe thead th {\n",
       "        text-align: right;\n",
       "    }\n",
       "</style>\n",
       "<table border=\"1\" class=\"dataframe\">\n",
       "  <thead>\n",
       "    <tr style=\"text-align: right;\">\n",
       "      <th></th>\n",
       "      <th>NAME</th>\n",
       "      <th>LATITUDE</th>\n",
       "      <th>LONGITUDE</th>\n",
       "      <th>ELEVATION</th>\n",
       "      <th>DATE</th>\n",
       "      <th>PRCP</th>\n",
       "      <th>PRCP_ATTRIBUTES</th>\n",
       "    </tr>\n",
       "    <tr>\n",
       "      <th>STATION</th>\n",
       "      <th></th>\n",
       "      <th></th>\n",
       "      <th></th>\n",
       "      <th></th>\n",
       "      <th></th>\n",
       "      <th></th>\n",
       "      <th></th>\n",
       "    </tr>\n",
       "  </thead>\n",
       "  <tbody>\n",
       "    <tr>\n",
       "      <th>US1CASD0030</th>\n",
       "      <td>3258</td>\n",
       "      <td>3258</td>\n",
       "      <td>3258</td>\n",
       "      <td>3258</td>\n",
       "      <td>3258</td>\n",
       "      <td>3258</td>\n",
       "      <td>3258</td>\n",
       "    </tr>\n",
       "  </tbody>\n",
       "</table>\n",
       "</div>"
      ],
      "text/plain": [
       "             NAME  LATITUDE  LONGITUDE  ELEVATION  DATE  PRCP  PRCP_ATTRIBUTES\n",
       "STATION                                                                       \n",
       "US1CASD0030  3258      3258       3258       3258  3258  3258             3258"
      ]
     },
     "execution_count": 15,
     "metadata": {},
     "output_type": "execute_result"
    }
   ],
   "source": [
    "grouped_station = df.groupby('STATION')\n",
    "grouped_station.count()"
   ]
  },
  {
   "cell_type": "markdown",
   "metadata": {},
   "source": [
    "<span style='color:red'>Groupby combined with count gives us information about the number of values in each column for a given value of 'STATION'. Here they are all the same.</span>"
   ]
  },
  {
   "cell_type": "markdown",
   "metadata": {},
   "source": [
    "#### Question 3 - Plot precipitation versus time"
   ]
  },
  {
   "cell_type": "markdown",
   "metadata": {},
   "source": [
    "Use the Matplotlib function `plot()` to plot 'PRCP' versus 'DATE' as a line."
   ]
  },
  {
   "cell_type": "code",
   "execution_count": 16,
   "metadata": {
    "scrolled": false
   },
   "outputs": [
    {
     "data": {
      "image/png": "[encoded data removed]",
      "text/plain": [
       "<matplotlib.figure.Figure at 0x108c22240>"
      ]
     },
     "metadata": {},
     "output_type": "display_data"
    }
   ],
   "source": [
    "fig, ax = plt.subplots(1, 2, figsize=(12,5))\n",
    "\n",
    "title = ['matplotlib black', 'xkcd indigo']\n",
    "color = ['k', sns.xkcd_rgb['indigo']]\n",
    "\n",
    "for i in [0, 1]:\n",
    "    ax[i].plot(df['DATE'], df['PRCP'], color[i])\n",
    "    ax[i].set_title(title[i])\n",
    "    ax[i].set_xlabel('Date')\n",
    "    ax[i].set_ylabel('Precipitation (inches)')"
   ]
  },
  {
   "cell_type": "markdown",
   "metadata": {},
   "source": [
    "<span style='color:red'>In response to the later part of the question, we are coloring two different ways, displayed as subplots. We can put everything in a for loop!</span>"
   ]
  },
  {
   "cell_type": "markdown",
   "metadata": {},
   "source": [
    "Plot 'PRCP' versus 'DATE' each year separately as a different colored line, with a legend indicating the year. Hint: You will have to extract the year from the date somehow, for example with the `.year` attribute or a regular expression. You might find it easiest to add new columns for year and day of year."
   ]
  },
  {
   "cell_type": "code",
   "execution_count": 17,
   "metadata": {},
   "outputs": [],
   "source": [
    "# We can add columns for year, month, day, and day of year.\n",
    "df['YEAR'] = [x.year for x in df.DATE]\n",
    "df['MONTH'] = [x.month for x in df.DATE]\n",
    "df['DAY'] = [x.day for x in df.DATE]\n",
    "df['DAY_OF_YEAR'] = [x.dayofyear for x in df.DATE]"
   ]
  },
  {
   "cell_type": "code",
   "execution_count": 18,
   "metadata": {},
   "outputs": [
    {
     "data": {
      "text/html": [
       "<div>\n",
       "<style scoped>\n",
       "    .dataframe tbody tr th:only-of-type {\n",
       "        vertical-align: middle;\n",
       "    }\n",
       "\n",
       "    .dataframe tbody tr th {\n",
       "        vertical-align: top;\n",
       "    }\n",
       "\n",
       "    .dataframe thead th {\n",
       "        text-align: right;\n",
       "    }\n",
       "</style>\n",
       "<table border=\"1\" class=\"dataframe\">\n",
       "  <thead>\n",
       "    <tr style=\"text-align: right;\">\n",
       "      <th></th>\n",
       "      <th>STATION</th>\n",
       "      <th>NAME</th>\n",
       "      <th>LATITUDE</th>\n",
       "      <th>LONGITUDE</th>\n",
       "      <th>ELEVATION</th>\n",
       "      <th>DATE</th>\n",
       "      <th>PRCP</th>\n",
       "      <th>PRCP_ATTRIBUTES</th>\n",
       "      <th>YEAR</th>\n",
       "      <th>MONTH</th>\n",
       "      <th>DAY</th>\n",
       "      <th>DAY_OF_YEAR</th>\n",
       "    </tr>\n",
       "  </thead>\n",
       "  <tbody>\n",
       "    <tr>\n",
       "      <th>0</th>\n",
       "      <td>US1CASD0030</td>\n",
       "      <td>LA JOLLA 2.1 SE, CA US</td>\n",
       "      <td>32.8257</td>\n",
       "      <td>-117.2501</td>\n",
       "      <td>149.7</td>\n",
       "      <td>2009-02-18</td>\n",
       "      <td>0.0</td>\n",
       "      <td>,,N</td>\n",
       "      <td>2009</td>\n",
       "      <td>2</td>\n",
       "      <td>18</td>\n",
       "      <td>49</td>\n",
       "    </tr>\n",
       "    <tr>\n",
       "      <th>1</th>\n",
       "      <td>US1CASD0030</td>\n",
       "      <td>LA JOLLA 2.1 SE, CA US</td>\n",
       "      <td>32.8257</td>\n",
       "      <td>-117.2501</td>\n",
       "      <td>149.7</td>\n",
       "      <td>2009-02-19</td>\n",
       "      <td>0.0</td>\n",
       "      <td>,,N</td>\n",
       "      <td>2009</td>\n",
       "      <td>2</td>\n",
       "      <td>19</td>\n",
       "      <td>50</td>\n",
       "    </tr>\n",
       "    <tr>\n",
       "      <th>2</th>\n",
       "      <td>US1CASD0030</td>\n",
       "      <td>LA JOLLA 2.1 SE, CA US</td>\n",
       "      <td>32.8257</td>\n",
       "      <td>-117.2501</td>\n",
       "      <td>149.7</td>\n",
       "      <td>2009-02-20</td>\n",
       "      <td>0.0</td>\n",
       "      <td>,,N</td>\n",
       "      <td>2009</td>\n",
       "      <td>2</td>\n",
       "      <td>20</td>\n",
       "      <td>51</td>\n",
       "    </tr>\n",
       "    <tr>\n",
       "      <th>3</th>\n",
       "      <td>US1CASD0030</td>\n",
       "      <td>LA JOLLA 2.1 SE, CA US</td>\n",
       "      <td>32.8257</td>\n",
       "      <td>-117.2501</td>\n",
       "      <td>149.7</td>\n",
       "      <td>2009-02-21</td>\n",
       "      <td>0.0</td>\n",
       "      <td>,,N</td>\n",
       "      <td>2009</td>\n",
       "      <td>2</td>\n",
       "      <td>21</td>\n",
       "      <td>52</td>\n",
       "    </tr>\n",
       "    <tr>\n",
       "      <th>4</th>\n",
       "      <td>US1CASD0030</td>\n",
       "      <td>LA JOLLA 2.1 SE, CA US</td>\n",
       "      <td>32.8257</td>\n",
       "      <td>-117.2501</td>\n",
       "      <td>149.7</td>\n",
       "      <td>2009-02-22</td>\n",
       "      <td>0.0</td>\n",
       "      <td>,,N</td>\n",
       "      <td>2009</td>\n",
       "      <td>2</td>\n",
       "      <td>22</td>\n",
       "      <td>53</td>\n",
       "    </tr>\n",
       "  </tbody>\n",
       "</table>\n",
       "</div>"
      ],
      "text/plain": [
       "       STATION                    NAME  LATITUDE  LONGITUDE  ELEVATION  \\\n",
       "0  US1CASD0030  LA JOLLA 2.1 SE, CA US   32.8257  -117.2501      149.7   \n",
       "1  US1CASD0030  LA JOLLA 2.1 SE, CA US   32.8257  -117.2501      149.7   \n",
       "2  US1CASD0030  LA JOLLA 2.1 SE, CA US   32.8257  -117.2501      149.7   \n",
       "3  US1CASD0030  LA JOLLA 2.1 SE, CA US   32.8257  -117.2501      149.7   \n",
       "4  US1CASD0030  LA JOLLA 2.1 SE, CA US   32.8257  -117.2501      149.7   \n",
       "\n",
       "        DATE  PRCP PRCP_ATTRIBUTES  YEAR  MONTH  DAY  DAY_OF_YEAR  \n",
       "0 2009-02-18   0.0             ,,N  2009      2   18           49  \n",
       "1 2009-02-19   0.0             ,,N  2009      2   19           50  \n",
       "2 2009-02-20   0.0             ,,N  2009      2   20           51  \n",
       "3 2009-02-21   0.0             ,,N  2009      2   21           52  \n",
       "4 2009-02-22   0.0             ,,N  2009      2   22           53  "
      ]
     },
     "execution_count": 18,
     "metadata": {},
     "output_type": "execute_result"
    }
   ],
   "source": [
    "df.head()"
   ]
  },
  {
   "cell_type": "markdown",
   "metadata": {},
   "source": [
    "<span style='color:red'>We will use 'YEAR' and 'DAY_OF_YEAR' now, but we added 'MONTH' and 'DAY' at the same time for completion. They may come in handy later.</span>"
   ]
  },
  {
   "cell_type": "code",
   "execution_count": 19,
   "metadata": {
    "scrolled": true
   },
   "outputs": [
    {
     "data": {
      "text/plain": [
       "<matplotlib.legend.Legend at 0x1a0a12bd68>"
      ]
     },
     "execution_count": 19,
     "metadata": {},
     "output_type": "execute_result"
    },
    {
     "data": {
      "image/png": "[encoded data removed]",
      "text/plain": [
       "<matplotlib.figure.Figure at 0x108c1ca58>"
      ]
     },
     "metadata": {},
     "output_type": "display_data"
    }
   ],
   "source": [
    "# colormap #1\n",
    "fig, ax = plt.subplots()\n",
    "for year in df.YEAR.unique():\n",
    "    dfx = df[df.YEAR == year]\n",
    "    ax.plot(dfx.DAY_OF_YEAR, dfx.PRCP, label=year)\n",
    "ax.set_xlabel('Day of year')\n",
    "ax.set_ylabel('Precipitation (inches)')\n",
    "ax.legend()"
   ]
  },
  {
   "cell_type": "code",
   "execution_count": 20,
   "metadata": {},
   "outputs": [
    {
     "data": {
      "image/png": "[encoded data removed]",
      "text/plain": [
       "<matplotlib.figure.Figure at 0x108edbb00>"
      ]
     },
     "metadata": {},
     "output_type": "display_data"
    }
   ],
   "source": [
    "# colormap #2\n",
    "with sns.color_palette(\"hls\", 12):\n",
    "    fig, ax = plt.subplots()\n",
    "    for year in df.YEAR.unique():\n",
    "        dfx = df[df.YEAR == year]\n",
    "        ax.plot(dfx.DAY_OF_YEAR, dfx.PRCP, label=year)\n",
    "    ax.set_xlabel('Day of year')\n",
    "    ax.set_ylabel('Precipitation (inches)')\n",
    "    ax.legend()"
   ]
  },
  {
   "cell_type": "markdown",
   "metadata": {},
   "source": [
    "Go back and recolor the two plots above: pick two colors from ColorBrewer or xkcd and draw your subplots again. Replot the plots in a subplot with the two sets of axes in a 1x2 formation."
   ]
  },
  {
   "cell_type": "markdown",
   "metadata": {},
   "source": [
    "<span style='color:red'>For year-by-year lines, first we colored using the 12-color 'Paired' colormap, specified at the start of the notebook. Then we temporarily changed the colormap to the 12-color 'hls' colormap. Note: I couldn't get two different colormaps in the same subplot! I think this is because the colormap is defined with the subplots are created.</span>"
   ]
  },
  {
   "cell_type": "markdown",
   "metadata": {},
   "source": [
    "#### Question 4 - Plot distributions of the precipitation data"
   ]
  },
  {
   "cell_type": "markdown",
   "metadata": {},
   "source": [
    "Plot a histogram of precipitation values using the Matplotlib function `hist()`."
   ]
  },
  {
   "cell_type": "code",
   "execution_count": 21,
   "metadata": {},
   "outputs": [
    {
     "data": {
      "image/png": "[encoded data removed]",
      "text/plain": [
       "<matplotlib.figure.Figure at 0x108c1cb00>"
      ]
     },
     "metadata": {},
     "output_type": "display_data"
    }
   ],
   "source": [
    "# Matplotlib histogram\n",
    "fig, ax = plt.subplots()\n",
    "ax.hist(df['PRCP'], bins=50)\n",
    "ax.set_xlabel('Daily precipitation (inches)')\n",
    "ax.set_ylabel('Day counts');"
   ]
  },
  {
   "cell_type": "markdown",
   "metadata": {},
   "source": [
    "<span style='color:red'>This basic histogram shows that most days have zero precipitation, but not much else.</span>"
   ]
  },
  {
   "cell_type": "markdown",
   "metadata": {},
   "source": [
    "Plot a histogram with kernel density and rugplot with the Seaborn function `distplot()`. Play around with the settings to make a histogram that represents the data well."
   ]
  },
  {
   "cell_type": "code",
   "execution_count": 22,
   "metadata": {},
   "outputs": [
    {
     "data": {
      "image/png": "[encoded data removed]",
      "text/plain": [
       "<matplotlib.figure.Figure at 0x108c1ca90>"
      ]
     },
     "metadata": {},
     "output_type": "display_data"
    }
   ],
   "source": [
    "# Seaborn distplot\n",
    "sns.distplot(df.groupby(['YEAR', 'MONTH']).sum().PRCP, color='b', bins=50, rug=True, kde=True)\n",
    "plt.xlabel('Monthly precipitation (inches)')\n",
    "plt.ylabel('Distribution of months (not counts)');"
   ]
  },
  {
   "cell_type": "markdown",
   "metadata": {},
   "source": [
    "<span style='color:red'>Here we are plotting the sum for each month using groupby and sum. Distplot gives us the histogram plus a kernel density estimate and rugplot.</span>"
   ]
  },
  {
   "cell_type": "markdown",
   "metadata": {},
   "source": [
    "Add columns to the DataFrame for year and month. Hint: You can do this with list comprehension and the datetime attributes `year` and `month`."
   ]
  },
  {
   "cell_type": "code",
   "execution_count": 23,
   "metadata": {},
   "outputs": [
    {
     "data": {
      "text/html": [
       "<div>\n",
       "<style scoped>\n",
       "    .dataframe tbody tr th:only-of-type {\n",
       "        vertical-align: middle;\n",
       "    }\n",
       "\n",
       "    .dataframe tbody tr th {\n",
       "        vertical-align: top;\n",
       "    }\n",
       "\n",
       "    .dataframe thead th {\n",
       "        text-align: right;\n",
       "    }\n",
       "</style>\n",
       "<table border=\"1\" class=\"dataframe\">\n",
       "  <thead>\n",
       "    <tr style=\"text-align: right;\">\n",
       "      <th></th>\n",
       "      <th>STATION</th>\n",
       "      <th>NAME</th>\n",
       "      <th>LATITUDE</th>\n",
       "      <th>LONGITUDE</th>\n",
       "      <th>ELEVATION</th>\n",
       "      <th>DATE</th>\n",
       "      <th>PRCP</th>\n",
       "      <th>PRCP_ATTRIBUTES</th>\n",
       "      <th>YEAR</th>\n",
       "      <th>MONTH</th>\n",
       "      <th>DAY</th>\n",
       "      <th>DAY_OF_YEAR</th>\n",
       "    </tr>\n",
       "  </thead>\n",
       "  <tbody>\n",
       "    <tr>\n",
       "      <th>0</th>\n",
       "      <td>US1CASD0030</td>\n",
       "      <td>LA JOLLA 2.1 SE, CA US</td>\n",
       "      <td>32.8257</td>\n",
       "      <td>-117.2501</td>\n",
       "      <td>149.7</td>\n",
       "      <td>2009-02-18</td>\n",
       "      <td>0.0</td>\n",
       "      <td>,,N</td>\n",
       "      <td>2009</td>\n",
       "      <td>2</td>\n",
       "      <td>18</td>\n",
       "      <td>49</td>\n",
       "    </tr>\n",
       "    <tr>\n",
       "      <th>1</th>\n",
       "      <td>US1CASD0030</td>\n",
       "      <td>LA JOLLA 2.1 SE, CA US</td>\n",
       "      <td>32.8257</td>\n",
       "      <td>-117.2501</td>\n",
       "      <td>149.7</td>\n",
       "      <td>2009-02-19</td>\n",
       "      <td>0.0</td>\n",
       "      <td>,,N</td>\n",
       "      <td>2009</td>\n",
       "      <td>2</td>\n",
       "      <td>19</td>\n",
       "      <td>50</td>\n",
       "    </tr>\n",
       "    <tr>\n",
       "      <th>2</th>\n",
       "      <td>US1CASD0030</td>\n",
       "      <td>LA JOLLA 2.1 SE, CA US</td>\n",
       "      <td>32.8257</td>\n",
       "      <td>-117.2501</td>\n",
       "      <td>149.7</td>\n",
       "      <td>2009-02-20</td>\n",
       "      <td>0.0</td>\n",
       "      <td>,,N</td>\n",
       "      <td>2009</td>\n",
       "      <td>2</td>\n",
       "      <td>20</td>\n",
       "      <td>51</td>\n",
       "    </tr>\n",
       "    <tr>\n",
       "      <th>3</th>\n",
       "      <td>US1CASD0030</td>\n",
       "      <td>LA JOLLA 2.1 SE, CA US</td>\n",
       "      <td>32.8257</td>\n",
       "      <td>-117.2501</td>\n",
       "      <td>149.7</td>\n",
       "      <td>2009-02-21</td>\n",
       "      <td>0.0</td>\n",
       "      <td>,,N</td>\n",
       "      <td>2009</td>\n",
       "      <td>2</td>\n",
       "      <td>21</td>\n",
       "      <td>52</td>\n",
       "    </tr>\n",
       "    <tr>\n",
       "      <th>4</th>\n",
       "      <td>US1CASD0030</td>\n",
       "      <td>LA JOLLA 2.1 SE, CA US</td>\n",
       "      <td>32.8257</td>\n",
       "      <td>-117.2501</td>\n",
       "      <td>149.7</td>\n",
       "      <td>2009-02-22</td>\n",
       "      <td>0.0</td>\n",
       "      <td>,,N</td>\n",
       "      <td>2009</td>\n",
       "      <td>2</td>\n",
       "      <td>22</td>\n",
       "      <td>53</td>\n",
       "    </tr>\n",
       "  </tbody>\n",
       "</table>\n",
       "</div>"
      ],
      "text/plain": [
       "       STATION                    NAME  LATITUDE  LONGITUDE  ELEVATION  \\\n",
       "0  US1CASD0030  LA JOLLA 2.1 SE, CA US   32.8257  -117.2501      149.7   \n",
       "1  US1CASD0030  LA JOLLA 2.1 SE, CA US   32.8257  -117.2501      149.7   \n",
       "2  US1CASD0030  LA JOLLA 2.1 SE, CA US   32.8257  -117.2501      149.7   \n",
       "3  US1CASD0030  LA JOLLA 2.1 SE, CA US   32.8257  -117.2501      149.7   \n",
       "4  US1CASD0030  LA JOLLA 2.1 SE, CA US   32.8257  -117.2501      149.7   \n",
       "\n",
       "        DATE  PRCP PRCP_ATTRIBUTES  YEAR  MONTH  DAY  DAY_OF_YEAR  \n",
       "0 2009-02-18   0.0             ,,N  2009      2   18           49  \n",
       "1 2009-02-19   0.0             ,,N  2009      2   19           50  \n",
       "2 2009-02-20   0.0             ,,N  2009      2   20           51  \n",
       "3 2009-02-21   0.0             ,,N  2009      2   21           52  \n",
       "4 2009-02-22   0.0             ,,N  2009      2   22           53  "
      ]
     },
     "execution_count": 23,
     "metadata": {},
     "output_type": "execute_result"
    }
   ],
   "source": [
    "# We added `year` and `month` above. We also added `day` and `dayofyear`.\n",
    "df.head()"
   ]
  },
  {
   "cell_type": "markdown",
   "metadata": {},
   "source": [
    "Use groupby to group the data by year or by month. Which year was the rainiest? Which month was the rainiest?"
   ]
  },
  {
   "cell_type": "code",
   "execution_count": 24,
   "metadata": {},
   "outputs": [
    {
     "data": {
      "text/html": [
       "<div>\n",
       "<style scoped>\n",
       "    .dataframe tbody tr th:only-of-type {\n",
       "        vertical-align: middle;\n",
       "    }\n",
       "\n",
       "    .dataframe tbody tr th {\n",
       "        vertical-align: top;\n",
       "    }\n",
       "\n",
       "    .dataframe thead th {\n",
       "        text-align: right;\n",
       "    }\n",
       "</style>\n",
       "<table border=\"1\" class=\"dataframe\">\n",
       "  <thead>\n",
       "    <tr style=\"text-align: right;\">\n",
       "      <th></th>\n",
       "      <th>YEAR</th>\n",
       "      <th>LATITUDE</th>\n",
       "      <th>LONGITUDE</th>\n",
       "      <th>ELEVATION</th>\n",
       "      <th>PRCP</th>\n",
       "      <th>MONTH</th>\n",
       "      <th>DAY</th>\n",
       "      <th>DAY_OF_YEAR</th>\n",
       "    </tr>\n",
       "  </thead>\n",
       "  <tbody>\n",
       "    <tr>\n",
       "      <th>4</th>\n",
       "      <td>2013</td>\n",
       "      <td>32.8257</td>\n",
       "      <td>-117.2501</td>\n",
       "      <td>149.7</td>\n",
       "      <td>0.012755</td>\n",
       "      <td>6.501377</td>\n",
       "      <td>15.688705</td>\n",
       "      <td>182.214876</td>\n",
       "    </tr>\n",
       "    <tr>\n",
       "      <th>0</th>\n",
       "      <td>2009</td>\n",
       "      <td>32.8257</td>\n",
       "      <td>-117.2501</td>\n",
       "      <td>149.7</td>\n",
       "      <td>0.013439</td>\n",
       "      <td>7.321656</td>\n",
       "      <td>16.006369</td>\n",
       "      <td>207.334395</td>\n",
       "    </tr>\n",
       "    <tr>\n",
       "      <th>5</th>\n",
       "      <td>2014</td>\n",
       "      <td>32.8257</td>\n",
       "      <td>-117.2501</td>\n",
       "      <td>149.7</td>\n",
       "      <td>0.022857</td>\n",
       "      <td>6.510989</td>\n",
       "      <td>15.678571</td>\n",
       "      <td>182.500000</td>\n",
       "    </tr>\n",
       "    <tr>\n",
       "      <th>2</th>\n",
       "      <td>2011</td>\n",
       "      <td>32.8257</td>\n",
       "      <td>-117.2501</td>\n",
       "      <td>149.7</td>\n",
       "      <td>0.026022</td>\n",
       "      <td>6.565826</td>\n",
       "      <td>15.647059</td>\n",
       "      <td>184.137255</td>\n",
       "    </tr>\n",
       "    <tr>\n",
       "      <th>6</th>\n",
       "      <td>2015</td>\n",
       "      <td>32.8257</td>\n",
       "      <td>-117.2501</td>\n",
       "      <td>149.7</td>\n",
       "      <td>0.027775</td>\n",
       "      <td>6.541209</td>\n",
       "      <td>15.760989</td>\n",
       "      <td>183.500000</td>\n",
       "    </tr>\n",
       "    <tr>\n",
       "      <th>3</th>\n",
       "      <td>2012</td>\n",
       "      <td>32.8257</td>\n",
       "      <td>-117.2501</td>\n",
       "      <td>149.7</td>\n",
       "      <td>0.028000</td>\n",
       "      <td>6.477778</td>\n",
       "      <td>15.627778</td>\n",
       "      <td>182.272222</td>\n",
       "    </tr>\n",
       "    <tr>\n",
       "      <th>7</th>\n",
       "      <td>2016</td>\n",
       "      <td>32.8257</td>\n",
       "      <td>-117.2501</td>\n",
       "      <td>149.7</td>\n",
       "      <td>0.035656</td>\n",
       "      <td>6.513661</td>\n",
       "      <td>15.756831</td>\n",
       "      <td>183.500000</td>\n",
       "    </tr>\n",
       "    <tr>\n",
       "      <th>8</th>\n",
       "      <td>2017</td>\n",
       "      <td>32.8257</td>\n",
       "      <td>-117.2501</td>\n",
       "      <td>149.7</td>\n",
       "      <td>0.037022</td>\n",
       "      <td>6.463483</td>\n",
       "      <td>15.966292</td>\n",
       "      <td>181.331461</td>\n",
       "    </tr>\n",
       "    <tr>\n",
       "      <th>9</th>\n",
       "      <td>2018</td>\n",
       "      <td>32.8257</td>\n",
       "      <td>-117.2501</td>\n",
       "      <td>149.7</td>\n",
       "      <td>0.042182</td>\n",
       "      <td>1.436364</td>\n",
       "      <td>15.018182</td>\n",
       "      <td>28.545455</td>\n",
       "    </tr>\n",
       "    <tr>\n",
       "      <th>1</th>\n",
       "      <td>2010</td>\n",
       "      <td>32.8257</td>\n",
       "      <td>-117.2501</td>\n",
       "      <td>149.7</td>\n",
       "      <td>0.057214</td>\n",
       "      <td>6.523677</td>\n",
       "      <td>15.841226</td>\n",
       "      <td>183.036212</td>\n",
       "    </tr>\n",
       "  </tbody>\n",
       "</table>\n",
       "</div>"
      ],
      "text/plain": [
       "   YEAR  LATITUDE  LONGITUDE  ELEVATION      PRCP     MONTH        DAY  \\\n",
       "4  2013   32.8257  -117.2501      149.7  0.012755  6.501377  15.688705   \n",
       "0  2009   32.8257  -117.2501      149.7  0.013439  7.321656  16.006369   \n",
       "5  2014   32.8257  -117.2501      149.7  0.022857  6.510989  15.678571   \n",
       "2  2011   32.8257  -117.2501      149.7  0.026022  6.565826  15.647059   \n",
       "6  2015   32.8257  -117.2501      149.7  0.027775  6.541209  15.760989   \n",
       "3  2012   32.8257  -117.2501      149.7  0.028000  6.477778  15.627778   \n",
       "7  2016   32.8257  -117.2501      149.7  0.035656  6.513661  15.756831   \n",
       "8  2017   32.8257  -117.2501      149.7  0.037022  6.463483  15.966292   \n",
       "9  2018   32.8257  -117.2501      149.7  0.042182  1.436364  15.018182   \n",
       "1  2010   32.8257  -117.2501      149.7  0.057214  6.523677  15.841226   \n",
       "\n",
       "   DAY_OF_YEAR  \n",
       "4   182.214876  \n",
       "0   207.334395  \n",
       "5   182.500000  \n",
       "2   184.137255  \n",
       "6   183.500000  \n",
       "3   182.272222  \n",
       "7   183.500000  \n",
       "8   181.331461  \n",
       "9    28.545455  \n",
       "1   183.036212  "
      ]
     },
     "execution_count": 24,
     "metadata": {},
     "output_type": "execute_result"
    }
   ],
   "source": [
    "df.groupby(['YEAR'], as_index=False).mean().sort_values('PRCP')"
   ]
  },
  {
   "cell_type": "markdown",
   "metadata": {},
   "source": [
    "<span style='color:red'>Answer: The rainiest year was 2010.</span> "
   ]
  },
  {
   "cell_type": "code",
   "execution_count": 25,
   "metadata": {
    "scrolled": false
   },
   "outputs": [
    {
     "data": {
      "text/html": [
       "<div>\n",
       "<style scoped>\n",
       "    .dataframe tbody tr th:only-of-type {\n",
       "        vertical-align: middle;\n",
       "    }\n",
       "\n",
       "    .dataframe tbody tr th {\n",
       "        vertical-align: top;\n",
       "    }\n",
       "\n",
       "    .dataframe thead th {\n",
       "        text-align: right;\n",
       "    }\n",
       "</style>\n",
       "<table border=\"1\" class=\"dataframe\">\n",
       "  <thead>\n",
       "    <tr style=\"text-align: right;\">\n",
       "      <th></th>\n",
       "      <th>MONTH</th>\n",
       "      <th>LATITUDE</th>\n",
       "      <th>LONGITUDE</th>\n",
       "      <th>ELEVATION</th>\n",
       "      <th>PRCP</th>\n",
       "      <th>YEAR</th>\n",
       "      <th>DAY</th>\n",
       "      <th>DAY_OF_YEAR</th>\n",
       "    </tr>\n",
       "  </thead>\n",
       "  <tbody>\n",
       "    <tr>\n",
       "      <th>7</th>\n",
       "      <td>8</td>\n",
       "      <td>32.8257</td>\n",
       "      <td>-117.2501</td>\n",
       "      <td>149.7</td>\n",
       "      <td>0.001326</td>\n",
       "      <td>2013.000000</td>\n",
       "      <td>16.000000</td>\n",
       "      <td>228.222222</td>\n",
       "    </tr>\n",
       "    <tr>\n",
       "      <th>5</th>\n",
       "      <td>6</td>\n",
       "      <td>32.8257</td>\n",
       "      <td>-117.2501</td>\n",
       "      <td>149.7</td>\n",
       "      <td>0.002622</td>\n",
       "      <td>2013.044944</td>\n",
       "      <td>15.438202</td>\n",
       "      <td>166.662921</td>\n",
       "    </tr>\n",
       "    <tr>\n",
       "      <th>6</th>\n",
       "      <td>7</td>\n",
       "      <td>32.8257</td>\n",
       "      <td>-117.2501</td>\n",
       "      <td>149.7</td>\n",
       "      <td>0.006774</td>\n",
       "      <td>2013.000000</td>\n",
       "      <td>16.000000</td>\n",
       "      <td>197.222222</td>\n",
       "    </tr>\n",
       "    <tr>\n",
       "      <th>8</th>\n",
       "      <td>9</td>\n",
       "      <td>32.8257</td>\n",
       "      <td>-117.2501</td>\n",
       "      <td>149.7</td>\n",
       "      <td>0.008863</td>\n",
       "      <td>2012.921569</td>\n",
       "      <td>16.007843</td>\n",
       "      <td>259.243137</td>\n",
       "    </tr>\n",
       "    <tr>\n",
       "      <th>4</th>\n",
       "      <td>5</td>\n",
       "      <td>32.8257</td>\n",
       "      <td>-117.2501</td>\n",
       "      <td>149.7</td>\n",
       "      <td>0.017870</td>\n",
       "      <td>2013.014440</td>\n",
       "      <td>15.902527</td>\n",
       "      <td>136.126354</td>\n",
       "    </tr>\n",
       "    <tr>\n",
       "      <th>3</th>\n",
       "      <td>4</td>\n",
       "      <td>32.8257</td>\n",
       "      <td>-117.2501</td>\n",
       "      <td>149.7</td>\n",
       "      <td>0.020333</td>\n",
       "      <td>2013.000000</td>\n",
       "      <td>15.500000</td>\n",
       "      <td>105.722222</td>\n",
       "    </tr>\n",
       "    <tr>\n",
       "      <th>9</th>\n",
       "      <td>10</td>\n",
       "      <td>32.8257</td>\n",
       "      <td>-117.2501</td>\n",
       "      <td>149.7</td>\n",
       "      <td>0.021362</td>\n",
       "      <td>2013.000000</td>\n",
       "      <td>16.000000</td>\n",
       "      <td>289.222222</td>\n",
       "    </tr>\n",
       "    <tr>\n",
       "      <th>2</th>\n",
       "      <td>3</td>\n",
       "      <td>32.8257</td>\n",
       "      <td>-117.2501</td>\n",
       "      <td>149.7</td>\n",
       "      <td>0.029495</td>\n",
       "      <td>2013.014440</td>\n",
       "      <td>15.960289</td>\n",
       "      <td>75.184116</td>\n",
       "    </tr>\n",
       "    <tr>\n",
       "      <th>10</th>\n",
       "      <td>11</td>\n",
       "      <td>32.8257</td>\n",
       "      <td>-117.2501</td>\n",
       "      <td>149.7</td>\n",
       "      <td>0.033507</td>\n",
       "      <td>2013.000000</td>\n",
       "      <td>15.455224</td>\n",
       "      <td>319.679104</td>\n",
       "    </tr>\n",
       "    <tr>\n",
       "      <th>1</th>\n",
       "      <td>2</td>\n",
       "      <td>32.8257</td>\n",
       "      <td>-117.2501</td>\n",
       "      <td>149.7</td>\n",
       "      <td>0.054588</td>\n",
       "      <td>2013.792157</td>\n",
       "      <td>14.894118</td>\n",
       "      <td>45.894118</td>\n",
       "    </tr>\n",
       "    <tr>\n",
       "      <th>0</th>\n",
       "      <td>1</td>\n",
       "      <td>32.8257</td>\n",
       "      <td>-117.2501</td>\n",
       "      <td>149.7</td>\n",
       "      <td>0.069388</td>\n",
       "      <td>2013.996403</td>\n",
       "      <td>16.053957</td>\n",
       "      <td>16.053957</td>\n",
       "    </tr>\n",
       "    <tr>\n",
       "      <th>11</th>\n",
       "      <td>12</td>\n",
       "      <td>32.8257</td>\n",
       "      <td>-117.2501</td>\n",
       "      <td>149.7</td>\n",
       "      <td>0.086715</td>\n",
       "      <td>2013.010949</td>\n",
       "      <td>15.806569</td>\n",
       "      <td>350.018248</td>\n",
       "    </tr>\n",
       "  </tbody>\n",
       "</table>\n",
       "</div>"
      ],
      "text/plain": [
       "    MONTH  LATITUDE  LONGITUDE  ELEVATION      PRCP         YEAR        DAY  \\\n",
       "7       8   32.8257  -117.2501      149.7  0.001326  2013.000000  16.000000   \n",
       "5       6   32.8257  -117.2501      149.7  0.002622  2013.044944  15.438202   \n",
       "6       7   32.8257  -117.2501      149.7  0.006774  2013.000000  16.000000   \n",
       "8       9   32.8257  -117.2501      149.7  0.008863  2012.921569  16.007843   \n",
       "4       5   32.8257  -117.2501      149.7  0.017870  2013.014440  15.902527   \n",
       "3       4   32.8257  -117.2501      149.7  0.020333  2013.000000  15.500000   \n",
       "9      10   32.8257  -117.2501      149.7  0.021362  2013.000000  16.000000   \n",
       "2       3   32.8257  -117.2501      149.7  0.029495  2013.014440  15.960289   \n",
       "10     11   32.8257  -117.2501      149.7  0.033507  2013.000000  15.455224   \n",
       "1       2   32.8257  -117.2501      149.7  0.054588  2013.792157  14.894118   \n",
       "0       1   32.8257  -117.2501      149.7  0.069388  2013.996403  16.053957   \n",
       "11     12   32.8257  -117.2501      149.7  0.086715  2013.010949  15.806569   \n",
       "\n",
       "    DAY_OF_YEAR  \n",
       "7    228.222222  \n",
       "5    166.662921  \n",
       "6    197.222222  \n",
       "8    259.243137  \n",
       "4    136.126354  \n",
       "3    105.722222  \n",
       "9    289.222222  \n",
       "2     75.184116  \n",
       "10   319.679104  \n",
       "1     45.894118  \n",
       "0     16.053957  \n",
       "11   350.018248  "
      ]
     },
     "execution_count": 25,
     "metadata": {},
     "output_type": "execute_result"
    }
   ],
   "source": [
    "df.groupby(['MONTH'], as_index=False).mean().sort_values('PRCP')"
   ]
  },
  {
   "cell_type": "markdown",
   "metadata": {},
   "source": [
    "<span style='color:red'>Answer: The rainiest month was December.</span> "
   ]
  },
  {
   "cell_type": "markdown",
   "metadata": {},
   "source": [
    "Make boxplots by year and by month using the Seaborn function `boxplot()`. Hint: If you make a boxplot of your DataFrame without grouping, the boxplots will be centered on zero, because there are so many days with zero precipitation. Instead, use groupby to group the data by year *and* month (use a list containing these columns), set `as_index=False`, average over those groups, and save this as a new DataFrame; then use this for your boxplots."
   ]
  },
  {
   "cell_type": "code",
   "execution_count": 26,
   "metadata": {
    "scrolled": false
   },
   "outputs": [],
   "source": [
    "df_mean_by_month = df.groupby(['YEAR', 'MONTH'], as_index=False).mean()"
   ]
  },
  {
   "cell_type": "code",
   "execution_count": 27,
   "metadata": {},
   "outputs": [
    {
     "data": {
      "text/plain": [
       "Text(0,0.5,'Precipitation (mm)')"
      ]
     },
     "execution_count": 27,
     "metadata": {},
     "output_type": "execute_result"
    },
    {
     "data": {
      "image/png": "[encoded data removed]",
      "text/plain": [
       "<matplotlib.figure.Figure at 0x1a0a24fb00>"
      ]
     },
     "metadata": {},
     "output_type": "display_data"
    }
   ],
   "source": [
    "# Boxplot by month.\n",
    "sns.boxplot(x='MONTH', y='PRCP', data=df_mean_by_month)\n",
    "plt.xlabel('Month')\n",
    "plt.ylabel('Precipitation (mm)')"
   ]
  },
  {
   "cell_type": "markdown",
   "metadata": {},
   "source": [
    "<span style='color:red'>The distribution shows December was the wettest month (daily mean) overall. But it appears the wettest single month was in Feburary.</span>"
   ]
  },
  {
   "cell_type": "code",
   "execution_count": 28,
   "metadata": {},
   "outputs": [
    {
     "data": {
      "text/plain": [
       "Text(0,0.5,'Precipitation (mm)')"
      ]
     },
     "execution_count": 28,
     "metadata": {},
     "output_type": "execute_result"
    },
    {
     "data": {
      "image/png": "[encoded data removed]",
      "text/plain": [
       "<matplotlib.figure.Figure at 0x1a1365cd68>"
      ]
     },
     "metadata": {},
     "output_type": "display_data"
    }
   ],
   "source": [
    "# Boxplot by year.\n",
    "sns.boxplot(x='YEAR', y='PRCP', data=df_mean_by_month)\n",
    "plt.xlabel('Year')\n",
    "plt.ylabel('Precipitation (mm)')"
   ]
  },
  {
   "cell_type": "markdown",
   "metadata": {},
   "source": [
    "<span style='color:red'>The distribution shows 2010, 2015, and 2018 had the higest median month precipitation (daily mean). However, 2018 has only January and February, which are wet months! Based on the outliers, 2010, 2016, and 2017 had the wettest months.</span>"
   ]
  },
  {
   "cell_type": "code",
   "execution_count": 29,
   "metadata": {},
   "outputs": [
    {
     "data": {
      "text/html": [
       "<div>\n",
       "<style scoped>\n",
       "    .dataframe tbody tr th:only-of-type {\n",
       "        vertical-align: middle;\n",
       "    }\n",
       "\n",
       "    .dataframe tbody tr th {\n",
       "        vertical-align: top;\n",
       "    }\n",
       "\n",
       "    .dataframe thead th {\n",
       "        text-align: right;\n",
       "    }\n",
       "</style>\n",
       "<table border=\"1\" class=\"dataframe\">\n",
       "  <thead>\n",
       "    <tr style=\"text-align: right;\">\n",
       "      <th></th>\n",
       "      <th>YEAR</th>\n",
       "      <th>MONTH</th>\n",
       "      <th>LATITUDE</th>\n",
       "      <th>LONGITUDE</th>\n",
       "      <th>ELEVATION</th>\n",
       "      <th>PRCP</th>\n",
       "      <th>DAY</th>\n",
       "      <th>DAY_OF_YEAR</th>\n",
       "    </tr>\n",
       "  </thead>\n",
       "  <tbody>\n",
       "    <tr>\n",
       "      <th>96</th>\n",
       "      <td>2017</td>\n",
       "      <td>2</td>\n",
       "      <td>32.8257</td>\n",
       "      <td>-117.2501</td>\n",
       "      <td>149.7</td>\n",
       "      <td>0.216429</td>\n",
       "      <td>14.5</td>\n",
       "      <td>45.5</td>\n",
       "    </tr>\n",
       "    <tr>\n",
       "      <th>22</th>\n",
       "      <td>2010</td>\n",
       "      <td>12</td>\n",
       "      <td>32.8257</td>\n",
       "      <td>-117.2501</td>\n",
       "      <td>149.7</td>\n",
       "      <td>0.214516</td>\n",
       "      <td>16.0</td>\n",
       "      <td>350.0</td>\n",
       "    </tr>\n",
       "    <tr>\n",
       "      <th>11</th>\n",
       "      <td>2010</td>\n",
       "      <td>1</td>\n",
       "      <td>32.8257</td>\n",
       "      <td>-117.2501</td>\n",
       "      <td>149.7</td>\n",
       "      <td>0.169677</td>\n",
       "      <td>16.0</td>\n",
       "      <td>16.0</td>\n",
       "    </tr>\n",
       "    <tr>\n",
       "      <th>95</th>\n",
       "      <td>2017</td>\n",
       "      <td>1</td>\n",
       "      <td>32.8257</td>\n",
       "      <td>-117.2501</td>\n",
       "      <td>149.7</td>\n",
       "      <td>0.160000</td>\n",
       "      <td>16.0</td>\n",
       "      <td>16.0</td>\n",
       "    </tr>\n",
       "    <tr>\n",
       "      <th>94</th>\n",
       "      <td>2016</td>\n",
       "      <td>12</td>\n",
       "      <td>32.8257</td>\n",
       "      <td>-117.2501</td>\n",
       "      <td>149.7</td>\n",
       "      <td>0.150000</td>\n",
       "      <td>16.0</td>\n",
       "      <td>351.0</td>\n",
       "    </tr>\n",
       "  </tbody>\n",
       "</table>\n",
       "</div>"
      ],
      "text/plain": [
       "    YEAR  MONTH  LATITUDE  LONGITUDE  ELEVATION      PRCP   DAY  DAY_OF_YEAR\n",
       "96  2017      2   32.8257  -117.2501      149.7  0.216429  14.5         45.5\n",
       "22  2010     12   32.8257  -117.2501      149.7  0.214516  16.0        350.0\n",
       "11  2010      1   32.8257  -117.2501      149.7  0.169677  16.0         16.0\n",
       "95  2017      1   32.8257  -117.2501      149.7  0.160000  16.0         16.0\n",
       "94  2016     12   32.8257  -117.2501      149.7  0.150000  16.0        351.0"
      ]
     },
     "execution_count": 29,
     "metadata": {},
     "output_type": "execute_result"
    }
   ],
   "source": [
    "df_mean_by_month.sort_values('PRCP', ascending=False).head()"
   ]
  },
  {
   "cell_type": "markdown",
   "metadata": {},
   "source": [
    "<span style='color:red'>Sorting our new DataFrame by precipitation and viewing the top few rows, we can see that the wettest two months were February 2017 and December 2010.</span>"
   ]
  },
  {
   "cell_type": "markdown",
   "metadata": {},
   "source": [
    "#### Question 5 - Pivoting, stacking and unstacking"
   ]
  },
  {
   "cell_type": "markdown",
   "metadata": {},
   "source": [
    "Use pivot_table to produce a new DataFrame, where rows=years and columns=months, containing the mean precipitation of each month."
   ]
  },
  {
   "cell_type": "code",
   "execution_count": 30,
   "metadata": {},
   "outputs": [
    {
     "data": {
      "text/html": [
       "<div>\n",
       "<style scoped>\n",
       "    .dataframe tbody tr th:only-of-type {\n",
       "        vertical-align: middle;\n",
       "    }\n",
       "\n",
       "    .dataframe tbody tr th {\n",
       "        vertical-align: top;\n",
       "    }\n",
       "\n",
       "    .dataframe thead th {\n",
       "        text-align: right;\n",
       "    }\n",
       "</style>\n",
       "<table border=\"1\" class=\"dataframe\">\n",
       "  <thead>\n",
       "    <tr style=\"text-align: right;\">\n",
       "      <th>MONTH</th>\n",
       "      <th>1</th>\n",
       "      <th>2</th>\n",
       "      <th>3</th>\n",
       "      <th>4</th>\n",
       "      <th>5</th>\n",
       "      <th>6</th>\n",
       "      <th>7</th>\n",
       "      <th>8</th>\n",
       "      <th>9</th>\n",
       "      <th>10</th>\n",
       "      <th>11</th>\n",
       "      <th>12</th>\n",
       "    </tr>\n",
       "    <tr>\n",
       "      <th>YEAR</th>\n",
       "      <th></th>\n",
       "      <th></th>\n",
       "      <th></th>\n",
       "      <th></th>\n",
       "      <th></th>\n",
       "      <th></th>\n",
       "      <th></th>\n",
       "      <th></th>\n",
       "      <th></th>\n",
       "      <th></th>\n",
       "      <th></th>\n",
       "      <th></th>\n",
       "    </tr>\n",
       "  </thead>\n",
       "  <tbody>\n",
       "    <tr>\n",
       "      <th>2009</th>\n",
       "      <td>NaN</td>\n",
       "      <td>0.000000</td>\n",
       "      <td>0.007742</td>\n",
       "      <td>0.003000</td>\n",
       "      <td>0.006774</td>\n",
       "      <td>0.003704</td>\n",
       "      <td>0.000000</td>\n",
       "      <td>0.000323</td>\n",
       "      <td>0.001333</td>\n",
       "      <td>0.001290</td>\n",
       "      <td>0.011333</td>\n",
       "      <td>0.101613</td>\n",
       "    </tr>\n",
       "    <tr>\n",
       "      <th>2010</th>\n",
       "      <td>0.169677</td>\n",
       "      <td>0.088462</td>\n",
       "      <td>0.020000</td>\n",
       "      <td>0.064333</td>\n",
       "      <td>0.001935</td>\n",
       "      <td>0.002667</td>\n",
       "      <td>0.003548</td>\n",
       "      <td>0.000000</td>\n",
       "      <td>0.001923</td>\n",
       "      <td>0.080968</td>\n",
       "      <td>0.032333</td>\n",
       "      <td>0.214516</td>\n",
       "    </tr>\n",
       "    <tr>\n",
       "      <th>2011</th>\n",
       "      <td>0.027742</td>\n",
       "      <td>0.061538</td>\n",
       "      <td>0.022414</td>\n",
       "      <td>0.010000</td>\n",
       "      <td>0.025517</td>\n",
       "      <td>0.003000</td>\n",
       "      <td>0.000000</td>\n",
       "      <td>0.000000</td>\n",
       "      <td>0.001429</td>\n",
       "      <td>0.018065</td>\n",
       "      <td>0.108000</td>\n",
       "      <td>0.039032</td>\n",
       "    </tr>\n",
       "    <tr>\n",
       "      <th>2012</th>\n",
       "      <td>0.018065</td>\n",
       "      <td>0.057778</td>\n",
       "      <td>0.041613</td>\n",
       "      <td>0.053333</td>\n",
       "      <td>0.000645</td>\n",
       "      <td>0.001667</td>\n",
       "      <td>0.000323</td>\n",
       "      <td>0.001613</td>\n",
       "      <td>0.001333</td>\n",
       "      <td>0.042258</td>\n",
       "      <td>0.010000</td>\n",
       "      <td>0.121852</td>\n",
       "    </tr>\n",
       "    <tr>\n",
       "      <th>2013</th>\n",
       "      <td>0.047419</td>\n",
       "      <td>0.017143</td>\n",
       "      <td>0.038065</td>\n",
       "      <td>0.006000</td>\n",
       "      <td>0.016452</td>\n",
       "      <td>0.000333</td>\n",
       "      <td>0.001290</td>\n",
       "      <td>0.000323</td>\n",
       "      <td>0.000000</td>\n",
       "      <td>0.011613</td>\n",
       "      <td>0.002857</td>\n",
       "      <td>0.010000</td>\n",
       "    </tr>\n",
       "    <tr>\n",
       "      <th>2014</th>\n",
       "      <td>0.002258</td>\n",
       "      <td>0.037500</td>\n",
       "      <td>0.059032</td>\n",
       "      <td>0.018000</td>\n",
       "      <td>0.000000</td>\n",
       "      <td>0.000000</td>\n",
       "      <td>0.011290</td>\n",
       "      <td>0.006452</td>\n",
       "      <td>0.018000</td>\n",
       "      <td>0.000000</td>\n",
       "      <td>0.019333</td>\n",
       "      <td>0.105333</td>\n",
       "    </tr>\n",
       "    <tr>\n",
       "      <th>2015</th>\n",
       "      <td>0.016667</td>\n",
       "      <td>0.013571</td>\n",
       "      <td>0.032903</td>\n",
       "      <td>0.005333</td>\n",
       "      <td>0.040645</td>\n",
       "      <td>0.002000</td>\n",
       "      <td>0.044194</td>\n",
       "      <td>0.001290</td>\n",
       "      <td>0.035667</td>\n",
       "      <td>0.033226</td>\n",
       "      <td>0.067333</td>\n",
       "      <td>0.038710</td>\n",
       "    </tr>\n",
       "    <tr>\n",
       "      <th>2016</th>\n",
       "      <td>0.107419</td>\n",
       "      <td>0.015517</td>\n",
       "      <td>0.035161</td>\n",
       "      <td>0.018333</td>\n",
       "      <td>0.033226</td>\n",
       "      <td>0.000667</td>\n",
       "      <td>0.000000</td>\n",
       "      <td>0.000968</td>\n",
       "      <td>0.015667</td>\n",
       "      <td>0.004839</td>\n",
       "      <td>0.042667</td>\n",
       "      <td>0.150000</td>\n",
       "    </tr>\n",
       "    <tr>\n",
       "      <th>2017</th>\n",
       "      <td>0.160000</td>\n",
       "      <td>0.216429</td>\n",
       "      <td>0.008065</td>\n",
       "      <td>0.004667</td>\n",
       "      <td>0.036129</td>\n",
       "      <td>0.009667</td>\n",
       "      <td>0.000323</td>\n",
       "      <td>0.000968</td>\n",
       "      <td>0.000476</td>\n",
       "      <td>0.000000</td>\n",
       "      <td>0.005667</td>\n",
       "      <td>0.004516</td>\n",
       "    </tr>\n",
       "    <tr>\n",
       "      <th>2018</th>\n",
       "      <td>0.073548</td>\n",
       "      <td>0.001667</td>\n",
       "      <td>NaN</td>\n",
       "      <td>NaN</td>\n",
       "      <td>NaN</td>\n",
       "      <td>NaN</td>\n",
       "      <td>NaN</td>\n",
       "      <td>NaN</td>\n",
       "      <td>NaN</td>\n",
       "      <td>NaN</td>\n",
       "      <td>NaN</td>\n",
       "      <td>NaN</td>\n",
       "    </tr>\n",
       "  </tbody>\n",
       "</table>\n",
       "</div>"
      ],
      "text/plain": [
       "MONTH        1         2         3         4         5         6         7   \\\n",
       "YEAR                                                                          \n",
       "2009        NaN  0.000000  0.007742  0.003000  0.006774  0.003704  0.000000   \n",
       "2010   0.169677  0.088462  0.020000  0.064333  0.001935  0.002667  0.003548   \n",
       "2011   0.027742  0.061538  0.022414  0.010000  0.025517  0.003000  0.000000   \n",
       "2012   0.018065  0.057778  0.041613  0.053333  0.000645  0.001667  0.000323   \n",
       "2013   0.047419  0.017143  0.038065  0.006000  0.016452  0.000333  0.001290   \n",
       "2014   0.002258  0.037500  0.059032  0.018000  0.000000  0.000000  0.011290   \n",
       "2015   0.016667  0.013571  0.032903  0.005333  0.040645  0.002000  0.044194   \n",
       "2016   0.107419  0.015517  0.035161  0.018333  0.033226  0.000667  0.000000   \n",
       "2017   0.160000  0.216429  0.008065  0.004667  0.036129  0.009667  0.000323   \n",
       "2018   0.073548  0.001667       NaN       NaN       NaN       NaN       NaN   \n",
       "\n",
       "MONTH        8         9         10        11        12  \n",
       "YEAR                                                     \n",
       "2009   0.000323  0.001333  0.001290  0.011333  0.101613  \n",
       "2010   0.000000  0.001923  0.080968  0.032333  0.214516  \n",
       "2011   0.000000  0.001429  0.018065  0.108000  0.039032  \n",
       "2012   0.001613  0.001333  0.042258  0.010000  0.121852  \n",
       "2013   0.000323  0.000000  0.011613  0.002857  0.010000  \n",
       "2014   0.006452  0.018000  0.000000  0.019333  0.105333  \n",
       "2015   0.001290  0.035667  0.033226  0.067333  0.038710  \n",
       "2016   0.000968  0.015667  0.004839  0.042667  0.150000  \n",
       "2017   0.000968  0.000476  0.000000  0.005667  0.004516  \n",
       "2018        NaN       NaN       NaN       NaN       NaN  "
      ]
     },
     "execution_count": 30,
     "metadata": {},
     "output_type": "execute_result"
    }
   ],
   "source": [
    "# Using pivot_table to get the mean of each month in a table where rows=years and columns=months\n",
    "precip = df.pivot_table(index='YEAR', columns='MONTH', values='PRCP', aggfunc='mean')\n",
    "precip"
   ]
  },
  {
   "cell_type": "markdown",
   "metadata": {},
   "source": [
    "Draw a heatmap of years x months where each square is a month colored by mean precipitation. Adjust the colormap to highlight months with heavy precipitation. Hint: Seaborn's `heatmap()` function makes this very easy."
   ]
  },
  {
   "cell_type": "code",
   "execution_count": 31,
   "metadata": {},
   "outputs": [
    {
     "data": {
      "text/plain": [
       "<matplotlib.axes._subplots.AxesSubplot at 0x1a0a2872b0>"
      ]
     },
     "execution_count": 31,
     "metadata": {},
     "output_type": "execute_result"
    },
    {
     "data": {
      "image/png": "[encoded data removed]",
      "text/plain": [
       "<matplotlib.figure.Figure at 0x108f0ff60>"
      ]
     },
     "metadata": {},
     "output_type": "display_data"
    }
   ],
   "source": [
    "# Heatmap colored by precipitation\n",
    "fig, ax = plt.subplots(figsize=(9, 6))\n",
    "sns.heatmap(precip, annot=False, fmt='f', linewidths=.5, ax=ax, cmap='Blues')"
   ]
  },
  {
   "cell_type": "markdown",
   "metadata": {},
   "source": [
    "Stack the monthly precipitation table using `stack()`. View the values for 2017. Which month had the most precipitation in 2017? Describe the distribution statistics for all months using `describe()`. How many months are included in this dataset? What was the median month (daily average) value in this time period?"
   ]
  },
  {
   "cell_type": "code",
   "execution_count": 32,
   "metadata": {},
   "outputs": [],
   "source": [
    "# stack precipitation pivot table by year-month indexes\n",
    "precip_stack = precip.stack()"
   ]
  },
  {
   "cell_type": "code",
   "execution_count": 33,
   "metadata": {},
   "outputs": [
    {
     "data": {
      "text/plain": [
       "MONTH\n",
       "1     0.160000\n",
       "2     0.216429\n",
       "3     0.008065\n",
       "4     0.004667\n",
       "5     0.036129\n",
       "6     0.009667\n",
       "7     0.000323\n",
       "8     0.000968\n",
       "9     0.000476\n",
       "10    0.000000\n",
       "11    0.005667\n",
       "12    0.004516\n",
       "dtype: float64"
      ]
     },
     "execution_count": 33,
     "metadata": {},
     "output_type": "execute_result"
    }
   ],
   "source": [
    "# daily average for 2017, month by month\n",
    "precip_stack[2017]"
   ]
  },
  {
   "cell_type": "markdown",
   "metadata": {},
   "source": [
    "<span style='color:red'>February had the most precipitation of any month in 2017.</span>"
   ]
  },
  {
   "cell_type": "code",
   "execution_count": 34,
   "metadata": {
    "scrolled": true
   },
   "outputs": [
    {
     "data": {
      "text/plain": [
       "count    109.000000\n",
       "mean       0.029280\n",
       "std        0.044097\n",
       "min        0.000000\n",
       "25%        0.001613\n",
       "50%        0.011290\n",
       "75%        0.038065\n",
       "max        0.216429\n",
       "dtype: float64"
      ]
     },
     "execution_count": 34,
     "metadata": {},
     "output_type": "execute_result"
    }
   ],
   "source": [
    "# distribution statistics for mean daily averages by month\n",
    "precip_stack.describe()"
   ]
  },
  {
   "cell_type": "markdown",
   "metadata": {},
   "source": [
    "<span style='color:red'>There are 109 months in this dataset. The median month (daily average) value was 0.011 inches of precipitation.</span>"
   ]
  },
  {
   "cell_type": "markdown",
   "metadata": {},
   "source": [
    "Use `unstack()` to stack precipitation pivot table by month and then year. View the values for December. Which year had the wettest December?"
   ]
  },
  {
   "cell_type": "code",
   "execution_count": 35,
   "metadata": {},
   "outputs": [],
   "source": [
    "# (un)stack precipitation pivot table by month-year indexes\n",
    "precip_unstack = precip.unstack()"
   ]
  },
  {
   "cell_type": "code",
   "execution_count": 36,
   "metadata": {
    "scrolled": true
   },
   "outputs": [
    {
     "data": {
      "text/plain": [
       "YEAR\n",
       "2009    0.101613\n",
       "2010    0.214516\n",
       "2011    0.039032\n",
       "2012    0.121852\n",
       "2013    0.010000\n",
       "2014    0.105333\n",
       "2015    0.038710\n",
       "2016    0.150000\n",
       "2017    0.004516\n",
       "2018         NaN\n",
       "dtype: float64"
      ]
     },
     "execution_count": 36,
     "metadata": {},
     "output_type": "execute_result"
    }
   ],
   "source": [
    "# daily average for December, year by year\n",
    "precip_unstack[12]"
   ]
  },
  {
   "cell_type": "markdown",
   "metadata": {},
   "source": [
    "<span style='color:red'>The wettest December (by daily average) was in 2010.</span>"
   ]
  },
  {
   "cell_type": "markdown",
   "metadata": {
    "collapsed": true
   },
   "source": [
    "**Postscript:** Read more about [San Diego's odd 2010 weather](http://www.sandiegouniontribune.com/sdut-highlights-san-diegos-wild-and-weird-2010-weather-2011jan02-htmlstory.html)."
   ]
  }
 ],
 "metadata": {
  "anaconda-cloud": {},
  "kernelspec": {
   "display_name": "Python 3",
   "language": "python",
   "name": "python3"
  },
  "language_info": {
   "codemirror_mode": {
    "name": "ipython",
    "version": 3
   },
   "file_extension": ".py",
   "mimetype": "text/x-python",
   "name": "python",
   "nbconvert_exporter": "python",
   "pygments_lexer": "ipython3",
   "version": "3.6.4"
  }
 },
 "nbformat": 4,
 "nbformat_minor": 1
}
